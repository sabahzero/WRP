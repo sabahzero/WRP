{
 "cells": [
  {
   "cell_type": "code",
   "execution_count": 1,
   "metadata": {},
   "outputs": [
    {
     "ename": "ModuleNotFoundError",
     "evalue": "No module named 'data_tools.df_processing'",
     "output_type": "error",
     "traceback": [
      "\u001b[0;31m---------------------------------------------------------------------------\u001b[0m",
      "\u001b[0;31mModuleNotFoundError\u001b[0m                       Traceback (most recent call last)",
      "\u001b[0;32m<ipython-input-1-0c545d52ab83>\u001b[0m in \u001b[0;36m<module>\u001b[0;34m\u001b[0m\n\u001b[1;32m      6\u001b[0m \u001b[0;32mfrom\u001b[0m \u001b[0mpathlib\u001b[0m \u001b[0;32mimport\u001b[0m \u001b[0mPath\u001b[0m\u001b[0;34m\u001b[0m\u001b[0;34m\u001b[0m\u001b[0m\n\u001b[1;32m      7\u001b[0m \u001b[0;32mfrom\u001b[0m \u001b[0mitertools\u001b[0m \u001b[0;32mimport\u001b[0m \u001b[0mchain\u001b[0m\u001b[0;34m\u001b[0m\u001b[0;34m\u001b[0m\u001b[0m\n\u001b[0;32m----> 8\u001b[0;31m \u001b[0;32mfrom\u001b[0m \u001b[0mdata_tools\u001b[0m\u001b[0;34m.\u001b[0m\u001b[0mdf_processing\u001b[0m \u001b[0;32mimport\u001b[0m \u001b[0mchar_combine_iter\u001b[0m\u001b[0;34m,\u001b[0m \u001b[0madd_curi\u001b[0m\u001b[0;34m\u001b[0m\u001b[0;34m\u001b[0m\u001b[0m\n\u001b[0m\u001b[1;32m      9\u001b[0m \u001b[0;32mfrom\u001b[0m \u001b[0mdata_tools\u001b[0m\u001b[0;34m.\u001b[0m\u001b[0mplotting\u001b[0m \u001b[0;32mimport\u001b[0m \u001b[0mcount_plot_h\u001b[0m\u001b[0;34m\u001b[0m\u001b[0;34m\u001b[0m\u001b[0m\n\u001b[1;32m     10\u001b[0m \u001b[0;32mfrom\u001b[0m \u001b[0mdata_tools\u001b[0m\u001b[0;34m.\u001b[0m\u001b[0mwiki\u001b[0m \u001b[0;32mimport\u001b[0m \u001b[0mexecute_sparql_query\u001b[0m\u001b[0;34m,\u001b[0m \u001b[0mnode_query_pipeline\u001b[0m\u001b[0;34m,\u001b[0m \u001b[0mstandardize_nodes\u001b[0m\u001b[0;34m,\u001b[0m \u001b[0mstandardize_edges\u001b[0m\u001b[0;34m\u001b[0m\u001b[0;34m\u001b[0m\u001b[0m\n",
      "\u001b[0;31mModuleNotFoundError\u001b[0m: No module named 'data_tools.df_processing'"
     ]
    }
   ],
   "source": [
    "%matplotlib inline\n",
    "\n",
    "import functools\n",
    "import pandas as pd\n",
    "from tqdm import tqdm\n",
    "from pathlib import Path\n",
    "from itertools import chain\n",
    "from data_tools.df_processing import char_combine_iter, add_curi\n",
    "from data_tools.plotting import count_plot_h\n",
    "from data_tools.wiki import execute_sparql_query, node_query_pipeline, standardize_nodes, standardize_edges"
   ]
  },
  {
   "cell_type": "code",
   "execution_count": 2,
   "metadata": {},
   "outputs": [],
   "source": [
    "def process_taxa(edges):\n",
    "    nodes = edges.drop_duplicates(subset=['taxon', 'tax_id'])[['taxon', 'taxonLabel', 'tax_id']]\n",
    "    nodes = add_curi(nodes, {'tax_id': 'NCBITaxon'})\n",
    "    return standardize_nodes(nodes, 'taxon')"
   ]
  },
  {
   "cell_type": "code",
   "execution_count": 3,
   "metadata": {},
   "outputs": [],
   "source": [
    "prev_dir = Path('../2_pipeline/01a_WikiData_Nodes/out/').resolve()\n",
    "prev_nodes = pd.read_csv(prev_dir.joinpath('nodes.csv'))"
   ]
  },
  {
   "cell_type": "code",
   "execution_count": 4,
   "metadata": {},
   "outputs": [],
   "source": [
    "nodes = []\n",
    "edges = []"
   ]
  },
  {
   "cell_type": "markdown",
   "metadata": {},
   "source": [
    "# Begin Queries\n"
   ]
  },
  {
   "cell_type": "markdown",
   "metadata": {},
   "source": [
    "## Taxon Causes Disease (2 syntax, 2 approches)\n",
    "\n",
    "Theyre are two syntax for taxon causes disease that exist in the WikiData data model:\n",
    "\n",
    "1. Direct statements:  \n",
    "    Taxon has-effect Disease... or Disease has-cause Taxon \n",
    "\n",
    "\n",
    "2. Qualifier Statements:  \n",
    "    Disease has-cause infection (qual: of Taxon) \n",
    "    \n",
    "There are also two approaches:\n",
    "\n",
    "1. Direct links:      \n",
    "    Taxon has-effect Disease\n",
    "\n",
    "\n",
    "2. Punning down to a specific taxonomic level:  \n",
    "    Partent_taxon has-effect Disease  \n",
    "    Taxon has-parent* Parent_taxon  \n",
    "    Taxon has-rank Species \n",
    "\n",
    "### Syntax 1: disease has-cause infection - qualifier: of TAXON"
   ]
  },
  {
   "cell_type": "code",
   "execution_count": 5,
   "metadata": {},
   "outputs": [],
   "source": [
    "q = \"\"\"    SELECT DISTINCT ?disease ?taxon ?taxonLabel ?tax_id\n",
    "    WHERE \n",
    "    {\n",
    "     {?disease wdt:P31 wd:Q12136}UNION{?disease wdt:P699 ?doid}.\n",
    "\n",
    "     ?disease p:P828 [ps:P828 wd:Q166231;\n",
    "                       pq:P642 ?taxon;].\n",
    "      OPTIONAL{?taxon wdt:P685 ?tax_id}.\n",
    "          \n",
    "      SERVICE wikibase:label { bd:serviceParam wikibase:language \"[AUTO_LANGUAGE],en\". }\n",
    "    }\"\"\""
   ]
  },
  {
   "cell_type": "code",
   "execution_count": 6,
   "metadata": {
    "scrolled": true
   },
   "outputs": [
    {
     "data": {
      "text/html": [
       "<div>\n",
       "<style scoped>\n",
       "    .dataframe tbody tr th:only-of-type {\n",
       "        vertical-align: middle;\n",
       "    }\n",
       "\n",
       "    .dataframe tbody tr th {\n",
       "        vertical-align: top;\n",
       "    }\n",
       "\n",
       "    .dataframe thead th {\n",
       "        text-align: right;\n",
       "    }\n",
       "</style>\n",
       "<table border=\"1\" class=\"dataframe\">\n",
       "  <thead>\n",
       "    <tr style=\"text-align: right;\">\n",
       "      <th></th>\n",
       "      <th>start_id</th>\n",
       "      <th>end_id</th>\n",
       "      <th>type</th>\n",
       "      <th>dsrc_type</th>\n",
       "    </tr>\n",
       "  </thead>\n",
       "  <tbody>\n",
       "    <tr>\n",
       "      <th>0</th>\n",
       "      <td>Q311109</td>\n",
       "      <td>Q16333787</td>\n",
       "      <td>causes</td>\n",
       "      <td>crowd_sourced</td>\n",
       "    </tr>\n",
       "    <tr>\n",
       "      <th>1</th>\n",
       "      <td>Q3933465</td>\n",
       "      <td>Q18975593</td>\n",
       "      <td>causes</td>\n",
       "      <td>crowd_sourced</td>\n",
       "    </tr>\n",
       "    <tr>\n",
       "      <th>2</th>\n",
       "      <td>Q5161050</td>\n",
       "      <td>Q5161045</td>\n",
       "      <td>causes</td>\n",
       "      <td>crowd_sourced</td>\n",
       "    </tr>\n",
       "    <tr>\n",
       "      <th>3</th>\n",
       "      <td>Q1883623</td>\n",
       "      <td>Q19000538</td>\n",
       "      <td>causes</td>\n",
       "      <td>crowd_sourced</td>\n",
       "    </tr>\n",
       "    <tr>\n",
       "      <th>4</th>\n",
       "      <td>Q12270752</td>\n",
       "      <td>Q18553237</td>\n",
       "      <td>causes</td>\n",
       "      <td>crowd_sourced</td>\n",
       "    </tr>\n",
       "  </tbody>\n",
       "</table>\n",
       "</div>"
      ],
      "text/plain": [
       "    start_id     end_id    type      dsrc_type\n",
       "0    Q311109  Q16333787  causes  crowd_sourced\n",
       "1   Q3933465  Q18975593  causes  crowd_sourced\n",
       "2   Q5161050   Q5161045  causes  crowd_sourced\n",
       "3   Q1883623  Q19000538  causes  crowd_sourced\n",
       "4  Q12270752  Q18553237  causes  crowd_sourced"
      ]
     },
     "execution_count": 6,
     "metadata": {},
     "output_type": "execute_result"
    }
   ],
   "source": [
    "qr = execute_sparql_query(q)\n",
    "tax_nodes = process_taxa(qr)\n",
    "edge_res = standardize_edges(qr, 'taxon', 'disease', 'causes')\n",
    "\n",
    "nodes.append(tax_nodes)\n",
    "edges.append(edge_res)\n",
    "\n",
    "edge_res.head()"
   ]
  },
  {
   "cell_type": "code",
   "execution_count": 7,
   "metadata": {},
   "outputs": [
    {
     "data": {
      "text/html": [
       "<div>\n",
       "<style scoped>\n",
       "    .dataframe tbody tr th:only-of-type {\n",
       "        vertical-align: middle;\n",
       "    }\n",
       "\n",
       "    .dataframe tbody tr th {\n",
       "        vertical-align: top;\n",
       "    }\n",
       "\n",
       "    .dataframe thead th {\n",
       "        text-align: right;\n",
       "    }\n",
       "</style>\n",
       "<table border=\"1\" class=\"dataframe\">\n",
       "  <thead>\n",
       "    <tr style=\"text-align: right;\">\n",
       "      <th></th>\n",
       "      <th>id</th>\n",
       "      <th>name</th>\n",
       "      <th>label</th>\n",
       "      <th>xrefs</th>\n",
       "    </tr>\n",
       "  </thead>\n",
       "  <tbody>\n",
       "    <tr>\n",
       "      <th>0</th>\n",
       "      <td>Q1010102</td>\n",
       "      <td>Bunyaviridae</td>\n",
       "      <td>Taxon</td>\n",
       "      <td></td>\n",
       "    </tr>\n",
       "    <tr>\n",
       "      <th>1</th>\n",
       "      <td>Q1026758</td>\n",
       "      <td>Caliciviridae</td>\n",
       "      <td>Taxon</td>\n",
       "      <td>NCBITaxon:11974</td>\n",
       "    </tr>\n",
       "    <tr>\n",
       "      <th>2</th>\n",
       "      <td>Q10457821</td>\n",
       "      <td>Conidiobolus coronatus</td>\n",
       "      <td>Taxon</td>\n",
       "      <td>NCBITaxon:34488</td>\n",
       "    </tr>\n",
       "    <tr>\n",
       "      <th>3</th>\n",
       "      <td>Q10462705</td>\n",
       "      <td>Cryptostroma corticale</td>\n",
       "      <td>Taxon</td>\n",
       "      <td>NCBITaxon:1463975</td>\n",
       "    </tr>\n",
       "    <tr>\n",
       "      <th>4</th>\n",
       "      <td>Q1052913</td>\n",
       "      <td>human respiratory syncytial virus</td>\n",
       "      <td>Taxon</td>\n",
       "      <td>NCBITaxon:12814</td>\n",
       "    </tr>\n",
       "  </tbody>\n",
       "</table>\n",
       "</div>"
      ],
      "text/plain": [
       "          id                               name  label              xrefs\n",
       "0   Q1010102                       Bunyaviridae  Taxon                   \n",
       "1   Q1026758                      Caliciviridae  Taxon    NCBITaxon:11974\n",
       "2  Q10457821             Conidiobolus coronatus  Taxon    NCBITaxon:34488\n",
       "3  Q10462705             Cryptostroma corticale  Taxon  NCBITaxon:1463975\n",
       "4   Q1052913  human respiratory syncytial virus  Taxon    NCBITaxon:12814"
      ]
     },
     "execution_count": 7,
     "metadata": {},
     "output_type": "execute_result"
    }
   ],
   "source": [
    "tax_nodes.head()"
   ]
  },
  {
   "cell_type": "markdown",
   "metadata": {},
   "source": [
    "### Syntax 2: disease has-cause TAXON or TAXON has-effect Disease"
   ]
  },
  {
   "cell_type": "code",
   "execution_count": 8,
   "metadata": {},
   "outputs": [],
   "source": [
    "q = \"\"\"    SELECT DISTINCT ?disease ?diseaseLabel ?doid ?taxon ?taxonLabel ?tax_id\n",
    "    WHERE \n",
    "    {\n",
    "       {?disease wdt:P31 wd:Q12136}UNION{?disease wdt:P699 ?doid}.\n",
    "      \n",
    "        #?taxon wdt:P31 wd:Q16521.\n",
    "        ?taxon wdt:P685 ?tax_id. \n",
    "      \n",
    "       {?disease wdt:P828 ?taxon}UNION{?taxon wdt:P1542 ?disease}.\n",
    "      \n",
    "        OPTIONAL {?disease wdt:P699 ?doid.}\n",
    "      \n",
    "      SERVICE wikibase:label { bd:serviceParam wikibase:language \"[AUTO_LANGUAGE],en\". }\n",
    "    }\"\"\""
   ]
  },
  {
   "cell_type": "code",
   "execution_count": 9,
   "metadata": {},
   "outputs": [],
   "source": [
    "q = \"\"\"    SELECT DISTINCT ?disease ?diseaseLabel ?doid ?taxon ?taxonLabel ?tax_id\n",
    "    WHERE \n",
    "    {\n",
    "       {?disease wdt:P31 wd:Q12136}UNION{?disease wdt:P699 ?doid}.\n",
    "      \n",
    "        #?taxon wdt:P31 wd:Q16521.\n",
    "        ?taxon wdt:P685 ?tax_id. \n",
    "      \n",
    "       {?disease wdt:P828 ?taxon}UNION{?taxon wdt:P1542 ?disease}.\n",
    "      \n",
    "        OPTIONAL {?disease wdt:P699 ?doid.}\n",
    "      \n",
    "      SERVICE wikibase:label { bd:serviceParam wikibase:language \"[AUTO_LANGUAGE],en\". }\n",
    "    }\"\"\""
   ]
  },
  {
   "cell_type": "code",
   "execution_count": 10,
   "metadata": {},
   "outputs": [
    {
     "data": {
      "text/html": [
       "<div>\n",
       "<style scoped>\n",
       "    .dataframe tbody tr th:only-of-type {\n",
       "        vertical-align: middle;\n",
       "    }\n",
       "\n",
       "    .dataframe tbody tr th {\n",
       "        vertical-align: top;\n",
       "    }\n",
       "\n",
       "    .dataframe thead th {\n",
       "        text-align: right;\n",
       "    }\n",
       "</style>\n",
       "<table border=\"1\" class=\"dataframe\">\n",
       "  <thead>\n",
       "    <tr style=\"text-align: right;\">\n",
       "      <th></th>\n",
       "      <th>start_id</th>\n",
       "      <th>end_id</th>\n",
       "      <th>type</th>\n",
       "      <th>dsrc_type</th>\n",
       "    </tr>\n",
       "  </thead>\n",
       "  <tbody>\n",
       "    <tr>\n",
       "      <th>0</th>\n",
       "      <td>Q614156</td>\n",
       "      <td>Q129104</td>\n",
       "      <td>causes</td>\n",
       "      <td>crowd_sourced</td>\n",
       "    </tr>\n",
       "    <tr>\n",
       "      <th>1</th>\n",
       "      <td>Q1142751</td>\n",
       "      <td>Q156103</td>\n",
       "      <td>causes</td>\n",
       "      <td>crowd_sourced</td>\n",
       "    </tr>\n",
       "    <tr>\n",
       "      <th>2</th>\n",
       "      <td>Q33244</td>\n",
       "      <td>Q18966240</td>\n",
       "      <td>causes</td>\n",
       "      <td>crowd_sourced</td>\n",
       "    </tr>\n",
       "    <tr>\n",
       "      <th>3</th>\n",
       "      <td>Q14276794</td>\n",
       "      <td>Q326638</td>\n",
       "      <td>causes</td>\n",
       "      <td>crowd_sourced</td>\n",
       "    </tr>\n",
       "    <tr>\n",
       "      <th>4</th>\n",
       "      <td>Q309471</td>\n",
       "      <td>Q47790</td>\n",
       "      <td>causes</td>\n",
       "      <td>crowd_sourced</td>\n",
       "    </tr>\n",
       "  </tbody>\n",
       "</table>\n",
       "</div>"
      ],
      "text/plain": [
       "    start_id     end_id    type      dsrc_type\n",
       "0    Q614156    Q129104  causes  crowd_sourced\n",
       "1   Q1142751    Q156103  causes  crowd_sourced\n",
       "2     Q33244  Q18966240  causes  crowd_sourced\n",
       "3  Q14276794    Q326638  causes  crowd_sourced\n",
       "4    Q309471     Q47790  causes  crowd_sourced"
      ]
     },
     "execution_count": 10,
     "metadata": {},
     "output_type": "execute_result"
    }
   ],
   "source": [
    "qr = execute_sparql_query(q)\n",
    "tax_nodes = process_taxa(qr)\n",
    "edge_res = standardize_edges(qr, 'taxon', 'disease', 'causes')\n",
    "\n",
    "nodes.append(tax_nodes)\n",
    "edges.append(edge_res)\n",
    "\n",
    "edge_res.head()"
   ]
  },
  {
   "cell_type": "code",
   "execution_count": 11,
   "metadata": {},
   "outputs": [
    {
     "data": {
      "text/html": [
       "<div>\n",
       "<style scoped>\n",
       "    .dataframe tbody tr th:only-of-type {\n",
       "        vertical-align: middle;\n",
       "    }\n",
       "\n",
       "    .dataframe tbody tr th {\n",
       "        vertical-align: top;\n",
       "    }\n",
       "\n",
       "    .dataframe thead th {\n",
       "        text-align: right;\n",
       "    }\n",
       "</style>\n",
       "<table border=\"1\" class=\"dataframe\">\n",
       "  <thead>\n",
       "    <tr style=\"text-align: right;\">\n",
       "      <th></th>\n",
       "      <th>id</th>\n",
       "      <th>name</th>\n",
       "      <th>label</th>\n",
       "      <th>xrefs</th>\n",
       "    </tr>\n",
       "  </thead>\n",
       "  <tbody>\n",
       "    <tr>\n",
       "      <th>0</th>\n",
       "      <td>Q1003460</td>\n",
       "      <td>Francisella tularensis</td>\n",
       "      <td>Taxon</td>\n",
       "      <td>NCBITaxon:263</td>\n",
       "    </tr>\n",
       "    <tr>\n",
       "      <th>1</th>\n",
       "      <td>Q1052913</td>\n",
       "      <td>human respiratory syncytial virus</td>\n",
       "      <td>Taxon</td>\n",
       "      <td>NCBITaxon:12814</td>\n",
       "    </tr>\n",
       "  </tbody>\n",
       "</table>\n",
       "</div>"
      ],
      "text/plain": [
       "         id                               name  label            xrefs\n",
       "0  Q1003460             Francisella tularensis  Taxon    NCBITaxon:263\n",
       "1  Q1052913  human respiratory syncytial virus  Taxon  NCBITaxon:12814"
      ]
     },
     "execution_count": 11,
     "metadata": {},
     "output_type": "execute_result"
    }
   ],
   "source": [
    "tax_nodes.head(2)"
   ]
  },
  {
   "cell_type": "markdown",
   "metadata": {},
   "source": [
    "### Syntax 1, mode 2: disease has-cause infection - qualifier: of TAXON -> extend down parent taxa to SPECIES LEVEL"
   ]
  },
  {
   "cell_type": "code",
   "execution_count": 12,
   "metadata": {},
   "outputs": [],
   "source": [
    "q = \"\"\"    SELECT DISTINCT ?disease ?diseaseLabel ?doid ?parent_tax ?parent_taxLabel ?par_taxid ?taxon ?taxonLabel ?tax_id\n",
    "    WHERE \n",
    "    {\n",
    "      {?disease wdt:P31 wd:Q12136}UNION{?disease wdt:P699 ?doid}.\n",
    "\n",
    "      \n",
    "      ?disease p:P828 [ps:P828 wd:Q166231;\n",
    "                       pq:P642 ?parent_tax;].\n",
    "      OPTIONAL{?disease wdt:P699 ?doid}.\n",
    "      OPTIONAL{?parent_tax wdt:P685 ?par_taxid}.\n",
    "      \n",
    "      # No kingdoms\n",
    "      FILTER NOT EXISTS {?parent_tax wdt:P105 wd:Q36732}.\n",
    "      # No Superphyla\n",
    "      FILTER NOT EXISTS {?parent_tax wdt:P105 wd:Q3978005}.\n",
    "\n",
    "      \n",
    "      {?taxon wdt:P171+ ?parent_tax}UNION{?parent_tax wdt:P171+ ?taxon}\n",
    "      ?taxon wdt:P105 wd:Q7432 .\n",
    "      ?taxon wdt:P685 ?tax_id\n",
    "          \n",
    "      SERVICE wikibase:label { bd:serviceParam wikibase:language \"[AUTO_LANGUAGE],en\". }\n",
    "    }\"\"\""
   ]
  },
  {
   "cell_type": "code",
   "execution_count": 13,
   "metadata": {
    "scrolled": true
   },
   "outputs": [
    {
     "data": {
      "text/html": [
       "<div>\n",
       "<style scoped>\n",
       "    .dataframe tbody tr th:only-of-type {\n",
       "        vertical-align: middle;\n",
       "    }\n",
       "\n",
       "    .dataframe tbody tr th {\n",
       "        vertical-align: top;\n",
       "    }\n",
       "\n",
       "    .dataframe thead th {\n",
       "        text-align: right;\n",
       "    }\n",
       "</style>\n",
       "<table border=\"1\" class=\"dataframe\">\n",
       "  <thead>\n",
       "    <tr style=\"text-align: right;\">\n",
       "      <th></th>\n",
       "      <th>start_id</th>\n",
       "      <th>end_id</th>\n",
       "      <th>type</th>\n",
       "      <th>dsrc_type</th>\n",
       "      <th>comp_type</th>\n",
       "    </tr>\n",
       "  </thead>\n",
       "  <tbody>\n",
       "    <tr>\n",
       "      <th>0</th>\n",
       "      <td>Q26299555</td>\n",
       "      <td>Q936236</td>\n",
       "      <td>causes</td>\n",
       "      <td>computed</td>\n",
       "      <td>punning</td>\n",
       "    </tr>\n",
       "    <tr>\n",
       "      <th>1</th>\n",
       "      <td>Q26299337</td>\n",
       "      <td>Q936236</td>\n",
       "      <td>causes</td>\n",
       "      <td>computed</td>\n",
       "      <td>punning</td>\n",
       "    </tr>\n",
       "    <tr>\n",
       "      <th>2</th>\n",
       "      <td>Q26299525</td>\n",
       "      <td>Q936236</td>\n",
       "      <td>causes</td>\n",
       "      <td>computed</td>\n",
       "      <td>punning</td>\n",
       "    </tr>\n",
       "    <tr>\n",
       "      <th>3</th>\n",
       "      <td>Q26299459</td>\n",
       "      <td>Q936236</td>\n",
       "      <td>causes</td>\n",
       "      <td>computed</td>\n",
       "      <td>punning</td>\n",
       "    </tr>\n",
       "    <tr>\n",
       "      <th>4</th>\n",
       "      <td>Q26299470</td>\n",
       "      <td>Q936236</td>\n",
       "      <td>causes</td>\n",
       "      <td>computed</td>\n",
       "      <td>punning</td>\n",
       "    </tr>\n",
       "  </tbody>\n",
       "</table>\n",
       "</div>"
      ],
      "text/plain": [
       "    start_id   end_id    type dsrc_type comp_type\n",
       "0  Q26299555  Q936236  causes  computed   punning\n",
       "1  Q26299337  Q936236  causes  computed   punning\n",
       "2  Q26299525  Q936236  causes  computed   punning\n",
       "3  Q26299459  Q936236  causes  computed   punning\n",
       "4  Q26299470  Q936236  causes  computed   punning"
      ]
     },
     "execution_count": 13,
     "metadata": {},
     "output_type": "execute_result"
    }
   ],
   "source": [
    "qr = execute_sparql_query(q)\n",
    "tax_nodes = process_taxa(qr)\n",
    "edge_res = standardize_edges(qr, 'taxon', 'disease', 'causes', 'computed')\n",
    "edge_res['comp_type'] = 'punning'\n",
    "\n",
    "nodes.append(tax_nodes)\n",
    "edges.append(edge_res)\n",
    "\n",
    "edge_res.head()"
   ]
  },
  {
   "cell_type": "code",
   "execution_count": 14,
   "metadata": {},
   "outputs": [
    {
     "data": {
      "text/html": [
       "<div>\n",
       "<style scoped>\n",
       "    .dataframe tbody tr th:only-of-type {\n",
       "        vertical-align: middle;\n",
       "    }\n",
       "\n",
       "    .dataframe tbody tr th {\n",
       "        vertical-align: top;\n",
       "    }\n",
       "\n",
       "    .dataframe thead th {\n",
       "        text-align: right;\n",
       "    }\n",
       "</style>\n",
       "<table border=\"1\" class=\"dataframe\">\n",
       "  <thead>\n",
       "    <tr style=\"text-align: right;\">\n",
       "      <th></th>\n",
       "      <th>id</th>\n",
       "      <th>name</th>\n",
       "      <th>label</th>\n",
       "      <th>xrefs</th>\n",
       "    </tr>\n",
       "  </thead>\n",
       "  <tbody>\n",
       "    <tr>\n",
       "      <th>0</th>\n",
       "      <td>Q1002578</td>\n",
       "      <td>Babesia divergens</td>\n",
       "      <td>Taxon</td>\n",
       "      <td>NCBITaxon:32595</td>\n",
       "    </tr>\n",
       "    <tr>\n",
       "      <th>1</th>\n",
       "      <td>Q10261127</td>\n",
       "      <td>Corynebacterium striatum</td>\n",
       "      <td>Taxon</td>\n",
       "      <td>NCBITaxon:43770</td>\n",
       "    </tr>\n",
       "    <tr>\n",
       "      <th>2</th>\n",
       "      <td>Q10294946</td>\n",
       "      <td>Hepatozoon canis</td>\n",
       "      <td>Taxon</td>\n",
       "      <td>NCBITaxon:110120</td>\n",
       "    </tr>\n",
       "    <tr>\n",
       "      <th>3</th>\n",
       "      <td>Q10335474</td>\n",
       "      <td>Nanophyetus salmincola</td>\n",
       "      <td>Taxon</td>\n",
       "      <td>NCBITaxon:240278</td>\n",
       "    </tr>\n",
       "    <tr>\n",
       "      <th>4</th>\n",
       "      <td>Q1034951</td>\n",
       "      <td>Caprine art</td>\n",
       "      <td>Taxon</td>\n",
       "      <td>NCBITaxon:11660</td>\n",
       "    </tr>\n",
       "  </tbody>\n",
       "</table>\n",
       "</div>"
      ],
      "text/plain": [
       "          id                      name  label             xrefs\n",
       "0   Q1002578         Babesia divergens  Taxon   NCBITaxon:32595\n",
       "1  Q10261127  Corynebacterium striatum  Taxon   NCBITaxon:43770\n",
       "2  Q10294946          Hepatozoon canis  Taxon  NCBITaxon:110120\n",
       "3  Q10335474    Nanophyetus salmincola  Taxon  NCBITaxon:240278\n",
       "4   Q1034951               Caprine art  Taxon   NCBITaxon:11660"
      ]
     },
     "execution_count": 14,
     "metadata": {},
     "output_type": "execute_result"
    }
   ],
   "source": [
    "tax_nodes.head()"
   ]
  },
  {
   "cell_type": "markdown",
   "metadata": {},
   "source": [
    "### Syntax 2, mode 2: disease has-cause TAXON  or TAXON has-effct DISEASE -> extend down parent taxa to SPECIES LEVEL"
   ]
  },
  {
   "cell_type": "code",
   "execution_count": 15,
   "metadata": {},
   "outputs": [],
   "source": [
    "q = \"\"\"    SELECT DISTINCT ?disease ?diseaseLabel ?doid ?parent_tax ?parent_taxLabel ?parent_tax_id ?taxon ?taxonLabel ?tax_id\n",
    "    WHERE \n",
    "    {\n",
    "       {?disease wdt:P31 wd:Q12136}UNION{?disease wdt:P699 ?doid}.\n",
    "      \n",
    "        #?tax wdt:P31 wd:Q16521.\n",
    "        ?parent_tax wdt:P685 ?parent_tax_id. \n",
    "      \n",
    "      # No kingdoms\n",
    "      FILTER NOT EXISTS {?parent_tax wdt:P105 wd:Q36732}.\n",
    "      # No Superphyla\n",
    "      FILTER NOT EXISTS {?parent_tax wdt:P105 wd:Q3978005}.      \n",
    "       {?disease wdt:P828 ?parent_tax}UNION{?parent_tax wdt:P1542 ?disease}.\n",
    "      \n",
    "        OPTIONAL {?disease wdt:P699 ?doid.}\n",
    "      {?taxon wdt:P171+ ?parent_tax}UNION{?parent_tax wdt:P171+ ?taxon}\n",
    "      ?taxon wdt:P685 ?tax_id .\n",
    "      ?taxon wdt:P105 wd:Q7432 .\n",
    "      \n",
    "      SERVICE wikibase:label { bd:serviceParam wikibase:language \"[AUTO_LANGUAGE],en\". }\n",
    "    }\n",
    "\"\"\""
   ]
  },
  {
   "cell_type": "code",
   "execution_count": 16,
   "metadata": {},
   "outputs": [
    {
     "data": {
      "text/html": [
       "<div>\n",
       "<style scoped>\n",
       "    .dataframe tbody tr th:only-of-type {\n",
       "        vertical-align: middle;\n",
       "    }\n",
       "\n",
       "    .dataframe tbody tr th {\n",
       "        vertical-align: top;\n",
       "    }\n",
       "\n",
       "    .dataframe thead th {\n",
       "        text-align: right;\n",
       "    }\n",
       "</style>\n",
       "<table border=\"1\" class=\"dataframe\">\n",
       "  <thead>\n",
       "    <tr style=\"text-align: right;\">\n",
       "      <th></th>\n",
       "      <th>start_id</th>\n",
       "      <th>end_id</th>\n",
       "      <th>type</th>\n",
       "      <th>dsrc_type</th>\n",
       "      <th>comp_type</th>\n",
       "    </tr>\n",
       "  </thead>\n",
       "  <tbody>\n",
       "    <tr>\n",
       "      <th>0</th>\n",
       "      <td>Q5222228</td>\n",
       "      <td>Q12156</td>\n",
       "      <td>causes</td>\n",
       "      <td>computed</td>\n",
       "      <td>punning</td>\n",
       "    </tr>\n",
       "    <tr>\n",
       "      <th>1</th>\n",
       "      <td>Q5222088</td>\n",
       "      <td>Q12156</td>\n",
       "      <td>causes</td>\n",
       "      <td>computed</td>\n",
       "      <td>punning</td>\n",
       "    </tr>\n",
       "    <tr>\n",
       "      <th>2</th>\n",
       "      <td>Q5239400</td>\n",
       "      <td>Q12156</td>\n",
       "      <td>causes</td>\n",
       "      <td>computed</td>\n",
       "      <td>punning</td>\n",
       "    </tr>\n",
       "    <tr>\n",
       "      <th>3</th>\n",
       "      <td>Q7201903</td>\n",
       "      <td>Q12156</td>\n",
       "      <td>causes</td>\n",
       "      <td>computed</td>\n",
       "      <td>punning</td>\n",
       "    </tr>\n",
       "    <tr>\n",
       "      <th>4</th>\n",
       "      <td>Q7201927</td>\n",
       "      <td>Q12156</td>\n",
       "      <td>causes</td>\n",
       "      <td>computed</td>\n",
       "      <td>punning</td>\n",
       "    </tr>\n",
       "  </tbody>\n",
       "</table>\n",
       "</div>"
      ],
      "text/plain": [
       "   start_id  end_id    type dsrc_type comp_type\n",
       "0  Q5222228  Q12156  causes  computed   punning\n",
       "1  Q5222088  Q12156  causes  computed   punning\n",
       "2  Q5239400  Q12156  causes  computed   punning\n",
       "3  Q7201903  Q12156  causes  computed   punning\n",
       "4  Q7201927  Q12156  causes  computed   punning"
      ]
     },
     "execution_count": 16,
     "metadata": {},
     "output_type": "execute_result"
    }
   ],
   "source": [
    "qr = execute_sparql_query(q)\n",
    "tax_nodes = process_taxa(qr)\n",
    "edge_res = standardize_edges(qr, 'taxon', 'disease', 'causes', 'computed')\n",
    "edge_res['comp_type'] = 'punning'\n",
    "\n",
    "nodes.append(tax_nodes)\n",
    "edges.append(edge_res)\n",
    "\n",
    "edge_res.head()"
   ]
  },
  {
   "cell_type": "code",
   "execution_count": 17,
   "metadata": {},
   "outputs": [
    {
     "data": {
      "text/html": [
       "<div>\n",
       "<style scoped>\n",
       "    .dataframe tbody tr th:only-of-type {\n",
       "        vertical-align: middle;\n",
       "    }\n",
       "\n",
       "    .dataframe tbody tr th {\n",
       "        vertical-align: top;\n",
       "    }\n",
       "\n",
       "    .dataframe thead th {\n",
       "        text-align: right;\n",
       "    }\n",
       "</style>\n",
       "<table border=\"1\" class=\"dataframe\">\n",
       "  <thead>\n",
       "    <tr style=\"text-align: right;\">\n",
       "      <th></th>\n",
       "      <th>id</th>\n",
       "      <th>name</th>\n",
       "      <th>label</th>\n",
       "      <th>xrefs</th>\n",
       "    </tr>\n",
       "  </thead>\n",
       "  <tbody>\n",
       "    <tr>\n",
       "      <th>0</th>\n",
       "      <td>Q1002578</td>\n",
       "      <td>Babesia divergens</td>\n",
       "      <td>Taxon</td>\n",
       "      <td>NCBITaxon:32595</td>\n",
       "    </tr>\n",
       "    <tr>\n",
       "      <th>1</th>\n",
       "      <td>Q1031711</td>\n",
       "      <td>Campylobacter coli</td>\n",
       "      <td>Taxon</td>\n",
       "      <td>NCBITaxon:195</td>\n",
       "    </tr>\n",
       "    <tr>\n",
       "      <th>2</th>\n",
       "      <td>Q10398760</td>\n",
       "      <td>Acaromyces ingoldii</td>\n",
       "      <td>Taxon</td>\n",
       "      <td>NCBITaxon:215250</td>\n",
       "    </tr>\n",
       "    <tr>\n",
       "      <th>3</th>\n",
       "      <td>Q10412666</td>\n",
       "      <td>Anomalomyces panici</td>\n",
       "      <td>Taxon</td>\n",
       "      <td>NCBITaxon:380236</td>\n",
       "    </tr>\n",
       "    <tr>\n",
       "      <th>4</th>\n",
       "      <td>Q10413163</td>\n",
       "      <td>Antherospora scillae</td>\n",
       "      <td>Taxon</td>\n",
       "      <td>NCBITaxon:747520</td>\n",
       "    </tr>\n",
       "  </tbody>\n",
       "</table>\n",
       "</div>"
      ],
      "text/plain": [
       "          id                  name  label             xrefs\n",
       "0   Q1002578     Babesia divergens  Taxon   NCBITaxon:32595\n",
       "1   Q1031711    Campylobacter coli  Taxon     NCBITaxon:195\n",
       "2  Q10398760   Acaromyces ingoldii  Taxon  NCBITaxon:215250\n",
       "3  Q10412666   Anomalomyces panici  Taxon  NCBITaxon:380236\n",
       "4  Q10413163  Antherospora scillae  Taxon  NCBITaxon:747520"
      ]
     },
     "execution_count": 17,
     "metadata": {},
     "output_type": "execute_result"
    }
   ],
   "source": [
    "tax_nodes.head()"
   ]
  },
  {
   "cell_type": "code",
   "execution_count": 18,
   "metadata": {},
   "outputs": [],
   "source": [
    "tax_nodes = pd.concat(nodes, sort=False, ignore_index=True).drop_duplicates(subset=['id'])\n",
    "nodes = [tax_nodes]"
   ]
  },
  {
   "cell_type": "markdown",
   "metadata": {},
   "source": [
    "## Go back and re-run taxon limited to protein and gene queries with each of the infectious taxa"
   ]
  },
  {
   "cell_type": "code",
   "execution_count": 19,
   "metadata": {},
   "outputs": [
    {
     "data": {
      "text/plain": [
       "12225"
      ]
     },
     "execution_count": 19,
     "metadata": {},
     "output_type": "execute_result"
    }
   ],
   "source": [
    "len(tax_nodes)"
   ]
  },
  {
   "cell_type": "markdown",
   "metadata": {},
   "source": [
    "### This is too many to query\n",
    "\n",
    "This is a very large number of Taxa to have to query for... However, WikiData may have far fewer taxa that actually have annotations to genes or proteins, so lets see how many of each are in WD."
   ]
  },
  {
   "cell_type": "code",
   "execution_count": 20,
   "metadata": {},
   "outputs": [],
   "source": [
    "q = \"\"\"    SELECT DISTINCT ?taxon\n",
    "    WHERE \n",
    "    {\n",
    "      ?protein wdt:P31 wd:Q8054.\n",
    "      ?protein wdt:P703 ?taxon.\n",
    "    }\"\"\""
   ]
  },
  {
   "cell_type": "code",
   "execution_count": 21,
   "metadata": {},
   "outputs": [],
   "source": [
    "qr = execute_sparql_query(q)"
   ]
  },
  {
   "cell_type": "code",
   "execution_count": 22,
   "metadata": {},
   "outputs": [
    {
     "data": {
      "text/plain": [
       "256"
      ]
     },
     "execution_count": 22,
     "metadata": {},
     "output_type": "execute_result"
    }
   ],
   "source": [
    "prot_taxa = set(qr['taxon'])\n",
    "len(prot_taxa)"
   ]
  },
  {
   "cell_type": "markdown",
   "metadata": {},
   "source": [
    "This is already a managable number, but lets also check the genes, as they're separate queries..."
   ]
  },
  {
   "cell_type": "code",
   "execution_count": 23,
   "metadata": {},
   "outputs": [],
   "source": [
    "q = \"\"\"    SELECT DISTINCT ?taxon\n",
    "    WHERE \n",
    "    {\n",
    "      ?gene wdt:P31 wd:Q7187.\n",
    "      ?gene wdt:P703 ?taxon.\n",
    "\n",
    "    }\"\"\""
   ]
  },
  {
   "cell_type": "code",
   "execution_count": 24,
   "metadata": {},
   "outputs": [],
   "source": [
    "qr = execute_sparql_query(q)"
   ]
  },
  {
   "cell_type": "code",
   "execution_count": 25,
   "metadata": {},
   "outputs": [
    {
     "data": {
      "text/plain": [
       "201"
      ]
     },
     "execution_count": 25,
     "metadata": {},
     "output_type": "execute_result"
    }
   ],
   "source": [
    "gene_taxa = set(qr['taxon'])\n",
    "len(gene_taxa)"
   ]
  },
  {
   "cell_type": "markdown",
   "metadata": {},
   "source": [
    "Again, another manageable number, lets see how they overlap with what we've recieved for infectious taxa"
   ]
  },
  {
   "cell_type": "code",
   "execution_count": 26,
   "metadata": {},
   "outputs": [
    {
     "data": {
      "text/plain": [
       "39"
      ]
     },
     "execution_count": 26,
     "metadata": {},
     "output_type": "execute_result"
    }
   ],
   "source": [
    "len(prot_taxa & set(tax_nodes['id']))"
   ]
  },
  {
   "cell_type": "markdown",
   "metadata": {},
   "source": [
    "Awesome, very queryable"
   ]
  },
  {
   "cell_type": "code",
   "execution_count": 27,
   "metadata": {},
   "outputs": [
    {
     "data": {
      "text/plain": [
       "24"
      ]
     },
     "execution_count": 27,
     "metadata": {},
     "output_type": "execute_result"
    }
   ],
   "source": [
    "len(gene_taxa & set(tax_nodes['id']))"
   ]
  },
  {
   "cell_type": "markdown",
   "metadata": {},
   "source": [
    "Similarly querable"
   ]
  },
  {
   "cell_type": "markdown",
   "metadata": {},
   "source": [
    "## Querying proteins of infectious taxa"
   ]
  },
  {
   "cell_type": "code",
   "execution_count": 28,
   "metadata": {},
   "outputs": [],
   "source": [
    "q = \"\"\"SELECT DISTINCT ?protein ?proteinLabel ?uniprot\n",
    "        WHERE {{\n",
    "\n",
    "          # Initial typing for Protein\n",
    "          ?protein wdt:P31 wd:Q8054.\n",
    "          ?protein wdt:P703 wd:{tax}.\n",
    "\n",
    "          OPTIONAL{{?protein wdt:P352 ?uniprot .}}\n",
    "          SERVICE wikibase:label {{ bd:serviceParam wikibase:language \"[AUTO_LANGAGE],en\" }}\n",
    "        }}\"\"\""
   ]
  },
  {
   "cell_type": "code",
   "execution_count": 29,
   "metadata": {},
   "outputs": [],
   "source": [
    "tax_prot_edges = []\n",
    "\n",
    "for tax_id in prot_taxa & set(tax_nodes['id']):\n",
    "    this_q = q.format(tax=tax_id)\n",
    "    res = node_query_pipeline(this_q, {'uniprot':'UniProt'}, 'protein')\n",
    "    if res is None:\n",
    "        continue\n",
    "    \n",
    "    nodes.append(res[['id', 'name', 'label', 'xrefs']].copy())\n",
    "    \n",
    "    res['tax'] = tax_id\n",
    "    res_edges = standardize_edges(res, 'id', 'tax', 'in_taxon')\n",
    "    tax_prot_edges.append(res_edges)"
   ]
  },
  {
   "cell_type": "code",
   "execution_count": 30,
   "metadata": {},
   "outputs": [
    {
     "data": {
      "text/html": [
       "<div>\n",
       "<style scoped>\n",
       "    .dataframe tbody tr th:only-of-type {\n",
       "        vertical-align: middle;\n",
       "    }\n",
       "\n",
       "    .dataframe tbody tr th {\n",
       "        vertical-align: top;\n",
       "    }\n",
       "\n",
       "    .dataframe thead th {\n",
       "        text-align: right;\n",
       "    }\n",
       "</style>\n",
       "<table border=\"1\" class=\"dataframe\">\n",
       "  <thead>\n",
       "    <tr style=\"text-align: right;\">\n",
       "      <th></th>\n",
       "      <th>start_id</th>\n",
       "      <th>end_id</th>\n",
       "      <th>type</th>\n",
       "      <th>dsrc_type</th>\n",
       "    </tr>\n",
       "  </thead>\n",
       "  <tbody>\n",
       "    <tr>\n",
       "      <th>0</th>\n",
       "      <td>Q62183588</td>\n",
       "      <td>Q150162</td>\n",
       "      <td>in_taxon</td>\n",
       "      <td>crowd_sourced</td>\n",
       "    </tr>\n",
       "    <tr>\n",
       "      <th>1</th>\n",
       "      <td>Q62183595</td>\n",
       "      <td>Q150162</td>\n",
       "      <td>in_taxon</td>\n",
       "      <td>crowd_sourced</td>\n",
       "    </tr>\n",
       "    <tr>\n",
       "      <th>2</th>\n",
       "      <td>Q62183602</td>\n",
       "      <td>Q150162</td>\n",
       "      <td>in_taxon</td>\n",
       "      <td>crowd_sourced</td>\n",
       "    </tr>\n",
       "    <tr>\n",
       "      <th>3</th>\n",
       "      <td>Q62183606</td>\n",
       "      <td>Q150162</td>\n",
       "      <td>in_taxon</td>\n",
       "      <td>crowd_sourced</td>\n",
       "    </tr>\n",
       "    <tr>\n",
       "      <th>4</th>\n",
       "      <td>Q62183610</td>\n",
       "      <td>Q150162</td>\n",
       "      <td>in_taxon</td>\n",
       "      <td>crowd_sourced</td>\n",
       "    </tr>\n",
       "  </tbody>\n",
       "</table>\n",
       "</div>"
      ],
      "text/plain": [
       "    start_id   end_id      type      dsrc_type\n",
       "0  Q62183588  Q150162  in_taxon  crowd_sourced\n",
       "1  Q62183595  Q150162  in_taxon  crowd_sourced\n",
       "2  Q62183602  Q150162  in_taxon  crowd_sourced\n",
       "3  Q62183606  Q150162  in_taxon  crowd_sourced\n",
       "4  Q62183610  Q150162  in_taxon  crowd_sourced"
      ]
     },
     "execution_count": 30,
     "metadata": {},
     "output_type": "execute_result"
    }
   ],
   "source": [
    "prot_tax = pd.concat(tax_prot_edges, sort=False, ignore_index=True)\n",
    "edges.append(prot_tax)\n",
    "prot_tax.head()"
   ]
  },
  {
   "cell_type": "code",
   "execution_count": 31,
   "metadata": {},
   "outputs": [
    {
     "data": {
      "text/plain": [
       "39"
      ]
     },
     "execution_count": 31,
     "metadata": {},
     "output_type": "execute_result"
    }
   ],
   "source": [
    "prot_tax['end_id'].nunique()"
   ]
  },
  {
   "cell_type": "markdown",
   "metadata": {},
   "source": [
    "## Querying genes of infectious taxa"
   ]
  },
  {
   "cell_type": "code",
   "execution_count": 32,
   "metadata": {},
   "outputs": [],
   "source": [
    "q = \"\"\"SELECT DISTINCT ?gene ?geneLabel ?entrez ?symbol ?hgnc ?omim ?ensembl\n",
    "        WHERE {{\n",
    "\n",
    "          # Initial typing for Gene\n",
    "          ?gene wdt:P31 wd:Q7187.\n",
    "          ?gene wdt:P703 wd:{tax}.\n",
    "\n",
    "          OPTIONAL{{?gene wdt:P351 ?entrez .}}\n",
    "          OPTIONAL{{?gene wdt:P353 ?symbol .}}\n",
    "          OPTIONAL{{?gene wdt:P354 ?hgnc .}}\n",
    "          OPTIONAL{{?gene wdt:P492 ?omim .}}\n",
    "          OPTIONAL{{?gene wdt:P594 ?ensembl .}}\n",
    "\n",
    "          SERVICE wikibase:label {{ bd:serviceParam wikibase:language \"[AUTO_LANGAGE],en\" }}\n",
    "        }}\"\"\""
   ]
  },
  {
   "cell_type": "code",
   "execution_count": 33,
   "metadata": {},
   "outputs": [],
   "source": [
    "tax_gene_edges = []\n",
    "gene_curi_map = {'entrez': 'NCBIGene', 'symbol': 'SYM', 'hgnc':'HGNC', 'omim':'OMIM', 'ensembl':'ENSG'}\n",
    "\n",
    "for tax_id in gene_taxa & set(tax_nodes['id']):\n",
    "    this_q = q.format(tax=tax_id)\n",
    "    \n",
    "    res = node_query_pipeline(this_q, gene_curi_map, 'gene')\n",
    "    if res is None:\n",
    "        continue\n",
    "    \n",
    "    nodes.append(res[['id', 'name', 'label', 'xrefs']].copy())\n",
    "    \n",
    "    res['tax'] = tax_id\n",
    "    res_edges = standardize_edges(res, 'id', 'tax', 'in_taxon')\n",
    "    tax_gene_edges.append(res_edges)"
   ]
  },
  {
   "cell_type": "code",
   "execution_count": 34,
   "metadata": {},
   "outputs": [
    {
     "data": {
      "text/html": [
       "<div>\n",
       "<style scoped>\n",
       "    .dataframe tbody tr th:only-of-type {\n",
       "        vertical-align: middle;\n",
       "    }\n",
       "\n",
       "    .dataframe tbody tr th {\n",
       "        vertical-align: top;\n",
       "    }\n",
       "\n",
       "    .dataframe thead th {\n",
       "        text-align: right;\n",
       "    }\n",
       "</style>\n",
       "<table border=\"1\" class=\"dataframe\">\n",
       "  <thead>\n",
       "    <tr style=\"text-align: right;\">\n",
       "      <th></th>\n",
       "      <th>start_id</th>\n",
       "      <th>end_id</th>\n",
       "      <th>type</th>\n",
       "      <th>dsrc_type</th>\n",
       "    </tr>\n",
       "  </thead>\n",
       "  <tbody>\n",
       "    <tr>\n",
       "      <th>0</th>\n",
       "      <td>Q62183590</td>\n",
       "      <td>Q150162</td>\n",
       "      <td>in_taxon</td>\n",
       "      <td>crowd_sourced</td>\n",
       "    </tr>\n",
       "    <tr>\n",
       "      <th>1</th>\n",
       "      <td>Q62183598</td>\n",
       "      <td>Q150162</td>\n",
       "      <td>in_taxon</td>\n",
       "      <td>crowd_sourced</td>\n",
       "    </tr>\n",
       "    <tr>\n",
       "      <th>2</th>\n",
       "      <td>Q62183604</td>\n",
       "      <td>Q150162</td>\n",
       "      <td>in_taxon</td>\n",
       "      <td>crowd_sourced</td>\n",
       "    </tr>\n",
       "    <tr>\n",
       "      <th>3</th>\n",
       "      <td>Q62183608</td>\n",
       "      <td>Q150162</td>\n",
       "      <td>in_taxon</td>\n",
       "      <td>crowd_sourced</td>\n",
       "    </tr>\n",
       "    <tr>\n",
       "      <th>4</th>\n",
       "      <td>Q62183613</td>\n",
       "      <td>Q150162</td>\n",
       "      <td>in_taxon</td>\n",
       "      <td>crowd_sourced</td>\n",
       "    </tr>\n",
       "  </tbody>\n",
       "</table>\n",
       "</div>"
      ],
      "text/plain": [
       "    start_id   end_id      type      dsrc_type\n",
       "0  Q62183590  Q150162  in_taxon  crowd_sourced\n",
       "1  Q62183598  Q150162  in_taxon  crowd_sourced\n",
       "2  Q62183604  Q150162  in_taxon  crowd_sourced\n",
       "3  Q62183608  Q150162  in_taxon  crowd_sourced\n",
       "4  Q62183613  Q150162  in_taxon  crowd_sourced"
      ]
     },
     "execution_count": 34,
     "metadata": {},
     "output_type": "execute_result"
    }
   ],
   "source": [
    "gene_tax = pd.concat(tax_gene_edges, sort=False, ignore_index=True)\n",
    "edges.append(gene_tax)\n",
    "gene_tax.head()"
   ]
  },
  {
   "cell_type": "code",
   "execution_count": 35,
   "metadata": {},
   "outputs": [
    {
     "data": {
      "text/plain": [
       "24"
      ]
     },
     "execution_count": 35,
     "metadata": {},
     "output_type": "execute_result"
    }
   ],
   "source": [
    "gene_tax['end_id'].nunique()"
   ]
  },
  {
   "cell_type": "markdown",
   "metadata": {},
   "source": [
    "## Gene ENCODES Protein\n",
    "\n",
    "This edge will be used to map Genes to Proteins... our final network will likely not distinguish between the two, and therefore sources that only map to one (e.g. gene) will need this to map to the other (protein)."
   ]
  },
  {
   "cell_type": "code",
   "execution_count": 36,
   "metadata": {},
   "outputs": [],
   "source": [
    "q = \"\"\"SELECT DISTINCT ?gene ?protein \n",
    "WHERE {{\n",
    "\n",
    "  # Initial typing for Gene\n",
    "  ?gene wdt:P31 wd:Q7187.\n",
    "  ?gene wdt:P703 wd:{tax}.\n",
    "  # Initial typing for Protein\n",
    "  ?protein wdt:P31 wd:Q8054.\n",
    "  ?protein wdt:P703 wd:{tax}.\n",
    "  \n",
    "  {{?gene wdt:P688 ?protein}}UNION{{?protein wdt:P702 ?gene}}\n",
    "}}\"\"\""
   ]
  },
  {
   "cell_type": "code",
   "execution_count": 37,
   "metadata": {},
   "outputs": [],
   "source": [
    "human_tax_id = 'Q15978631'"
   ]
  },
  {
   "cell_type": "code",
   "execution_count": 38,
   "metadata": {},
   "outputs": [],
   "source": [
    "encodes_edges = []\n",
    "\n",
    "infectious_tax = list(set(gene_tax['end_id']) & set(prot_tax['end_id']))\n",
    "\n",
    "for tax in infectious_tax + [human_tax_id]:\n",
    "    this_q = q.format(tax=tax)\n",
    "    \n",
    "    qr = execute_sparql_query(this_q)\n",
    "    if qr is not None:\n",
    "        this_edge = standardize_edges(qr, 'gene', 'protein', 'encodes')\n",
    "        encodes_edges.append(this_edge)"
   ]
  },
  {
   "cell_type": "code",
   "execution_count": 39,
   "metadata": {},
   "outputs": [
    {
     "data": {
      "text/plain": [
       "161889"
      ]
     },
     "execution_count": 39,
     "metadata": {},
     "output_type": "execute_result"
    }
   ],
   "source": [
    "encodes_edges = pd.concat(encodes_edges, sort=False, ignore_index=True)\n",
    "edges.append(encodes_edges)\n",
    "len(encodes_edges)"
   ]
  },
  {
   "cell_type": "markdown",
   "metadata": {},
   "source": [
    "# Protein MF Molecular Function"
   ]
  },
  {
   "cell_type": "code",
   "execution_count": 40,
   "metadata": {},
   "outputs": [],
   "source": [
    "q = \"\"\"SELECT DISTINCT ?protein ?molecular_function\n",
    "WHERE {\n",
    "\n",
    "  ?protein wdt:P31 wd:Q8054.\n",
    "  ?molecular_function wdt:P686 ?goid.\n",
    "  \n",
    "  {?protein wdt:P680 ?molecular_function}\n",
    "}\"\"\""
   ]
  },
  {
   "cell_type": "code",
   "execution_count": 41,
   "metadata": {},
   "outputs": [],
   "source": [
    "qr = execute_sparql_query(q)\n",
    "edge_res = standardize_edges(qr, 'protein', 'molecular_function', 'enables')\n",
    "\n",
    "edges.append(edge_res)"
   ]
  },
  {
   "cell_type": "code",
   "execution_count": 42,
   "metadata": {},
   "outputs": [
    {
     "data": {
      "text/html": [
       "<div>\n",
       "<style scoped>\n",
       "    .dataframe tbody tr th:only-of-type {\n",
       "        vertical-align: middle;\n",
       "    }\n",
       "\n",
       "    .dataframe tbody tr th {\n",
       "        vertical-align: top;\n",
       "    }\n",
       "\n",
       "    .dataframe thead th {\n",
       "        text-align: right;\n",
       "    }\n",
       "</style>\n",
       "<table border=\"1\" class=\"dataframe\">\n",
       "  <thead>\n",
       "    <tr style=\"text-align: right;\">\n",
       "      <th></th>\n",
       "      <th>start_id</th>\n",
       "      <th>end_id</th>\n",
       "      <th>type</th>\n",
       "      <th>dsrc_type</th>\n",
       "    </tr>\n",
       "  </thead>\n",
       "  <tbody>\n",
       "    <tr>\n",
       "      <th>0</th>\n",
       "      <td>Q155750</td>\n",
       "      <td>Q14817982</td>\n",
       "      <td>enables</td>\n",
       "      <td>crowd_sourced</td>\n",
       "    </tr>\n",
       "    <tr>\n",
       "      <th>1</th>\n",
       "      <td>Q254943</td>\n",
       "      <td>Q14817982</td>\n",
       "      <td>enables</td>\n",
       "      <td>crowd_sourced</td>\n",
       "    </tr>\n",
       "  </tbody>\n",
       "</table>\n",
       "</div>"
      ],
      "text/plain": [
       "  start_id     end_id     type      dsrc_type\n",
       "0  Q155750  Q14817982  enables  crowd_sourced\n",
       "1  Q254943  Q14817982  enables  crowd_sourced"
      ]
     },
     "execution_count": 42,
     "metadata": {},
     "output_type": "execute_result"
    }
   ],
   "source": [
    "edge_res.head(2)"
   ]
  },
  {
   "cell_type": "markdown",
   "metadata": {},
   "source": [
    "# Protein BP Biological Process"
   ]
  },
  {
   "cell_type": "code",
   "execution_count": 43,
   "metadata": {},
   "outputs": [],
   "source": [
    "q = \"\"\"SELECT DISTINCT ?protein ?biological_process\n",
    "WHERE {\n",
    "\n",
    "  ?protein wdt:P31 wd:Q8054.\n",
    "  ?biological_process wdt:P686 ?goid.\n",
    "  \n",
    "  {?protein wdt:P682 ?biological_process}\n",
    "}\"\"\""
   ]
  },
  {
   "cell_type": "code",
   "execution_count": 44,
   "metadata": {},
   "outputs": [],
   "source": [
    "qr = execute_sparql_query(q)\n",
    "edge_res = standardize_edges(qr, 'protein', 'biological_process', 'involved_in')\n",
    "\n",
    "edges.append(edge_res)"
   ]
  },
  {
   "cell_type": "code",
   "execution_count": 45,
   "metadata": {},
   "outputs": [
    {
     "data": {
      "text/html": [
       "<div>\n",
       "<style scoped>\n",
       "    .dataframe tbody tr th:only-of-type {\n",
       "        vertical-align: middle;\n",
       "    }\n",
       "\n",
       "    .dataframe tbody tr th {\n",
       "        vertical-align: top;\n",
       "    }\n",
       "\n",
       "    .dataframe thead th {\n",
       "        text-align: right;\n",
       "    }\n",
       "</style>\n",
       "<table border=\"1\" class=\"dataframe\">\n",
       "  <thead>\n",
       "    <tr style=\"text-align: right;\">\n",
       "      <th></th>\n",
       "      <th>start_id</th>\n",
       "      <th>end_id</th>\n",
       "      <th>type</th>\n",
       "      <th>dsrc_type</th>\n",
       "    </tr>\n",
       "  </thead>\n",
       "  <tbody>\n",
       "    <tr>\n",
       "      <th>0</th>\n",
       "      <td>Q21096258</td>\n",
       "      <td>Q1057</td>\n",
       "      <td>involved_in</td>\n",
       "      <td>crowd_sourced</td>\n",
       "    </tr>\n",
       "    <tr>\n",
       "      <th>1</th>\n",
       "      <td>Q21096283</td>\n",
       "      <td>Q1057</td>\n",
       "      <td>involved_in</td>\n",
       "      <td>crowd_sourced</td>\n",
       "    </tr>\n",
       "    <tr>\n",
       "      <th>2</th>\n",
       "      <td>Q21096281</td>\n",
       "      <td>Q1057</td>\n",
       "      <td>involved_in</td>\n",
       "      <td>crowd_sourced</td>\n",
       "    </tr>\n",
       "    <tr>\n",
       "      <th>3</th>\n",
       "      <td>Q21096304</td>\n",
       "      <td>Q1057</td>\n",
       "      <td>involved_in</td>\n",
       "      <td>crowd_sourced</td>\n",
       "    </tr>\n",
       "    <tr>\n",
       "      <th>4</th>\n",
       "      <td>Q21096438</td>\n",
       "      <td>Q1057</td>\n",
       "      <td>involved_in</td>\n",
       "      <td>crowd_sourced</td>\n",
       "    </tr>\n",
       "  </tbody>\n",
       "</table>\n",
       "</div>"
      ],
      "text/plain": [
       "    start_id end_id         type      dsrc_type\n",
       "0  Q21096258  Q1057  involved_in  crowd_sourced\n",
       "1  Q21096283  Q1057  involved_in  crowd_sourced\n",
       "2  Q21096281  Q1057  involved_in  crowd_sourced\n",
       "3  Q21096304  Q1057  involved_in  crowd_sourced\n",
       "4  Q21096438  Q1057  involved_in  crowd_sourced"
      ]
     },
     "execution_count": 45,
     "metadata": {},
     "output_type": "execute_result"
    }
   ],
   "source": [
    "edge_res.head()"
   ]
  },
  {
   "cell_type": "markdown",
   "metadata": {},
   "source": [
    "# Protein CC Cellular Component"
   ]
  },
  {
   "cell_type": "code",
   "execution_count": 46,
   "metadata": {},
   "outputs": [],
   "source": [
    "q = \"\"\"SELECT DISTINCT ?protein ?cell_component\n",
    "WHERE {\n",
    "\n",
    "  ?protein wdt:P31 wd:Q8054.\n",
    "  ?cell_component wdt:P686 ?goid.\n",
    "  \n",
    "  {?protein wdt:P681 ?cell_component}\n",
    "}\"\"\""
   ]
  },
  {
   "cell_type": "code",
   "execution_count": 47,
   "metadata": {},
   "outputs": [],
   "source": [
    "qr = execute_sparql_query(q)\n",
    "edge_res = standardize_edges(qr, 'protein', 'cell_component', 'part_of')\n",
    "\n",
    "edges.append(edge_res)"
   ]
  },
  {
   "cell_type": "code",
   "execution_count": 48,
   "metadata": {},
   "outputs": [
    {
     "data": {
      "text/html": [
       "<div>\n",
       "<style scoped>\n",
       "    .dataframe tbody tr th:only-of-type {\n",
       "        vertical-align: middle;\n",
       "    }\n",
       "\n",
       "    .dataframe tbody tr th {\n",
       "        vertical-align: top;\n",
       "    }\n",
       "\n",
       "    .dataframe thead th {\n",
       "        text-align: right;\n",
       "    }\n",
       "</style>\n",
       "<table border=\"1\" class=\"dataframe\">\n",
       "  <thead>\n",
       "    <tr style=\"text-align: right;\">\n",
       "      <th></th>\n",
       "      <th>start_id</th>\n",
       "      <th>end_id</th>\n",
       "      <th>type</th>\n",
       "      <th>dsrc_type</th>\n",
       "    </tr>\n",
       "  </thead>\n",
       "  <tbody>\n",
       "    <tr>\n",
       "      <th>0</th>\n",
       "      <td>Q92594</td>\n",
       "      <td>Q29548</td>\n",
       "      <td>part_of</td>\n",
       "      <td>crowd_sourced</td>\n",
       "    </tr>\n",
       "    <tr>\n",
       "      <th>1</th>\n",
       "      <td>Q128861</td>\n",
       "      <td>Q29548</td>\n",
       "      <td>part_of</td>\n",
       "      <td>crowd_sourced</td>\n",
       "    </tr>\n",
       "    <tr>\n",
       "      <th>2</th>\n",
       "      <td>Q151233</td>\n",
       "      <td>Q29548</td>\n",
       "      <td>part_of</td>\n",
       "      <td>crowd_sourced</td>\n",
       "    </tr>\n",
       "    <tr>\n",
       "      <th>3</th>\n",
       "      <td>Q205042</td>\n",
       "      <td>Q29548</td>\n",
       "      <td>part_of</td>\n",
       "      <td>crowd_sourced</td>\n",
       "    </tr>\n",
       "    <tr>\n",
       "      <th>4</th>\n",
       "      <td>Q205986</td>\n",
       "      <td>Q29548</td>\n",
       "      <td>part_of</td>\n",
       "      <td>crowd_sourced</td>\n",
       "    </tr>\n",
       "  </tbody>\n",
       "</table>\n",
       "</div>"
      ],
      "text/plain": [
       "  start_id  end_id     type      dsrc_type\n",
       "0   Q92594  Q29548  part_of  crowd_sourced\n",
       "1  Q128861  Q29548  part_of  crowd_sourced\n",
       "2  Q151233  Q29548  part_of  crowd_sourced\n",
       "3  Q205042  Q29548  part_of  crowd_sourced\n",
       "4  Q205986  Q29548  part_of  crowd_sourced"
      ]
     },
     "execution_count": 48,
     "metadata": {},
     "output_type": "execute_result"
    }
   ],
   "source": [
    "edge_res.head()"
   ]
  },
  {
   "cell_type": "markdown",
   "metadata": {},
   "source": [
    "# Compound TREATS Disease"
   ]
  },
  {
   "cell_type": "code",
   "execution_count": 49,
   "metadata": {},
   "outputs": [],
   "source": [
    "q = \"\"\"SELECT DISTINCT ?compound ?compoundLabel ?disease ?diseaseLabel\n",
    "  WHERE {\n",
    "\n",
    "    # Initial typing for Compound\n",
    "    ?compound wdt:P31 wd:Q11173 .\n",
    "\n",
    "    # Initial typing for Disease \n",
    "    # Either instance of Disease of has a Disease Ontology ID\n",
    "    {?disease wdt:P31 wd:Q12136}UNION{?disease wdt:P699 ?doid}.\n",
    "\n",
    "    {?compound wdt:P2175 ?disease}UNION{?disease wdt:P2176 ?compound}\n",
    "    SERVICE wikibase:label { bd:serviceParam wikibase:language \"[AUTO_LANGAGE],en\" }\n",
    "\n",
    "  }\"\"\""
   ]
  },
  {
   "cell_type": "code",
   "execution_count": 50,
   "metadata": {},
   "outputs": [],
   "source": [
    "qr = execute_sparql_query(q)\n",
    "edge_res = standardize_edges(qr, 'compound', 'disease', 'treats')\n",
    "\n",
    "edges.append(edge_res)"
   ]
  },
  {
   "cell_type": "code",
   "execution_count": 51,
   "metadata": {},
   "outputs": [
    {
     "data": {
      "text/html": [
       "<div>\n",
       "<style scoped>\n",
       "    .dataframe tbody tr th:only-of-type {\n",
       "        vertical-align: middle;\n",
       "    }\n",
       "\n",
       "    .dataframe tbody tr th {\n",
       "        vertical-align: top;\n",
       "    }\n",
       "\n",
       "    .dataframe thead th {\n",
       "        text-align: right;\n",
       "    }\n",
       "</style>\n",
       "<table border=\"1\" class=\"dataframe\">\n",
       "  <thead>\n",
       "    <tr style=\"text-align: right;\">\n",
       "      <th></th>\n",
       "      <th>start_id</th>\n",
       "      <th>end_id</th>\n",
       "      <th>type</th>\n",
       "      <th>dsrc_type</th>\n",
       "    </tr>\n",
       "  </thead>\n",
       "  <tbody>\n",
       "    <tr>\n",
       "      <th>0</th>\n",
       "      <td>Q2938837</td>\n",
       "      <td>Q41112</td>\n",
       "      <td>treats</td>\n",
       "      <td>crowd_sourced</td>\n",
       "    </tr>\n",
       "    <tr>\n",
       "      <th>1</th>\n",
       "      <td>Q3633651</td>\n",
       "      <td>Q35869</td>\n",
       "      <td>treats</td>\n",
       "      <td>crowd_sourced</td>\n",
       "    </tr>\n",
       "    <tr>\n",
       "      <th>2</th>\n",
       "      <td>Q407972</td>\n",
       "      <td>Q41112</td>\n",
       "      <td>treats</td>\n",
       "      <td>crowd_sourced</td>\n",
       "    </tr>\n",
       "    <tr>\n",
       "      <th>3</th>\n",
       "      <td>Q407988</td>\n",
       "      <td>Q41112</td>\n",
       "      <td>treats</td>\n",
       "      <td>crowd_sourced</td>\n",
       "    </tr>\n",
       "    <tr>\n",
       "      <th>4</th>\n",
       "      <td>Q411188</td>\n",
       "      <td>Q41112</td>\n",
       "      <td>treats</td>\n",
       "      <td>crowd_sourced</td>\n",
       "    </tr>\n",
       "  </tbody>\n",
       "</table>\n",
       "</div>"
      ],
      "text/plain": [
       "   start_id  end_id    type      dsrc_type\n",
       "0  Q2938837  Q41112  treats  crowd_sourced\n",
       "1  Q3633651  Q35869  treats  crowd_sourced\n",
       "2   Q407972  Q41112  treats  crowd_sourced\n",
       "3   Q407988  Q41112  treats  crowd_sourced\n",
       "4   Q411188  Q41112  treats  crowd_sourced"
      ]
     },
     "execution_count": 51,
     "metadata": {},
     "output_type": "execute_result"
    }
   ],
   "source": [
    "edge_res.head()"
   ]
  },
  {
   "cell_type": "markdown",
   "metadata": {},
   "source": [
    "# Compound IW Protein"
   ]
  },
  {
   "cell_type": "code",
   "execution_count": 52,
   "metadata": {},
   "outputs": [],
   "source": [
    "q = \"\"\"SELECT DISTINCT ?compound ?compoundLabel ?qualifier ?qualifierLabel ?protein ?proteinLabel \n",
    "WHERE {\n",
    "\n",
    "    # Initial typing for Compound\n",
    "    ?compound wdt:P31 wd:Q11173 .\n",
    "\n",
    "    # Initial typing for Protein\n",
    "    ?protein wdt:P31 wd:Q8054 .\n",
    "\n",
    "    { ?compound p:P129 [ps:P129 ?protein;\n",
    "                  pq:P2868 ?qualifier] }\n",
    "    UNION { ?protein p:P129 [ps:P129 ?compound;\n",
    "                 pq:P366 ?qualifier] }\n",
    "\n",
    "    SERVICE wikibase:label { bd:serviceParam wikibase:language \"[AUTO_LANGAGE],en\" }\n",
    "}\"\"\""
   ]
  },
  {
   "cell_type": "code",
   "execution_count": 53,
   "metadata": {},
   "outputs": [],
   "source": [
    "qr = execute_sparql_query(q)\n",
    "edge_res = standardize_edges(qr, 'compound', 'protein', 'qualifierLabel')\n",
    "\n",
    "edges.append(edge_res)"
   ]
  },
  {
   "cell_type": "code",
   "execution_count": 54,
   "metadata": {},
   "outputs": [
    {
     "data": {
      "text/html": [
       "<div>\n",
       "<style scoped>\n",
       "    .dataframe tbody tr th:only-of-type {\n",
       "        vertical-align: middle;\n",
       "    }\n",
       "\n",
       "    .dataframe tbody tr th {\n",
       "        vertical-align: top;\n",
       "    }\n",
       "\n",
       "    .dataframe thead th {\n",
       "        text-align: right;\n",
       "    }\n",
       "</style>\n",
       "<table border=\"1\" class=\"dataframe\">\n",
       "  <thead>\n",
       "    <tr style=\"text-align: right;\">\n",
       "      <th></th>\n",
       "      <th>start_id</th>\n",
       "      <th>end_id</th>\n",
       "      <th>type</th>\n",
       "      <th>dsrc_type</th>\n",
       "    </tr>\n",
       "  </thead>\n",
       "  <tbody>\n",
       "    <tr>\n",
       "      <th>0</th>\n",
       "      <td>Q424771</td>\n",
       "      <td>Q1084878</td>\n",
       "      <td>agonist</td>\n",
       "      <td>crowd_sourced</td>\n",
       "    </tr>\n",
       "    <tr>\n",
       "      <th>1</th>\n",
       "      <td>Q167934</td>\n",
       "      <td>Q21131500</td>\n",
       "      <td>agonist</td>\n",
       "      <td>crowd_sourced</td>\n",
       "    </tr>\n",
       "    <tr>\n",
       "      <th>2</th>\n",
       "      <td>Q5348096</td>\n",
       "      <td>Q6594119</td>\n",
       "      <td>agonist</td>\n",
       "      <td>crowd_sourced</td>\n",
       "    </tr>\n",
       "    <tr>\n",
       "      <th>3</th>\n",
       "      <td>Q2394106</td>\n",
       "      <td>Q6594119</td>\n",
       "      <td>agonist</td>\n",
       "      <td>crowd_sourced</td>\n",
       "    </tr>\n",
       "    <tr>\n",
       "      <th>4</th>\n",
       "      <td>Q410794</td>\n",
       "      <td>Q21118677</td>\n",
       "      <td>agonist</td>\n",
       "      <td>crowd_sourced</td>\n",
       "    </tr>\n",
       "  </tbody>\n",
       "</table>\n",
       "</div>"
      ],
      "text/plain": [
       "   start_id     end_id     type      dsrc_type\n",
       "0   Q424771   Q1084878  agonist  crowd_sourced\n",
       "1   Q167934  Q21131500  agonist  crowd_sourced\n",
       "2  Q5348096   Q6594119  agonist  crowd_sourced\n",
       "3  Q2394106   Q6594119  agonist  crowd_sourced\n",
       "4   Q410794  Q21118677  agonist  crowd_sourced"
      ]
     },
     "execution_count": 54,
     "metadata": {},
     "output_type": "execute_result"
    }
   ],
   "source": [
    "edge_res.head()"
   ]
  },
  {
   "cell_type": "markdown",
   "metadata": {},
   "source": [
    "## Anatomy SITE OF Disease"
   ]
  },
  {
   "cell_type": "code",
   "execution_count": 55,
   "metadata": {},
   "outputs": [],
   "source": [
    "q = \"\"\"SELECT DISTINCT ?disease ?diseaseLabel ?anatomy ?anatomyLabel \n",
    "WHERE {\n",
    "\n",
    "    # Initial typing for Disease\n",
    "    {?disease wdt:P31 wd:Q12136}UNION{?disease wdt:P699 ?doid}.\n",
    "    {?disease1 wdt:P31 wd:Q12136}UNION{?disease1 wdt:P699 ?doid1}.\n",
    "\n",
    "    # Initial typing for Anatomical Structure\n",
    "    ?anatomy wdt:P1554 ?uberon .\n",
    "\n",
    "    {?disease1 wdt:P927 ?anatomy} {?disease wdt:P279? ?disease1}\n",
    "\n",
    "    SERVICE wikibase:label { bd:serviceParam wikibase:language \"[AUTO_LANGAGE],en\" }\n",
    "}\"\"\""
   ]
  },
  {
   "cell_type": "code",
   "execution_count": 56,
   "metadata": {},
   "outputs": [],
   "source": [
    "qr = execute_sparql_query(q)\n",
    "edge_res = standardize_edges(qr, 'anatomy', 'disease', 'site_of')\n",
    "\n",
    "edges.append(edge_res)"
   ]
  },
  {
   "cell_type": "code",
   "execution_count": 57,
   "metadata": {},
   "outputs": [
    {
     "data": {
      "text/html": [
       "<div>\n",
       "<style scoped>\n",
       "    .dataframe tbody tr th:only-of-type {\n",
       "        vertical-align: middle;\n",
       "    }\n",
       "\n",
       "    .dataframe tbody tr th {\n",
       "        vertical-align: top;\n",
       "    }\n",
       "\n",
       "    .dataframe thead th {\n",
       "        text-align: right;\n",
       "    }\n",
       "</style>\n",
       "<table border=\"1\" class=\"dataframe\">\n",
       "  <thead>\n",
       "    <tr style=\"text-align: right;\">\n",
       "      <th></th>\n",
       "      <th>start_id</th>\n",
       "      <th>end_id</th>\n",
       "      <th>type</th>\n",
       "      <th>dsrc_type</th>\n",
       "    </tr>\n",
       "  </thead>\n",
       "  <tbody>\n",
       "    <tr>\n",
       "      <th>0</th>\n",
       "      <td>Q9377</td>\n",
       "      <td>Q1054718</td>\n",
       "      <td>site_of</td>\n",
       "      <td>crowd_sourced</td>\n",
       "    </tr>\n",
       "    <tr>\n",
       "      <th>1</th>\n",
       "      <td>Q2640512</td>\n",
       "      <td>Q1052626</td>\n",
       "      <td>site_of</td>\n",
       "      <td>crowd_sourced</td>\n",
       "    </tr>\n",
       "    <tr>\n",
       "      <th>2</th>\n",
       "      <td>Q229081</td>\n",
       "      <td>Q1076086</td>\n",
       "      <td>site_of</td>\n",
       "      <td>crowd_sourced</td>\n",
       "    </tr>\n",
       "    <tr>\n",
       "      <th>3</th>\n",
       "      <td>Q198654</td>\n",
       "      <td>Q1047551</td>\n",
       "      <td>site_of</td>\n",
       "      <td>crowd_sourced</td>\n",
       "    </tr>\n",
       "    <tr>\n",
       "      <th>4</th>\n",
       "      <td>Q223851</td>\n",
       "      <td>Q1135124</td>\n",
       "      <td>site_of</td>\n",
       "      <td>crowd_sourced</td>\n",
       "    </tr>\n",
       "  </tbody>\n",
       "</table>\n",
       "</div>"
      ],
      "text/plain": [
       "   start_id    end_id     type      dsrc_type\n",
       "0     Q9377  Q1054718  site_of  crowd_sourced\n",
       "1  Q2640512  Q1052626  site_of  crowd_sourced\n",
       "2   Q229081  Q1076086  site_of  crowd_sourced\n",
       "3   Q198654  Q1047551  site_of  crowd_sourced\n",
       "4   Q223851  Q1135124  site_of  crowd_sourced"
      ]
     },
     "execution_count": 57,
     "metadata": {},
     "output_type": "execute_result"
    }
   ],
   "source": [
    "edge_res.head()"
   ]
  },
  {
   "cell_type": "markdown",
   "metadata": {},
   "source": [
    "## Gene AW Disease"
   ]
  },
  {
   "cell_type": "code",
   "execution_count": 58,
   "metadata": {},
   "outputs": [],
   "source": [
    "q = \"\"\"SELECT DISTINCT ?disease ?diseaseLabel ?gene ?geneLabel \n",
    "WHERE {\n",
    "\n",
    "    # Initial typing for Disease\n",
    "    {?disease wdt:P31 wd:Q12136}UNION{?disease wdt:P699 ?doid}.\n",
    "  \n",
    "    # Initial typing for Gene\n",
    "    ?gene wdt:P31 wd:Q7187 .\n",
    "\n",
    "    ?disease wdt:P2293 ?gene\n",
    "\n",
    "    SERVICE wikibase:label { bd:serviceParam wikibase:language \"[AUTO_LANGAGE],en\" }\n",
    "}\"\"\""
   ]
  },
  {
   "cell_type": "code",
   "execution_count": 59,
   "metadata": {},
   "outputs": [],
   "source": [
    "qr = execute_sparql_query(q)\n",
    "edge_res = standardize_edges(qr, 'gene', 'disease', 'associated_with')\n",
    "\n",
    "edges.append(edge_res)"
   ]
  },
  {
   "cell_type": "code",
   "execution_count": 60,
   "metadata": {},
   "outputs": [
    {
     "data": {
      "text/html": [
       "<div>\n",
       "<style scoped>\n",
       "    .dataframe tbody tr th:only-of-type {\n",
       "        vertical-align: middle;\n",
       "    }\n",
       "\n",
       "    .dataframe tbody tr th {\n",
       "        vertical-align: top;\n",
       "    }\n",
       "\n",
       "    .dataframe thead th {\n",
       "        text-align: right;\n",
       "    }\n",
       "</style>\n",
       "<table border=\"1\" class=\"dataframe\">\n",
       "  <thead>\n",
       "    <tr style=\"text-align: right;\">\n",
       "      <th></th>\n",
       "      <th>start_id</th>\n",
       "      <th>end_id</th>\n",
       "      <th>type</th>\n",
       "      <th>dsrc_type</th>\n",
       "    </tr>\n",
       "  </thead>\n",
       "  <tbody>\n",
       "    <tr>\n",
       "      <th>0</th>\n",
       "      <td>Q414043</td>\n",
       "      <td>Q8277</td>\n",
       "      <td>associated_with</td>\n",
       "      <td>crowd_sourced</td>\n",
       "    </tr>\n",
       "    <tr>\n",
       "      <th>1</th>\n",
       "      <td>Q718087</td>\n",
       "      <td>Q181923</td>\n",
       "      <td>associated_with</td>\n",
       "      <td>crowd_sourced</td>\n",
       "    </tr>\n",
       "    <tr>\n",
       "      <th>2</th>\n",
       "      <td>Q417743</td>\n",
       "      <td>Q7263794</td>\n",
       "      <td>associated_with</td>\n",
       "      <td>crowd_sourced</td>\n",
       "    </tr>\n",
       "    <tr>\n",
       "      <th>3</th>\n",
       "      <td>Q718087</td>\n",
       "      <td>Q576109</td>\n",
       "      <td>associated_with</td>\n",
       "      <td>crowd_sourced</td>\n",
       "    </tr>\n",
       "    <tr>\n",
       "      <th>4</th>\n",
       "      <td>Q414043</td>\n",
       "      <td>Q616667</td>\n",
       "      <td>associated_with</td>\n",
       "      <td>crowd_sourced</td>\n",
       "    </tr>\n",
       "  </tbody>\n",
       "</table>\n",
       "</div>"
      ],
      "text/plain": [
       "  start_id    end_id             type      dsrc_type\n",
       "0  Q414043     Q8277  associated_with  crowd_sourced\n",
       "1  Q718087   Q181923  associated_with  crowd_sourced\n",
       "2  Q417743  Q7263794  associated_with  crowd_sourced\n",
       "3  Q718087   Q576109  associated_with  crowd_sourced\n",
       "4  Q414043   Q616667  associated_with  crowd_sourced"
      ]
     },
     "execution_count": 60,
     "metadata": {},
     "output_type": "execute_result"
    }
   ],
   "source": [
    "edge_res.head()"
   ]
  },
  {
   "cell_type": "markdown",
   "metadata": {},
   "source": [
    "# Pathway HP Gene"
   ]
  },
  {
   "cell_type": "code",
   "execution_count": 61,
   "metadata": {},
   "outputs": [],
   "source": [
    "q = \"\"\"SELECT DISTINCT ?pathway ?gene \n",
    "WHERE {\n",
    "\n",
    "    # Initial typing for Pathway\n",
    "    ?pathway wdt:P31 wd:Q4915012 .\n",
    "    FILTER NOT EXISTS{?pathway wdt:P686 ?goid}\n",
    "  \n",
    "    # Initial typing for Gene\n",
    "    ?gene wdt:P31 wd:Q7187 .\n",
    "\n",
    "    ?pathway wdt:P527 ?gene\n",
    "} \"\"\""
   ]
  },
  {
   "cell_type": "code",
   "execution_count": 62,
   "metadata": {},
   "outputs": [],
   "source": [
    "qr = execute_sparql_query(q)\n",
    "edge_res = standardize_edges(qr, 'pathway', 'gene', 'has_part')\n",
    "\n",
    "edges.append(edge_res)"
   ]
  },
  {
   "cell_type": "code",
   "execution_count": 63,
   "metadata": {},
   "outputs": [
    {
     "data": {
      "text/html": [
       "<div>\n",
       "<style scoped>\n",
       "    .dataframe tbody tr th:only-of-type {\n",
       "        vertical-align: middle;\n",
       "    }\n",
       "\n",
       "    .dataframe tbody tr th {\n",
       "        vertical-align: top;\n",
       "    }\n",
       "\n",
       "    .dataframe thead th {\n",
       "        text-align: right;\n",
       "    }\n",
       "</style>\n",
       "<table border=\"1\" class=\"dataframe\">\n",
       "  <thead>\n",
       "    <tr style=\"text-align: right;\">\n",
       "      <th></th>\n",
       "      <th>start_id</th>\n",
       "      <th>end_id</th>\n",
       "      <th>type</th>\n",
       "      <th>dsrc_type</th>\n",
       "    </tr>\n",
       "  </thead>\n",
       "  <tbody>\n",
       "    <tr>\n",
       "      <th>0</th>\n",
       "      <td>Q30225376</td>\n",
       "      <td>Q286987</td>\n",
       "      <td>has_part</td>\n",
       "      <td>crowd_sourced</td>\n",
       "    </tr>\n",
       "    <tr>\n",
       "      <th>1</th>\n",
       "      <td>Q30225381</td>\n",
       "      <td>Q4039110</td>\n",
       "      <td>has_part</td>\n",
       "      <td>crowd_sourced</td>\n",
       "    </tr>\n",
       "    <tr>\n",
       "      <th>2</th>\n",
       "      <td>Q30225381</td>\n",
       "      <td>Q4652205</td>\n",
       "      <td>has_part</td>\n",
       "      <td>crowd_sourced</td>\n",
       "    </tr>\n",
       "    <tr>\n",
       "      <th>3</th>\n",
       "      <td>Q30225381</td>\n",
       "      <td>Q5038728</td>\n",
       "      <td>has_part</td>\n",
       "      <td>crowd_sourced</td>\n",
       "    </tr>\n",
       "    <tr>\n",
       "      <th>4</th>\n",
       "      <td>Q30225376</td>\n",
       "      <td>Q5201182</td>\n",
       "      <td>has_part</td>\n",
       "      <td>crowd_sourced</td>\n",
       "    </tr>\n",
       "  </tbody>\n",
       "</table>\n",
       "</div>"
      ],
      "text/plain": [
       "    start_id    end_id      type      dsrc_type\n",
       "0  Q30225376   Q286987  has_part  crowd_sourced\n",
       "1  Q30225381  Q4039110  has_part  crowd_sourced\n",
       "2  Q30225381  Q4652205  has_part  crowd_sourced\n",
       "3  Q30225381  Q5038728  has_part  crowd_sourced\n",
       "4  Q30225376  Q5201182  has_part  crowd_sourced"
      ]
     },
     "execution_count": 63,
     "metadata": {},
     "output_type": "execute_result"
    }
   ],
   "source": [
    "edge_res.head()"
   ]
  },
  {
   "cell_type": "markdown",
   "metadata": {},
   "source": [
    "## Pathway Has Part Compound"
   ]
  },
  {
   "cell_type": "code",
   "execution_count": 64,
   "metadata": {},
   "outputs": [],
   "source": [
    "q = \"\"\"SELECT DISTINCT ?pathway ?compound \n",
    "WHERE {\n",
    "\n",
    "    # Initial typing for Pathway\n",
    "    ?pathway wdt:P31 wd:Q4915012 .\n",
    "    FILTER NOT EXISTS{?pathway wdt:P686 ?goid}\n",
    "  \n",
    "    # Initial typing for Compound\n",
    "    ?compound wdt:P31 wd:Q11173 .\n",
    "\n",
    "    ?pathway wdt:P527 ?compound\n",
    "} \"\"\""
   ]
  },
  {
   "cell_type": "code",
   "execution_count": 65,
   "metadata": {},
   "outputs": [],
   "source": [
    "qr = execute_sparql_query(q)\n",
    "edge_res = standardize_edges(qr, 'pathway', 'compound', 'has_part')\n",
    "\n",
    "edges.append(edge_res)"
   ]
  },
  {
   "cell_type": "code",
   "execution_count": 66,
   "metadata": {},
   "outputs": [
    {
     "data": {
      "text/html": [
       "<div>\n",
       "<style scoped>\n",
       "    .dataframe tbody tr th:only-of-type {\n",
       "        vertical-align: middle;\n",
       "    }\n",
       "\n",
       "    .dataframe tbody tr th {\n",
       "        vertical-align: top;\n",
       "    }\n",
       "\n",
       "    .dataframe thead th {\n",
       "        text-align: right;\n",
       "    }\n",
       "</style>\n",
       "<table border=\"1\" class=\"dataframe\">\n",
       "  <thead>\n",
       "    <tr style=\"text-align: right;\">\n",
       "      <th></th>\n",
       "      <th>start_id</th>\n",
       "      <th>end_id</th>\n",
       "      <th>type</th>\n",
       "      <th>dsrc_type</th>\n",
       "    </tr>\n",
       "  </thead>\n",
       "  <tbody>\n",
       "    <tr>\n",
       "      <th>0</th>\n",
       "      <td>Q30225529</td>\n",
       "      <td>Q210041</td>\n",
       "      <td>has_part</td>\n",
       "      <td>crowd_sourced</td>\n",
       "    </tr>\n",
       "    <tr>\n",
       "      <th>1</th>\n",
       "      <td>Q27436670</td>\n",
       "      <td>Q283</td>\n",
       "      <td>has_part</td>\n",
       "      <td>crowd_sourced</td>\n",
       "    </tr>\n",
       "    <tr>\n",
       "      <th>2</th>\n",
       "      <td>Q27436670</td>\n",
       "      <td>Q1997</td>\n",
       "      <td>has_part</td>\n",
       "      <td>crowd_sourced</td>\n",
       "    </tr>\n",
       "    <tr>\n",
       "      <th>3</th>\n",
       "      <td>Q27436284</td>\n",
       "      <td>Q29417</td>\n",
       "      <td>has_part</td>\n",
       "      <td>crowd_sourced</td>\n",
       "    </tr>\n",
       "    <tr>\n",
       "      <th>4</th>\n",
       "      <td>Q27436284</td>\n",
       "      <td>Q139347</td>\n",
       "      <td>has_part</td>\n",
       "      <td>crowd_sourced</td>\n",
       "    </tr>\n",
       "  </tbody>\n",
       "</table>\n",
       "</div>"
      ],
      "text/plain": [
       "    start_id   end_id      type      dsrc_type\n",
       "0  Q30225529  Q210041  has_part  crowd_sourced\n",
       "1  Q27436670     Q283  has_part  crowd_sourced\n",
       "2  Q27436670    Q1997  has_part  crowd_sourced\n",
       "3  Q27436284   Q29417  has_part  crowd_sourced\n",
       "4  Q27436284  Q139347  has_part  crowd_sourced"
      ]
     },
     "execution_count": 66,
     "metadata": {},
     "output_type": "execute_result"
    }
   ],
   "source": [
    "edge_res.head()"
   ]
  },
  {
   "cell_type": "markdown",
   "metadata": {},
   "source": [
    "## Pathway Medical_condition Disease"
   ]
  },
  {
   "cell_type": "code",
   "execution_count": 67,
   "metadata": {},
   "outputs": [],
   "source": [
    "q = \"\"\"SELECT DISTINCT ?pathway ?disease \n",
    "WHERE {\n",
    "\n",
    "    # Initial typing for Pathway\n",
    "    ?pathway wdt:P31 wd:Q4915012 .\n",
    "    FILTER NOT EXISTS{?pathway wdt:P686 ?goid}\n",
    "  \n",
    "    # Initial typing for Disease\n",
    "    {?disease wdt:P31 wd:Q12136 .}UNION{?disease wdt:P699 ?doid}\n",
    "\n",
    "    {?pathway wdt:P1050 ?disease}\n",
    "} \"\"\""
   ]
  },
  {
   "cell_type": "code",
   "execution_count": 68,
   "metadata": {},
   "outputs": [],
   "source": [
    "qr = execute_sparql_query(q)\n",
    "edge_res = standardize_edges(qr, 'pathway', 'disease', 'associated_with')\n",
    "\n",
    "edges.append(edge_res)"
   ]
  },
  {
   "cell_type": "code",
   "execution_count": 69,
   "metadata": {},
   "outputs": [
    {
     "data": {
      "text/html": [
       "<div>\n",
       "<style scoped>\n",
       "    .dataframe tbody tr th:only-of-type {\n",
       "        vertical-align: middle;\n",
       "    }\n",
       "\n",
       "    .dataframe tbody tr th {\n",
       "        vertical-align: top;\n",
       "    }\n",
       "\n",
       "    .dataframe thead th {\n",
       "        text-align: right;\n",
       "    }\n",
       "</style>\n",
       "<table border=\"1\" class=\"dataframe\">\n",
       "  <thead>\n",
       "    <tr style=\"text-align: right;\">\n",
       "      <th></th>\n",
       "      <th>start_id</th>\n",
       "      <th>end_id</th>\n",
       "      <th>type</th>\n",
       "      <th>dsrc_type</th>\n",
       "    </tr>\n",
       "  </thead>\n",
       "  <tbody>\n",
       "    <tr>\n",
       "      <th>0</th>\n",
       "      <td>Q30230842</td>\n",
       "      <td>Q12078</td>\n",
       "      <td>associated_with</td>\n",
       "      <td>crowd_sourced</td>\n",
       "    </tr>\n",
       "    <tr>\n",
       "      <th>1</th>\n",
       "      <td>Q30230843</td>\n",
       "      <td>Q12078</td>\n",
       "      <td>associated_with</td>\n",
       "      <td>crowd_sourced</td>\n",
       "    </tr>\n",
       "    <tr>\n",
       "      <th>2</th>\n",
       "      <td>Q30230840</td>\n",
       "      <td>Q12078</td>\n",
       "      <td>associated_with</td>\n",
       "      <td>crowd_sourced</td>\n",
       "    </tr>\n",
       "    <tr>\n",
       "      <th>3</th>\n",
       "      <td>Q30230846</td>\n",
       "      <td>Q12078</td>\n",
       "      <td>associated_with</td>\n",
       "      <td>crowd_sourced</td>\n",
       "    </tr>\n",
       "    <tr>\n",
       "      <th>4</th>\n",
       "      <td>Q30230847</td>\n",
       "      <td>Q12078</td>\n",
       "      <td>associated_with</td>\n",
       "      <td>crowd_sourced</td>\n",
       "    </tr>\n",
       "  </tbody>\n",
       "</table>\n",
       "</div>"
      ],
      "text/plain": [
       "    start_id  end_id             type      dsrc_type\n",
       "0  Q30230842  Q12078  associated_with  crowd_sourced\n",
       "1  Q30230843  Q12078  associated_with  crowd_sourced\n",
       "2  Q30230840  Q12078  associated_with  crowd_sourced\n",
       "3  Q30230846  Q12078  associated_with  crowd_sourced\n",
       "4  Q30230847  Q12078  associated_with  crowd_sourced"
      ]
     },
     "execution_count": 69,
     "metadata": {},
     "output_type": "execute_result"
    }
   ],
   "source": [
    "edge_res.head()"
   ]
  },
  {
   "cell_type": "markdown",
   "metadata": {},
   "source": [
    "## Pathway to BP"
   ]
  },
  {
   "cell_type": "code",
   "execution_count": 70,
   "metadata": {},
   "outputs": [],
   "source": [
    "q = \"\"\"SELECT DISTINCT ?pathway ?bio_process \n",
    "WHERE {\n",
    "\n",
    "    # Initial typing for Pathway\n",
    "    ?pathway wdt:P31 wd:Q4915012 .\n",
    "    FILTER NOT EXISTS{?pathway wdt:P686 ?goid}\n",
    "  \n",
    "    # Initial typing for Bio Process\n",
    "    ?bio_process wdt:P31 wd:Q2996394 .\n",
    "    ?bio_process wdt:P686 ?goid .\n",
    "\n",
    "    {?pathway wdt:P31 ?bio_process}UNION{?bio_process wdt:P31 ?pathway}\n",
    "} \"\"\""
   ]
  },
  {
   "cell_type": "code",
   "execution_count": 71,
   "metadata": {},
   "outputs": [],
   "source": [
    "qr = execute_sparql_query(q)\n",
    "edge_res = standardize_edges(qr, 'pathway', 'bio_process', 'involved_in')\n",
    "\n",
    "edges.append(edge_res)"
   ]
  },
  {
   "cell_type": "code",
   "execution_count": 72,
   "metadata": {},
   "outputs": [
    {
     "data": {
      "text/html": [
       "<div>\n",
       "<style scoped>\n",
       "    .dataframe tbody tr th:only-of-type {\n",
       "        vertical-align: middle;\n",
       "    }\n",
       "\n",
       "    .dataframe tbody tr th {\n",
       "        vertical-align: top;\n",
       "    }\n",
       "\n",
       "    .dataframe thead th {\n",
       "        text-align: right;\n",
       "    }\n",
       "</style>\n",
       "<table border=\"1\" class=\"dataframe\">\n",
       "  <thead>\n",
       "    <tr style=\"text-align: right;\">\n",
       "      <th></th>\n",
       "      <th>start_id</th>\n",
       "      <th>end_id</th>\n",
       "      <th>type</th>\n",
       "      <th>dsrc_type</th>\n",
       "    </tr>\n",
       "  </thead>\n",
       "  <tbody>\n",
       "    <tr>\n",
       "      <th>0</th>\n",
       "      <td>Q29017194</td>\n",
       "      <td>Q847556</td>\n",
       "      <td>involved_in</td>\n",
       "      <td>crowd_sourced</td>\n",
       "    </tr>\n",
       "    <tr>\n",
       "      <th>1</th>\n",
       "      <td>Q34340147</td>\n",
       "      <td>Q14327702</td>\n",
       "      <td>involved_in</td>\n",
       "      <td>crowd_sourced</td>\n",
       "    </tr>\n",
       "    <tr>\n",
       "      <th>2</th>\n",
       "      <td>Q36804385</td>\n",
       "      <td>Q1068809</td>\n",
       "      <td>involved_in</td>\n",
       "      <td>crowd_sourced</td>\n",
       "    </tr>\n",
       "    <tr>\n",
       "      <th>3</th>\n",
       "      <td>Q45314192</td>\n",
       "      <td>Q208353</td>\n",
       "      <td>involved_in</td>\n",
       "      <td>crowd_sourced</td>\n",
       "    </tr>\n",
       "    <tr>\n",
       "      <th>4</th>\n",
       "      <td>Q45314197</td>\n",
       "      <td>Q210538</td>\n",
       "      <td>involved_in</td>\n",
       "      <td>crowd_sourced</td>\n",
       "    </tr>\n",
       "  </tbody>\n",
       "</table>\n",
       "</div>"
      ],
      "text/plain": [
       "    start_id     end_id         type      dsrc_type\n",
       "0  Q29017194    Q847556  involved_in  crowd_sourced\n",
       "1  Q34340147  Q14327702  involved_in  crowd_sourced\n",
       "2  Q36804385   Q1068809  involved_in  crowd_sourced\n",
       "3  Q45314192    Q208353  involved_in  crowd_sourced\n",
       "4  Q45314197    Q210538  involved_in  crowd_sourced"
      ]
     },
     "execution_count": 72,
     "metadata": {},
     "output_type": "execute_result"
    }
   ],
   "source": [
    "edge_res.head()"
   ]
  },
  {
   "cell_type": "markdown",
   "metadata": {},
   "source": [
    "## Disease to Phenotype"
   ]
  },
  {
   "cell_type": "code",
   "execution_count": 73,
   "metadata": {},
   "outputs": [],
   "source": [
    "q = \"\"\"  SELECT DISTINCT ?disease ?pheno\n",
    "  WHERE {\n",
    "\n",
    "      # Initial typing for Symptom\n",
    "      {?disease wdt:P31 wd:Q12136}UNION{?disease wdt:P699 ?doid}\n",
    "    \n",
    "      # Initial typing for Phenotype\n",
    "      {?pheno wdt:P31 wd:Q169872.}UNION{?pheno wdt:P3841 ?hpo}\n",
    "\n",
    "      {?pheno wdt:P780 ?disease}UNION{?disease wdt:P780 ?pheno}\n",
    "\n",
    "  }\"\"\""
   ]
  },
  {
   "cell_type": "code",
   "execution_count": 74,
   "metadata": {},
   "outputs": [],
   "source": [
    "qr = execute_sparql_query(q)\n",
    "edge_res = standardize_edges(qr, 'disease', 'pheno', 'presents')\n",
    "\n",
    "edges.append(edge_res)"
   ]
  },
  {
   "cell_type": "code",
   "execution_count": 75,
   "metadata": {},
   "outputs": [
    {
     "data": {
      "text/html": [
       "<div>\n",
       "<style scoped>\n",
       "    .dataframe tbody tr th:only-of-type {\n",
       "        vertical-align: middle;\n",
       "    }\n",
       "\n",
       "    .dataframe tbody tr th {\n",
       "        vertical-align: top;\n",
       "    }\n",
       "\n",
       "    .dataframe thead th {\n",
       "        text-align: right;\n",
       "    }\n",
       "</style>\n",
       "<table border=\"1\" class=\"dataframe\">\n",
       "  <thead>\n",
       "    <tr style=\"text-align: right;\">\n",
       "      <th></th>\n",
       "      <th>start_id</th>\n",
       "      <th>end_id</th>\n",
       "      <th>type</th>\n",
       "      <th>dsrc_type</th>\n",
       "    </tr>\n",
       "  </thead>\n",
       "  <tbody>\n",
       "    <tr>\n",
       "      <th>0</th>\n",
       "      <td>Q51993</td>\n",
       "      <td>Q2610154</td>\n",
       "      <td>presents</td>\n",
       "      <td>crowd_sourced</td>\n",
       "    </tr>\n",
       "    <tr>\n",
       "      <th>1</th>\n",
       "      <td>Q167844</td>\n",
       "      <td>Q2610154</td>\n",
       "      <td>presents</td>\n",
       "      <td>crowd_sourced</td>\n",
       "    </tr>\n",
       "    <tr>\n",
       "      <th>2</th>\n",
       "      <td>Q176741</td>\n",
       "      <td>Q2673323</td>\n",
       "      <td>presents</td>\n",
       "      <td>crowd_sourced</td>\n",
       "    </tr>\n",
       "    <tr>\n",
       "      <th>3</th>\n",
       "      <td>Q203133</td>\n",
       "      <td>Q2673323</td>\n",
       "      <td>presents</td>\n",
       "      <td>crowd_sourced</td>\n",
       "    </tr>\n",
       "    <tr>\n",
       "      <th>4</th>\n",
       "      <td>Q408089</td>\n",
       "      <td>Q3002092</td>\n",
       "      <td>presents</td>\n",
       "      <td>crowd_sourced</td>\n",
       "    </tr>\n",
       "  </tbody>\n",
       "</table>\n",
       "</div>"
      ],
      "text/plain": [
       "  start_id    end_id      type      dsrc_type\n",
       "0   Q51993  Q2610154  presents  crowd_sourced\n",
       "1  Q167844  Q2610154  presents  crowd_sourced\n",
       "2  Q176741  Q2673323  presents  crowd_sourced\n",
       "3  Q203133  Q2673323  presents  crowd_sourced\n",
       "4  Q408089  Q3002092  presents  crowd_sourced"
      ]
     },
     "execution_count": 75,
     "metadata": {},
     "output_type": "execute_result"
    }
   ],
   "source": [
    "edge_res.head()"
   ]
  },
  {
   "cell_type": "markdown",
   "metadata": {},
   "source": [
    "## Compound TREATS Phenotype"
   ]
  },
  {
   "cell_type": "code",
   "execution_count": 76,
   "metadata": {},
   "outputs": [],
   "source": [
    "q = \"\"\"SELECT DISTINCT ?compound ?pheno\n",
    "  WHERE {\n",
    "\n",
    "      # Initial typing for Compound\n",
    "      ?compound wdt:P31 wd:Q11173 .\n",
    "    \n",
    "      # Initial typing for Phenotype\n",
    "      {?pheno wdt:P31 wd:Q169872.}UNION{?pheno wdt:P3841 ?hpo}\n",
    "\n",
    "      {?pheno wdt:P2176 ?compound}UNION{?compound wdt:P2175 ?pheno}\n",
    "  } \"\"\""
   ]
  },
  {
   "cell_type": "code",
   "execution_count": 77,
   "metadata": {},
   "outputs": [],
   "source": [
    "qr = execute_sparql_query(q)\n",
    "edge_res = standardize_edges(qr, 'compound', 'pheno', 'treats')\n",
    "\n",
    "edges.append(edge_res)"
   ]
  },
  {
   "cell_type": "code",
   "execution_count": 78,
   "metadata": {},
   "outputs": [
    {
     "data": {
      "text/html": [
       "<div>\n",
       "<style scoped>\n",
       "    .dataframe tbody tr th:only-of-type {\n",
       "        vertical-align: middle;\n",
       "    }\n",
       "\n",
       "    .dataframe tbody tr th {\n",
       "        vertical-align: top;\n",
       "    }\n",
       "\n",
       "    .dataframe thead th {\n",
       "        text-align: right;\n",
       "    }\n",
       "</style>\n",
       "<table border=\"1\" class=\"dataframe\">\n",
       "  <thead>\n",
       "    <tr style=\"text-align: right;\">\n",
       "      <th></th>\n",
       "      <th>start_id</th>\n",
       "      <th>end_id</th>\n",
       "      <th>type</th>\n",
       "      <th>dsrc_type</th>\n",
       "    </tr>\n",
       "  </thead>\n",
       "  <tbody>\n",
       "    <tr>\n",
       "      <th>0</th>\n",
       "      <td>Q29310</td>\n",
       "      <td>Q145790</td>\n",
       "      <td>treats</td>\n",
       "      <td>crowd_sourced</td>\n",
       "    </tr>\n",
       "    <tr>\n",
       "      <th>1</th>\n",
       "      <td>Q58356</td>\n",
       "      <td>Q170082</td>\n",
       "      <td>treats</td>\n",
       "      <td>crowd_sourced</td>\n",
       "    </tr>\n",
       "    <tr>\n",
       "      <th>2</th>\n",
       "      <td>Q186969</td>\n",
       "      <td>Q187255</td>\n",
       "      <td>treats</td>\n",
       "      <td>crowd_sourced</td>\n",
       "    </tr>\n",
       "    <tr>\n",
       "      <th>3</th>\n",
       "      <td>Q190067</td>\n",
       "      <td>Q127076</td>\n",
       "      <td>treats</td>\n",
       "      <td>crowd_sourced</td>\n",
       "    </tr>\n",
       "    <tr>\n",
       "      <th>4</th>\n",
       "      <td>Q201872</td>\n",
       "      <td>Q170082</td>\n",
       "      <td>treats</td>\n",
       "      <td>crowd_sourced</td>\n",
       "    </tr>\n",
       "  </tbody>\n",
       "</table>\n",
       "</div>"
      ],
      "text/plain": [
       "  start_id   end_id    type      dsrc_type\n",
       "0   Q29310  Q145790  treats  crowd_sourced\n",
       "1   Q58356  Q170082  treats  crowd_sourced\n",
       "2  Q186969  Q187255  treats  crowd_sourced\n",
       "3  Q190067  Q127076  treats  crowd_sourced\n",
       "4  Q201872  Q170082  treats  crowd_sourced"
      ]
     },
     "execution_count": 78,
     "metadata": {},
     "output_type": "execute_result"
    }
   ],
   "source": [
    "edge_res.head()"
   ]
  },
  {
   "cell_type": "markdown",
   "metadata": {},
   "source": [
    "# Subclass Edges for later Punning"
   ]
  },
  {
   "cell_type": "markdown",
   "metadata": {},
   "source": [
    "## Disease is a Subclass of disease"
   ]
  },
  {
   "cell_type": "code",
   "execution_count": 79,
   "metadata": {},
   "outputs": [],
   "source": [
    "q = \"\"\"SELECT DISTINCT ?disease ?diseaseLabel ?disease1 ?disease1Label\n",
    "WHERE {\n",
    "\n",
    "    # Initial typing for Disease\n",
    "    {?disease wdt:P31 wd:Q12136}UNION{?disease wdt:P699 ?doid}.\n",
    "    {?disease1 wdt:P31 wd:Q12136}UNION{?disease1 wdt:P699 ?doid1}.\n",
    "\n",
    "    ?disease wdt:P279? ?disease1\n",
    "\n",
    "    SERVICE wikibase:label { bd:serviceParam wikibase:language \"[AUTO_LANGAGE],en\" }\n",
    "}\"\"\""
   ]
  },
  {
   "cell_type": "code",
   "execution_count": 80,
   "metadata": {},
   "outputs": [],
   "source": [
    "qr = execute_sparql_query(q)\n",
    "edge_res = standardize_edges(qr, 'disease', 'disease1', 'subclass_of')\n",
    "\n",
    "edges.append(edge_res)"
   ]
  },
  {
   "cell_type": "code",
   "execution_count": 81,
   "metadata": {},
   "outputs": [
    {
     "data": {
      "text/html": [
       "<div>\n",
       "<style scoped>\n",
       "    .dataframe tbody tr th:only-of-type {\n",
       "        vertical-align: middle;\n",
       "    }\n",
       "\n",
       "    .dataframe tbody tr th {\n",
       "        vertical-align: top;\n",
       "    }\n",
       "\n",
       "    .dataframe thead th {\n",
       "        text-align: right;\n",
       "    }\n",
       "</style>\n",
       "<table border=\"1\" class=\"dataframe\">\n",
       "  <thead>\n",
       "    <tr style=\"text-align: right;\">\n",
       "      <th></th>\n",
       "      <th>start_id</th>\n",
       "      <th>end_id</th>\n",
       "      <th>type</th>\n",
       "      <th>dsrc_type</th>\n",
       "    </tr>\n",
       "  </thead>\n",
       "  <tbody>\n",
       "    <tr>\n",
       "      <th>0</th>\n",
       "      <td>Q144119</td>\n",
       "      <td>Q144119</td>\n",
       "      <td>subclass_of</td>\n",
       "      <td>crowd_sourced</td>\n",
       "    </tr>\n",
       "    <tr>\n",
       "      <th>1</th>\n",
       "      <td>Q143790</td>\n",
       "      <td>Q143790</td>\n",
       "      <td>subclass_of</td>\n",
       "      <td>crowd_sourced</td>\n",
       "    </tr>\n",
       "    <tr>\n",
       "      <th>2</th>\n",
       "      <td>Q153356</td>\n",
       "      <td>Q153356</td>\n",
       "      <td>subclass_of</td>\n",
       "      <td>crowd_sourced</td>\n",
       "    </tr>\n",
       "    <tr>\n",
       "      <th>3</th>\n",
       "      <td>Q145790</td>\n",
       "      <td>Q145790</td>\n",
       "      <td>subclass_of</td>\n",
       "      <td>crowd_sourced</td>\n",
       "    </tr>\n",
       "    <tr>\n",
       "      <th>4</th>\n",
       "      <td>Q147270</td>\n",
       "      <td>Q147270</td>\n",
       "      <td>subclass_of</td>\n",
       "      <td>crowd_sourced</td>\n",
       "    </tr>\n",
       "  </tbody>\n",
       "</table>\n",
       "</div>"
      ],
      "text/plain": [
       "  start_id   end_id         type      dsrc_type\n",
       "0  Q144119  Q144119  subclass_of  crowd_sourced\n",
       "1  Q143790  Q143790  subclass_of  crowd_sourced\n",
       "2  Q153356  Q153356  subclass_of  crowd_sourced\n",
       "3  Q145790  Q145790  subclass_of  crowd_sourced\n",
       "4  Q147270  Q147270  subclass_of  crowd_sourced"
      ]
     },
     "execution_count": 81,
     "metadata": {},
     "output_type": "execute_result"
    }
   ],
   "source": [
    "edge_res.head()"
   ]
  },
  {
   "cell_type": "markdown",
   "metadata": {},
   "source": [
    "## Anatomy subclass of Anatomy"
   ]
  },
  {
   "cell_type": "code",
   "execution_count": 82,
   "metadata": {},
   "outputs": [],
   "source": [
    "q = \"\"\"SELECT DISTINCT ?anatomy ?anatomyLabel ?anatomy1 ?anatomy1Label\n",
    "WHERE {\n",
    "\n",
    "\n",
    "    # Initial typing for Anatomical Structure\n",
    "    ?anatomy wdt:P1554 ?uberon .\n",
    "    ?anatomy1 wdt:P1554 ?uberon1 .\n",
    "    \n",
    "    ?anatomy wdt:P279? ?anatomy1\n",
    "\n",
    "    SERVICE wikibase:label { bd:serviceParam wikibase:language \"[AUTO_LANGAGE],en\" }\n",
    "}\"\"\""
   ]
  },
  {
   "cell_type": "code",
   "execution_count": 83,
   "metadata": {},
   "outputs": [],
   "source": [
    "qr = execute_sparql_query(q)\n",
    "edge_res = standardize_edges(qr, 'anatomy', 'anatomy1', 'subclass_of')\n",
    "\n",
    "edges.append(edge_res)"
   ]
  },
  {
   "cell_type": "code",
   "execution_count": 84,
   "metadata": {},
   "outputs": [
    {
     "data": {
      "text/html": [
       "<div>\n",
       "<style scoped>\n",
       "    .dataframe tbody tr th:only-of-type {\n",
       "        vertical-align: middle;\n",
       "    }\n",
       "\n",
       "    .dataframe tbody tr th {\n",
       "        vertical-align: top;\n",
       "    }\n",
       "\n",
       "    .dataframe thead th {\n",
       "        text-align: right;\n",
       "    }\n",
       "</style>\n",
       "<table border=\"1\" class=\"dataframe\">\n",
       "  <thead>\n",
       "    <tr style=\"text-align: right;\">\n",
       "      <th></th>\n",
       "      <th>start_id</th>\n",
       "      <th>end_id</th>\n",
       "      <th>type</th>\n",
       "      <th>dsrc_type</th>\n",
       "    </tr>\n",
       "  </thead>\n",
       "  <tbody>\n",
       "    <tr>\n",
       "      <th>0</th>\n",
       "      <td>Q179422</td>\n",
       "      <td>Q179422</td>\n",
       "      <td>subclass_of</td>\n",
       "      <td>crowd_sourced</td>\n",
       "    </tr>\n",
       "    <tr>\n",
       "      <th>1</th>\n",
       "      <td>Q168291</td>\n",
       "      <td>Q168291</td>\n",
       "      <td>subclass_of</td>\n",
       "      <td>crowd_sourced</td>\n",
       "    </tr>\n",
       "    <tr>\n",
       "      <th>2</th>\n",
       "      <td>Q181602</td>\n",
       "      <td>Q181602</td>\n",
       "      <td>subclass_of</td>\n",
       "      <td>crowd_sourced</td>\n",
       "    </tr>\n",
       "    <tr>\n",
       "      <th>3</th>\n",
       "      <td>Q177744</td>\n",
       "      <td>Q177744</td>\n",
       "      <td>subclass_of</td>\n",
       "      <td>crowd_sourced</td>\n",
       "    </tr>\n",
       "    <tr>\n",
       "      <th>4</th>\n",
       "      <td>Q178492</td>\n",
       "      <td>Q178492</td>\n",
       "      <td>subclass_of</td>\n",
       "      <td>crowd_sourced</td>\n",
       "    </tr>\n",
       "  </tbody>\n",
       "</table>\n",
       "</div>"
      ],
      "text/plain": [
       "  start_id   end_id         type      dsrc_type\n",
       "0  Q179422  Q179422  subclass_of  crowd_sourced\n",
       "1  Q168291  Q168291  subclass_of  crowd_sourced\n",
       "2  Q181602  Q181602  subclass_of  crowd_sourced\n",
       "3  Q177744  Q177744  subclass_of  crowd_sourced\n",
       "4  Q178492  Q178492  subclass_of  crowd_sourced"
      ]
     },
     "execution_count": 84,
     "metadata": {},
     "output_type": "execute_result"
    }
   ],
   "source": [
    "edge_res.head()"
   ]
  },
  {
   "cell_type": "markdown",
   "metadata": {},
   "source": [
    "## Combine new edge and node results"
   ]
  },
  {
   "cell_type": "code",
   "execution_count": 85,
   "metadata": {},
   "outputs": [],
   "source": [
    "nodes.append(prev_nodes)\n",
    "nodes = pd.concat(nodes, sort=False, ignore_index=True)\n",
    "edges = pd.concat(edges, sort=False, ignore_index=True)"
   ]
  },
  {
   "cell_type": "code",
   "execution_count": 86,
   "metadata": {},
   "outputs": [
    {
     "data": {
      "text/plain": [
       "767427"
      ]
     },
     "execution_count": 86,
     "metadata": {},
     "output_type": "execute_result"
    }
   ],
   "source": [
    "len(nodes)"
   ]
  },
  {
   "cell_type": "code",
   "execution_count": 87,
   "metadata": {
    "scrolled": true
   },
   "outputs": [
    {
     "data": {
      "text/plain": [
       "3766673"
      ]
     },
     "execution_count": 87,
     "metadata": {},
     "output_type": "execute_result"
    }
   ],
   "source": [
    "len(edges)"
   ]
  },
  {
   "cell_type": "code",
   "execution_count": 88,
   "metadata": {},
   "outputs": [
    {
     "data": {
      "image/png": "[encoded data removed]",
      "text/plain": [
       "<Figure size 432x288 with 1 Axes>"
      ]
     },
     "metadata": {
      "needs_background": "light"
     },
     "output_type": "display_data"
    }
   ],
   "source": [
    "count_plot_h(nodes['label'])"
   ]
  },
  {
   "cell_type": "code",
   "execution_count": 89,
   "metadata": {},
   "outputs": [
    {
     "data": {
      "image/png": "[encoded data removed]",
      "text/plain": [
       "<Figure size 432x288 with 1 Axes>"
      ]
     },
     "metadata": {
      "needs_background": "light"
     },
     "output_type": "display_data"
    }
   ],
   "source": [
    "count_plot_h(edges['type'].value_counts().head(10))"
   ]
  },
  {
   "cell_type": "code",
   "execution_count": 90,
   "metadata": {},
   "outputs": [
    {
     "data": {
      "image/png": "[encoded data removed]",
      "text/plain": [
       "<Figure size 432x288 with 1 Axes>"
      ]
     },
     "metadata": {
      "needs_background": "light"
     },
     "output_type": "display_data"
    }
   ],
   "source": [
    "count_plot_h(edges['type'].value_counts().head(20).tail(10))"
   ]
  },
  {
   "cell_type": "markdown",
   "metadata": {},
   "source": [
    "# Save the new info out"
   ]
  },
  {
   "cell_type": "code",
   "execution_count": 91,
   "metadata": {},
   "outputs": [],
   "source": [
    "this_file = '01b_WikiData_Edges'\n",
    "out_dir = Path('../2_pipeline/').joinpath(this_file, 'out').resolve()\n",
    "\n",
    "out_dir.mkdir(parents=True, exist_ok=True)\n",
    "\n",
    "nodes.to_csv(out_dir.joinpath('nodes.csv'), index=False)\n",
    "edges.to_csv(out_dir.joinpath('edges.csv'), index=False)"
   ]
  }
 ],
 "metadata": {
  "kernelspec": {
   "display_name": "Python 3",
   "language": "python",
   "name": "python3"
  },
  "language_info": {
   "codemirror_mode": {
    "name": "ipython",
    "version": 3
   },
   "file_extension": ".py",
   "mimetype": "text/x-python",
   "name": "python",
   "nbconvert_exporter": "python",
   "pygments_lexer": "ipython3",
   "version": "3.8.3"
  }
 },
 "nbformat": 4,
 "nbformat_minor": 2
}
