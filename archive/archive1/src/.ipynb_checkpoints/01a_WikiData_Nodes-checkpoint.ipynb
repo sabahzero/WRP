{
 "cells": [
  {
   "cell_type": "markdown",
   "metadata": {},
   "source": [
    "# Query WikiData to get Biomedical Entities\n",
    "\n",
    "We will get the nodes (and later some edges) for our biomedical graph from WikiData"
   ]
  },
  {
   "cell_type": "code",
   "execution_count": 4,
   "metadata": {},
   "outputs": [
    {
     "name": "stderr",
     "output_type": "stream",
     "text": [
      "/Users/sulhasan/opt/anaconda3/lib/python3.8/site-packages/data_tools/df_processing.py:4: TqdmExperimentalWarning: Using `tqdm.autonotebook.tqdm` in notebook mode. Use `tqdm.tqdm` instead to force console mode (e.g. in jupyter console)\n",
      "  from tqdm.autonotebook import tqdm\n"
     ]
    }
   ],
   "source": [
    "import pandas as pd\n",
    "from pathlib import Path\n",
    "\n",
    "\n",
    "### 'ModuleNotFoundError' for both\n",
    "from data_tools.df_processing import char_combine_iter \n",
    "# Solution to 'ModuleNotFoundError: No module named 'data_tools''\n",
    "## Terminal -> \"pip install data_tools\"\n",
    "from data_tools.wiki import node_query_pipeline\n",
    "\n",
    "# are .df_processing and .wiki our own defined packages?\n",
    "\n",
    "# https://github.com/mmayers12/data_tools\n",
    "### Issue: Installing a different data_tools than what mike was installing\n",
    "### pip install git+https://github.com/mmayers12/data_tools"
   ]
  },
  {
   "cell_type": "code",
   "execution_count": 5,
   "metadata": {},
   "outputs": [],
   "source": [
    "nodes = []"
   ]
  },
  {
   "cell_type": "markdown",
   "metadata": {},
   "source": [
    "# Diseases"
   ]
  },
  {
   "cell_type": "code",
   "execution_count": 6,
   "metadata": {},
   "outputs": [],
   "source": [
    "q = \"\"\" SELECT DISTINCT ?disease ?diseaseLabel ?umlscui ?snomed_ct ?doid ?mesh ?mondo ?omim ?orpha\n",
    "        WHERE {\n",
    "\n",
    "          # Initial typing for Disease \n",
    "          # Either instance of Disease of has a Disease Ontology ID\n",
    "          {?disease wdt:P31 wd:Q12136}UNION{?disease wdt:P699 ?doid}.\n",
    "\n",
    "          OPTIONAL {?disease wdt:P2892 ?umlscui .}\n",
    "          OPTIONAL {?disease wdt:P5806 ?snomed_ct. }\n",
    "          OPTIONAL {?disease wdt:P699 ?doid. }\n",
    "          OPTIONAL {?disease wdt:P486 ?mesh. }\n",
    "          OPTIONAL {?disease wdt:P5270 ?mondo. }\n",
    "          OPTIONAL {?disease wdt:P492 ?omim. }\n",
    "          OPTIONAL {?disease wdt:P1550 ?orpha. }\n",
    "\n",
    "          SERVICE wikibase:label { bd:serviceParam wikibase:language \"[AUTO_LANGAGE],en\" }\n",
    "        }\"\"\""
   ]
  },
  {
   "cell_type": "code",
   "execution_count": 7,
   "metadata": {},
   "outputs": [
    {
     "data": {
      "text/html": [
       "<div>\n",
       "<style scoped>\n",
       "    .dataframe tbody tr th:only-of-type {\n",
       "        vertical-align: middle;\n",
       "    }\n",
       "\n",
       "    .dataframe tbody tr th {\n",
       "        vertical-align: top;\n",
       "    }\n",
       "\n",
       "    .dataframe thead th {\n",
       "        text-align: right;\n",
       "    }\n",
       "</style>\n",
       "<table border=\"1\" class=\"dataframe\">\n",
       "  <thead>\n",
       "    <tr style=\"text-align: right;\">\n",
       "      <th></th>\n",
       "      <th>id</th>\n",
       "      <th>name</th>\n",
       "      <th>label</th>\n",
       "      <th>xrefs</th>\n",
       "    </tr>\n",
       "  </thead>\n",
       "  <tbody>\n",
       "    <tr>\n",
       "      <th>0</th>\n",
       "      <td>Q1001150</td>\n",
       "      <td>fibrillation</td>\n",
       "      <td>Disease</td>\n",
       "      <td>UMLS:C0232197</td>\n",
       "    </tr>\n",
       "    <tr>\n",
       "      <th>1</th>\n",
       "      <td>Q100165995</td>\n",
       "      <td>acute pulmonary hypertension</td>\n",
       "      <td>Disease</td>\n",
       "      <td></td>\n",
       "    </tr>\n",
       "    <tr>\n",
       "      <th>2</th>\n",
       "      <td>Q1002195</td>\n",
       "      <td>autosomal recessive limb-girdle muscular dystr...</td>\n",
       "      <td>Disease</td>\n",
       "      <td>DOID:DOID:0110297|MONDO:MONDO:0012248|OMIM:609...</td>\n",
       "    </tr>\n",
       "    <tr>\n",
       "      <th>3</th>\n",
       "      <td>Q1003534</td>\n",
       "      <td>bulbar syndrome</td>\n",
       "      <td>Disease</td>\n",
       "      <td></td>\n",
       "    </tr>\n",
       "    <tr>\n",
       "      <th>4</th>\n",
       "      <td>Q1004647</td>\n",
       "      <td>bullous pemphigoid</td>\n",
       "      <td>Disease</td>\n",
       "      <td>DOID:DOID:8506|MESH:D010391|MONDO:MONDO:001908...</td>\n",
       "    </tr>\n",
       "  </tbody>\n",
       "</table>\n",
       "</div>"
      ],
      "text/plain": [
       "           id                                               name    label  \\\n",
       "0    Q1001150                                       fibrillation  Disease   \n",
       "1  Q100165995                       acute pulmonary hypertension  Disease   \n",
       "2    Q1002195  autosomal recessive limb-girdle muscular dystr...  Disease   \n",
       "3    Q1003534                                    bulbar syndrome  Disease   \n",
       "4    Q1004647                                 bullous pemphigoid  Disease   \n",
       "\n",
       "                                               xrefs  \n",
       "0                                      UMLS:C0232197  \n",
       "1                                                     \n",
       "2  DOID:DOID:0110297|MONDO:MONDO:0012248|OMIM:609...  \n",
       "3                                                     \n",
       "4  DOID:DOID:8506|MESH:D010391|MONDO:MONDO:001908...  "
      ]
     },
     "execution_count": 7,
     "metadata": {},
     "output_type": "execute_result"
    }
   ],
   "source": [
    "dis_curi_map = {'umlscui': 'UMLS', 'snomed_ct': 'SNOMED', 'mesh': 'MESH', \n",
    "                'doid': 'DOID', 'mondo': 'MONDO', 'omim': 'OMIM', 'orpha': 'ORPHA'}\n",
    "\n",
    "res = node_query_pipeline(q, dis_curi_map, 'disease')\n",
    "# what's happening in the 'node_query_pipeline()' function that's outputting format?\n",
    "nodes.append(res)\n",
    "nodes[0].head()"
   ]
  },
  {
   "cell_type": "code",
   "execution_count": 12,
   "metadata": {},
   "outputs": [
    {
     "name": "stdout",
     "output_type": "stream",
     "text": [
      "Object `data_tools.wiki` not found.\n"
     ]
    }
   ],
   "source": [
    "??data_tools.wiki"
   ]
  },
  {
   "cell_type": "markdown",
   "metadata": {},
   "source": [
    "# Compounds"
   ]
  },
  {
   "cell_type": "code",
   "execution_count": 13,
   "metadata": {},
   "outputs": [],
   "source": [
    "q = \"\"\"SELECT DISTINCT ?compound ?compoundLabel ?kegg_drug ?chebi ?drugbank_id ?umlscui ?chembl_id ?unii ?ikey ?pubchem_cid ?rxnorm ?mesh_supplemental_record_ui ?mesh_descriptor_ui\n",
    "        WHERE {\n",
    "\n",
    "          # Initial typing for Compound\n",
    "          ?compound wdt:P31 wd:Q11173 .\n",
    "          # Give me all Wikidata items where the item is an instance of a chemical compound\n",
    "\n",
    "        # Whatever item up there may optionally have the following identifier + variable\n",
    "          OPTIONAL { ?compound wdt:P665 ?kegg_drug .}\n",
    "          OPTIONAL { ?compound wdt:P683 ?chebi .}\n",
    "          OPTIONAL { ?compound wdt:P715 ?drugbank_id .}\n",
    "          OPTIONAL { ?compound wdt:P2892 ?umlscui .}\n",
    "          OPTIONAL { ?compound wdt:P592 ?chembl_id .}\n",
    "          OPTIONAL { ?compound wdt:P652 ?unii .}\n",
    "          OPTIONAL { ?compound wdt:P3350 ?ikey .}\n",
    "          OPTIONAL { ?compound wdt:P662 ?pubchem_cid .}\n",
    "          OPTIONAL { ?compound wdt:P3345 ?rxnorm .}\n",
    "          OPTIONAL { ?compound wdt:P6680 ?mesh_supplemental_record_ui .}\n",
    "          OPTIONAL { ?compound wdt:P486 ?mesh_descriptor_ui .}\n",
    "\n",
    "          SERVICE wikibase:label { bd:serviceParam wikibase:language \"[AUTO_LANGAGE],en\" }\n",
    "        }\n",
    "        \n",
    "        limit 100\"\"\""
   ]
  },
  {
   "cell_type": "code",
   "execution_count": null,
   "metadata": {},
   "outputs": [],
   "source": [
    "chem_curi_map = {'unii': 'UNII', \n",
    "    'rxnorm': 'RxCUI', \n",
    "    'drugbank_id': 'DB', \n",
    "    'umlscui': 'UMLS', \n",
    "    'chebi': 'CHEBI', \n",
    "    'chembl_id': 'CHEMBL',\n",
    "    'kegg_drug': 'KEGG', \n",
    "    'ikey': 'IKEY', \n",
    "    'pubchem_cid': 'PCID', \n",
    "    'mesh_supplemental_record_ui': 'MESH', \n",
    "    'mesh_descriptor_ui': 'MESH'}\n",
    "\n",
    "res = node_query_pipeline(q, chem_curi_map, 'compound')\n",
    "nodes.append(res)\n",
    "nodes[1].head()\n",
    "\n",
    "# JSONDecodeError  likely due to the time error\n",
    "### try limit 100 just to see if it works\n",
    "####"
   ]
  },
  {
   "cell_type": "markdown",
   "metadata": {},
   "source": [
    "# Phenotype"
   ]
  },
  {
   "cell_type": "code",
   "execution_count": null,
   "metadata": {},
   "outputs": [],
   "source": [
    "q = \"\"\"SELECT DISTINCT ?phenotype ?phenotypeLabel ?hpo ?mesh ?omim ?snomed\n",
    "        WHERE {\n",
    "\n",
    "          # Initial typing for phenotype\n",
    "          {?phenotype wdt:P31 wd:Q169872.}UNION{?phenotype wdt:P3841 ?hpo}\n",
    "\n",
    "          # Xrefs associated with phenotypes\n",
    "          OPTIONAL {?phenotype wdt:P3841 ?hpo .}\n",
    "          OPTIONAL {?phenotype wdt:P486 ?mesh . }\n",
    "          OPTIONAL {?phenotype wdt:P492 ?omim . }\n",
    "          OPTIONAL {?phenotype wdt:P5806 ?snomed . }\n",
    "\n",
    "          SERVICE wikibase:label { bd:serviceParam wikibase:language \"[AUTO_LANGAGE],en\" }\n",
    "        }\"\"\""
   ]
  },
  {
   "cell_type": "code",
   "execution_count": null,
   "metadata": {},
   "outputs": [],
   "source": [
    "res = node_query_pipeline(q, {'mesh': 'MESH', 'omim': 'OMIM', 'hpo':'HP', 'snomed': 'SNOMED'}, 'phenotype')\n",
    "nodes.append(res)\n",
    "nodes[2].head()"
   ]
  },
  {
   "cell_type": "markdown",
   "metadata": {},
   "source": [
    "# Gene\n",
    "\n",
    "Genes are too numerous and will require filtering to a single taxon in order for the query to finish successfully.\n",
    "\n",
    "For now we will only extract human genes, but in the future we will do the same for infectious taxa."
   ]
  },
  {
   "cell_type": "code",
   "execution_count": null,
   "metadata": {},
   "outputs": [],
   "source": [
    "q = \"\"\"SELECT DISTINCT ?gene ?geneLabel ?entrez ?symbol ?hgnc ?omim ?ensembl\n",
    "        WHERE {{\n",
    "\n",
    "          # Initial typing for Gene\n",
    "          ?gene wdt:P31 wd:Q7187.\n",
    "          ?gene wdt:P703 wd:{tax}.\n",
    "\n",
    "          OPTIONAL{{?gene wdt:P351 ?entrez .}}\n",
    "          OPTIONAL{{?gene wdt:P353 ?symbol .}}\n",
    "          OPTIONAL{{?gene wdt:P354 ?hgnc .}}\n",
    "          OPTIONAL{{?gene wdt:P492 ?omim .}}\n",
    "          OPTIONAL{{?gene wdt:P594 ?ensembl .}}\n",
    "\n",
    "          SERVICE wikibase:label {{ bd:serviceParam wikibase:language \"[AUTO_LANGAGE],en\" }}\n",
    "        }}\"\"\"\n",
    "\n",
    "human_tax_wd_id = 'Q15978631' \n",
    "q = q.format(tax=human_tax_wd_id)"
   ]
  },
  {
   "cell_type": "code",
   "execution_count": null,
   "metadata": {},
   "outputs": [],
   "source": [
    "gene_curi_map = {'entrez': 'NCBIGene', 'symbol': 'SYM', 'hgnc':'HGNC', 'omim':'OMIM', 'ensembl':'ENSG'}\n",
    "res = node_query_pipeline(q, gene_curi_map, 'gene')\n",
    "nodes.append(res)\n",
    "nodes[3].head()"
   ]
  },
  {
   "cell_type": "markdown",
   "metadata": {},
   "source": [
    "# Protein"
   ]
  },
  {
   "cell_type": "code",
   "execution_count": null,
   "metadata": {},
   "outputs": [],
   "source": [
    "q = \"\"\"SELECT DISTINCT ?protein ?proteinLabel ?uniprot\n",
    "        WHERE {{\n",
    "\n",
    "          # Initial typing for Protein\n",
    "          ?protein wdt:P31 wd:Q8054.\n",
    "          ?protein wdt:P703 wd:{tax}.\n",
    "\n",
    "          OPTIONAL{{?protein wdt:P352 ?uniprot .}}\n",
    "          SERVICE wikibase:label {{ bd:serviceParam wikibase:language \"[AUTO_LANGAGE],en\" }}\n",
    "        }}\"\"\"\n",
    "q = q.format(tax=human_tax_wd_id)"
   ]
  },
  {
   "cell_type": "code",
   "execution_count": null,
   "metadata": {},
   "outputs": [],
   "source": [
    "res = node_query_pipeline(q, {'uniprot':'UniProt'}, 'protein')\n",
    "nodes.append(res)\n",
    "nodes[4].head()"
   ]
  },
  {
   "cell_type": "markdown",
   "metadata": {},
   "source": [
    "# Pathway"
   ]
  },
  {
   "cell_type": "code",
   "execution_count": null,
   "metadata": {},
   "outputs": [],
   "source": [
    "q = \"\"\"SELECT DISTINCT ?pathway ?pathwayLabel ?react ?wpid\n",
    "        WHERE {\n",
    "\n",
    "          # Initial typing for Pathway\n",
    "          ?pathway wdt:P31 wd:Q4915012 .\n",
    "\n",
    "          OPTIONAL{?pathway wdt:P3937 ?react .}\n",
    "          OPTIONAL{?pathway wdt:P2410 ?wpid .}\n",
    "\n",
    "          SERVICE wikibase:label { bd:serviceParam wikibase:language \"[AUTO_LANGAGE],en\" }\n",
    "        }\"\"\""
   ]
  },
  {
   "cell_type": "code",
   "execution_count": null,
   "metadata": {},
   "outputs": [],
   "source": [
    "res = node_query_pipeline(q, {'react':'REACT', 'wpid':'WP'}, 'pathway')\n",
    "nodes.append(res)\n",
    "nodes[5].head()"
   ]
  },
  {
   "cell_type": "markdown",
   "metadata": {},
   "source": [
    "# Molecular Function"
   ]
  },
  {
   "cell_type": "code",
   "execution_count": null,
   "metadata": {},
   "outputs": [],
   "source": [
    "q = \"\"\"SELECT DISTINCT ?molecular_function ?molecular_functionLabel ?goid\n",
    "        WHERE {\n",
    "\n",
    "          # Initial typing for molecular Function\n",
    "          ?molecular_function wdt:P31 wd:Q14860489 .\n",
    "          ?molecular_function wdt:P686 ?goid\n",
    "\n",
    "          SERVICE wikibase:label { bd:serviceParam wikibase:language \"[AUTO_LANGAGE],en\" }\n",
    "        }\"\"\""
   ]
  },
  {
   "cell_type": "code",
   "execution_count": null,
   "metadata": {},
   "outputs": [],
   "source": [
    "res = node_query_pipeline(q, {'goid':'GO'}, 'molecular_function')\n",
    "nodes.append(res)\n",
    "nodes[6].head()"
   ]
  },
  {
   "cell_type": "markdown",
   "metadata": {},
   "source": [
    "# Biological Process"
   ]
  },
  {
   "cell_type": "code",
   "execution_count": null,
   "metadata": {},
   "outputs": [],
   "source": [
    "q = \"\"\"SELECT DISTINCT ?biological_process ?biological_processLabel ?goid\n",
    "        WHERE {\n",
    "\n",
    "          # Initial typing for molecular Function\n",
    "          ?biological_process wdt:P31 wd:Q2996394 .\n",
    "          ?biological_process wdt:P686 ?goid\n",
    "\n",
    "          SERVICE wikibase:label { bd:serviceParam wikibase:language \"[AUTO_LANGAGE],en\" }\n",
    "        }\"\"\""
   ]
  },
  {
   "cell_type": "code",
   "execution_count": null,
   "metadata": {},
   "outputs": [],
   "source": [
    "res = node_query_pipeline(q, {'goid':'GO'}, 'biological_process')\n",
    "nodes.append(res)\n",
    "nodes[7].head()"
   ]
  },
  {
   "cell_type": "markdown",
   "metadata": {},
   "source": [
    "# Cellular Component"
   ]
  },
  {
   "cell_type": "code",
   "execution_count": null,
   "metadata": {},
   "outputs": [],
   "source": [
    "q = \"\"\"SELECT DISTINCT ?cellular_component ?cellular_componentLabel ?goid\n",
    "    WHERE {\n",
    "\n",
    "      # Initial typing for Cellular Component\n",
    "      ?cellular_component wdt:P31 wd:Q5058355 .\n",
    "      ?cellular_component wdt:P686 ?goid\n",
    "\n",
    "      SERVICE wikibase:label { bd:serviceParam wikibase:language \"[AUTO_LANGAGE],en\" }\n",
    "    }\"\"\""
   ]
  },
  {
   "cell_type": "code",
   "execution_count": null,
   "metadata": {},
   "outputs": [],
   "source": [
    "res = node_query_pipeline(q, {'goid':'GO'}, 'cellular_component')\n",
    "nodes.append(res)\n",
    "nodes[8].head()"
   ]
  },
  {
   "cell_type": "markdown",
   "metadata": {},
   "source": [
    "# Anatomy"
   ]
  },
  {
   "cell_type": "code",
   "execution_count": null,
   "metadata": {},
   "outputs": [],
   "source": [
    "q = \"\"\"SELECT DISTINCT ?anatomy ?anatomyLabel ?uberon ?mesh\n",
    "        WHERE {\n",
    "\n",
    "          # Anatomical Strucutres\n",
    "          ?anatomy wdt:P1554 ?uberon\n",
    "          \n",
    "          OPTIONAL{?anatomy wdt:P486 ?mesh .}\n",
    "\n",
    "          SERVICE wikibase:label { bd:serviceParam wikibase:language \"[AUTO_LANGAGE],en\" }\n",
    "        }\"\"\""
   ]
  },
  {
   "cell_type": "code",
   "execution_count": null,
   "metadata": {},
   "outputs": [],
   "source": [
    "res = node_query_pipeline(q, {'uberon':'UBERON', 'mesh': 'MESH'}, 'anatomy')\n",
    "nodes.append(res)\n",
    "nodes[9].head()"
   ]
  },
  {
   "cell_type": "markdown",
   "metadata": {},
   "source": [
    "# Put them all together"
   ]
  },
  {
   "cell_type": "code",
   "execution_count": null,
   "metadata": {},
   "outputs": [],
   "source": [
    "nodes = pd.concat(nodes, sort=False, ignore_index=True)\n",
    "len(nodes)"
   ]
  },
  {
   "cell_type": "code",
   "execution_count": null,
   "metadata": {},
   "outputs": [],
   "source": [
    "nodes['id'].nunique()"
   ]
  },
  {
   "cell_type": "code",
   "execution_count": null,
   "metadata": {},
   "outputs": [],
   "source": [
    "nodes[nodes['id'].duplicated(keep=False)].sort_values('id').head(50)"
   ]
  },
  {
   "cell_type": "code",
   "execution_count": null,
   "metadata": {},
   "outputs": [],
   "source": [
    "nodes[nodes['id'].duplicated(keep=False)].sort_values('id').tail(50)"
   ]
  },
  {
   "cell_type": "code",
   "execution_count": null,
   "metadata": {},
   "outputs": [],
   "source": [
    "nodes['label'].value_counts()"
   ]
  },
  {
   "cell_type": "markdown",
   "metadata": {},
   "source": [
    "## Save"
   ]
  },
  {
   "cell_type": "code",
   "execution_count": null,
   "metadata": {},
   "outputs": [],
   "source": [
    "this_name = '01a_WikiData_Nodes'\n",
    "out_dir = Path('../2_pipeline/').joinpath(this_name, 'out')\n",
    "\n",
    "# Make the output directory if doesn't already exist\n",
    "out_dir.mkdir(parents=True, exist_ok=True)\n",
    "\n",
    "nodes.to_csv(out_dir.joinpath('nodes.csv'), index=False)"
   ]
  },
  {
   "cell_type": "code",
   "execution_count": null,
   "metadata": {},
   "outputs": [],
   "source": []
  }
 ],
 "metadata": {
  "kernelspec": {
   "display_name": "Python 3",
   "language": "python",
   "name": "python3"
  },
  "language_info": {
   "codemirror_mode": {
    "name": "ipython",
    "version": 3
   },
   "file_extension": ".py",
   "mimetype": "text/x-python",
   "name": "python",
   "nbconvert_exporter": "python",
   "pygments_lexer": "ipython3",
   "version": "3.8.3"
  }
 },
 "nbformat": 4,
 "nbformat_minor": 2
}
