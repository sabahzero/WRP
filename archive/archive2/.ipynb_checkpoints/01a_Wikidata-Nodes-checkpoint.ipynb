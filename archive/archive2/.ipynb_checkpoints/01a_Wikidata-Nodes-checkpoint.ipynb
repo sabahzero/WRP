{
 "cells": [
  {
   "cell_type": "markdown",
   "id": "31aa6634",
   "metadata": {},
   "source": [
    "This notebook applies SPARQL query to retrieve and download biomedically relevant node category types from Wikidata to be utilized by the downstream drug repurposing algorithm.\n",
    "\n",
    "I. [Load Packages](#Load) [clicking on phrase will take you directly to section] <br>\n",
    "II. [Query for Biomedical Node Types in Wikidata](#Query) <br>\n",
    "III. [Concatenate Node Types and Save as .csv](#Concatenate) <br>"
   ]
  },
  {
   "cell_type": "markdown",
   "id": "6fa69be3",
   "metadata": {},
   "source": [
    "## Load \n",
    "Packages and modules with relevant functions"
   ]
  },
  {
   "cell_type": "code",
   "execution_count": 1,
   "id": "8a564e33",
   "metadata": {},
   "outputs": [
    {
     "name": "stderr",
     "output_type": "stream",
     "text": [
      "<ipython-input-1-beec3506e3aa>:7: TqdmExperimentalWarning: Using `tqdm.autonotebook.tqdm` in notebook mode. Use `tqdm.tqdm` instead to force console mode (e.g. in jupyter console)\n",
      "  from tqdm.autonotebook import tqdm\n"
     ]
    }
   ],
   "source": [
    "import pandas as pd\n",
    "\n",
    "import time \n",
    "from datetime import datetime\n",
    "\n",
    "from pathlib import Path\n",
    "from tqdm.autonotebook import tqdm \n",
    "\n",
    "from data_tools.df_processing import char_combine_iter \n",
    "from data_tools.wiki import node_query_pipeline"
   ]
  },
  {
   "cell_type": "markdown",
   "id": "6fa50eea",
   "metadata": {},
   "source": [
    "Make an empty list for nodes (this will become a populated .csv)"
   ]
  },
  {
   "cell_type": "code",
   "execution_count": 2,
   "id": "a97d4776",
   "metadata": {},
   "outputs": [],
   "source": [
    "nodes = []"
   ]
  },
  {
   "cell_type": "markdown",
   "id": "d7fbd9b8",
   "metadata": {},
   "source": [
    "## Query\n",
    "Biomedically relevant node types in Wikidata (ordered alphabetically) <br>\n",
    "To affirm a node type category (#Anatomy, #Biological Process... etc) has been added, move it to its own cell and view separately using the 'print' function."
   ]
  },
  {
   "cell_type": "code",
   "execution_count": 3,
   "id": "2999fd3b",
   "metadata": {},
   "outputs": [],
   "source": [
    "# Medication alternative to Compounds -- over 3300 results (temporary solution, want all)\n",
    "# Drug vs medication\n",
    "## q = \"\"\"SELECT DISTINCT ?compound ?compoundLabel\n",
    "##        WHERE {\n",
    "##          ?compound wdt:P31 wd:Q12140 .\n",
    "##          SERVICE wikibase:label { bd:serviceParam wikibase:language \"[AUTO_LANGAGE],en\" }\n",
    "##        }\"\"\""
   ]
  },
  {
   "cell_type": "code",
   "execution_count": 4,
   "id": "588bfd63",
   "metadata": {},
   "outputs": [
    {
     "name": "stdout",
     "output_type": "stream",
     "text": [
      "The total time of this query is: 2.393443779150645 minutes\n"
     ]
    }
   ],
   "source": [
    "# Create time stamp\n",
    "timeStringNow = datetime.now().strftime(\"+%Y-%m-%dT00:00:00Z\") \n",
    "start_time = time.time()\n",
    "\n",
    "# Anatomy \n",
    "q = \"\"\"SELECT DISTINCT ?anatomy ?anatomyLabel ?uberon ?mesh\n",
    "WHERE {\n",
    "  ?anatomy wdt:P1554 ?uberon  \n",
    "           OPTIONAL{?anatomy wdt:P486 ?mesh .}\n",
    "  SERVICE wikibase:label { bd:serviceParam wikibase:language \"[AUTO_LANGAGE],en\" }}\"\"\" \n",
    "\n",
    "res = node_query_pipeline(q, {'uberon':'UBERON', 'mesh': 'MESH'}, 'anatomy')\n",
    "nodes.append(res)\n",
    "\n",
    "# Biological Process \n",
    "q = \"\"\"SELECT DISTINCT ?biological_process ?biological_processLabel ?goid\n",
    "WHERE {\n",
    "  ?biological_process wdt:P31 wd:Q2996394 .\n",
    "  ?biological_process wdt:P686 ?goid\n",
    "                      SERVICE wikibase:label { bd:serviceParam wikibase:language \"[AUTO_LANGAGE],en\" }}\"\"\"\n",
    "\n",
    "res = node_query_pipeline(q, {'goid':'GO'}, 'biological_process')\n",
    "nodes.append(res)\n",
    "\n",
    "# Cellular Component\n",
    "q = \"\"\"SELECT DISTINCT ?cellular_component ?cellular_componentLabel ?goid\n",
    "WHERE {\n",
    "  ?cellular_component wdt:P31 wd:Q5058355 .\n",
    "  ?cellular_component wdt:P686 ?goid\n",
    "                      SERVICE wikibase:label { bd:serviceParam wikibase:language \"[AUTO_LANGAGE],en\" }}\"\"\"\n",
    "\n",
    "res = node_query_pipeline(q, {'goid':'GO'}, 'cellular_component')\n",
    "nodes.append(res)\n",
    "\n",
    "# Compounds (limit is 150000 without OPTIONAL, or 12% of total Aug 4 2021)\n",
    "q = \"\"\"SELECT DISTINCT ?compound ?compoundLabel ?kegg_drug ?chebi ?drugbank_id ?umlscui ?chembl_id ?unii ?ikey ?pubchem_cid ?rxnorm ?mesh_supplemental_record_ui ?mesh_descriptor_ui\n",
    "WHERE {\n",
    "  ?compound wdt:P31 wd:Q11173 .\n",
    "  OPTIONAL { ?compound wdt:P665 ?kegg_drug .}\n",
    "  OPTIONAL { ?compound wdt:P683 ?chebi .}\n",
    "  OPTIONAL { ?compound wdt:P715 ?drugbank_id .}\n",
    "  OPTIONAL { ?compound wdt:P2892 ?umlscui .}\n",
    "  OPTIONAL { ?compound wdt:P592 ?chembl_id .}\n",
    "  OPTIONAL { ?compound wdt:P652 ?unii .}\n",
    "  OPTIONAL { ?compound wdt:P3350 ?ikey .}\n",
    "  OPTIONAL { ?compound wdt:P662 ?pubchem_cid .}\n",
    "  OPTIONAL { ?compound wdt:P3345 ?rxnorm .}\n",
    "  OPTIONAL { ?compound wdt:P6680 ?mesh_supplemental_record_ui .}\n",
    "  OPTIONAL { ?compound wdt:P486 ?mesh_descriptor_ui .}\n",
    "  SERVICE wikibase:label { bd:serviceParam wikibase:language \"[AUTO_LANGAGE],en\" }}\n",
    "limit 17000\"\"\" # SPARQL count (1.5% of total Aug 4 2021): https://tinyurl.com/3n3et6bv\n",
    "\n",
    "res = node_query_pipeline(q, {'unii': 'UNII', 'rxnorm': 'RxCUI', 'drugbank_id': 'DB', \n",
    "                              'umlscui': 'UMLS', 'chebi': 'CHEBI', 'chembl_id': 'CHEMBL',\n",
    "                              'kegg_drug': 'KEGG', 'ikey': 'IKEY', 'pubchem_cid': 'PCID', \n",
    "                              'mesh_supplemental_record_ui': 'MESH', \n",
    "                              'mesh_descriptor_ui': 'MESH'}, 'compound')\n",
    "nodes.append(res)\n",
    "\n",
    "# Disease\n",
    "q = \"\"\"SELECT DISTINCT ?disease ?diseaseLabel ?umlscui ?snomed_ct ?doid ?mesh ?mondo ?omim ?orpha\n",
    "WHERE {{\n",
    "  ?disease wdt:P31 wd:Q12136}UNION{?disease wdt:P699 ?doid}.\n",
    "       OPTIONAL {?disease wdt:P2892 ?umlscui .}\n",
    "       OPTIONAL {?disease wdt:P5806 ?snomed_ct. }\n",
    "       OPTIONAL {?disease wdt:P699 ?doid. }\n",
    "       OPTIONAL {?disease wdt:P486 ?mesh. }\n",
    "       OPTIONAL {?disease wdt:P5270 ?mondo. }\n",
    "       OPTIONAL {?disease wdt:P492 ?omim. }\n",
    "       OPTIONAL {?disease wdt:P1550 ?orpha. }\n",
    "       SERVICE wikibase:label { bd:serviceParam wikibase:language \"[AUTO_LANGAGE],en\" }}\"\"\"\n",
    "    \n",
    "res = node_query_pipeline(q, {'umlscui': 'UMLS', 'snomed_ct': 'SNOMED', 'mesh': 'MESH',\n",
    "                              'doid': 'DOID', 'mondo': 'MONDO', 'omim': 'OMIM', \n",
    "                              'orpha': 'ORPHA'}, 'disease')\n",
    "nodes.append(res)\n",
    "\n",
    "# Genes (note focus on Homo sapiens) \n",
    "q = \"\"\"SELECT DISTINCT ?gene ?geneLabel ?entrez ?symbol ?hgnc ?omim ?ensembl\n",
    "WHERE {\n",
    "  ?gene wdt:P31 wd:Q7187 .\n",
    "  ?gene wdt:P703 wd:Q15978631 .\n",
    "  OPTIONAL{{?gene wdt:P351 ?entrez .}}\n",
    "  OPTIONAL{{?gene wdt:P353 ?symbol .}}\n",
    "  OPTIONAL{{?gene wdt:P354 ?hgnc .}}\n",
    "  OPTIONAL{{?gene wdt:P492 ?omim .}}\n",
    "  OPTIONAL{{?gene wdt:P594 ?ensembl .}}\n",
    "  SERVICE wikibase:label { bd:serviceParam wikibase:language \"[AUTO_LANGAGE],en\" }}\"\"\"\n",
    "\n",
    "res = node_query_pipeline(q, {'entrez': 'NCBIGene', 'symbol': 'SYM', 'hgnc':'HGNC', \n",
    "                              'omim':'OMIM', 'ensembl':'ENSG'}, 'gene')\n",
    "nodes.append(res)\n",
    "\n",
    "# Pathway\n",
    "q = \"\"\"SELECT DISTINCT ?pathway ?pathwayLabel ?react ?wpid\n",
    "WHERE {\n",
    "  ?pathway wdt:P31 wd:Q4915012 .\n",
    "  OPTIONAL{?pathway wdt:P3937 ?react .}\n",
    "  OPTIONAL{?pathway wdt:P2410 ?wpid .}\n",
    "  SERVICE wikibase:label { bd:serviceParam wikibase:language \"[AUTO_LANGAGE],en\" }}\"\"\"\n",
    "\n",
    "res = node_query_pipeline(q, {'react':'REACT', 'wpid':'WP'}, 'pathway')\n",
    "nodes.append(res)\n",
    "\n",
    "# Phenotype (note focus on Homo sapiens) \n",
    "q = \"\"\"SELECT DISTINCT ?phenotype ?phenotypeLabel ?hpo ?mesh ?omim ?snomed  \n",
    "WHERE {{\n",
    "  ?phenotype wdt:P31 wd:Q169872.}UNION{?phenotype wdt:P3841 ?hpo}\n",
    "       OPTIONAL {?phenotype wdt:P3841 ?hpo .}\n",
    "       OPTIONAL {?phenotype wdt:P486 ?mesh . }\n",
    "       OPTIONAL {?phenotype wdt:P492 ?omim . }\n",
    "       OPTIONAL {?phenotype wdt:P5806 ?snomed . }\n",
    "       SERVICE wikibase:label { bd:serviceParam wikibase:language \"[AUTO_LANGAGE],en\" }}\"\"\"\n",
    "\n",
    "res = node_query_pipeline(q, {'mesh': 'MESH', 'omim': 'OMIM', \n",
    "                              'hpo':'HP', 'snomed': 'SNOMED'}, 'phenotype')\n",
    "nodes.append(res)\n",
    "\n",
    "# Protein (note focus on Homo sapiens) \n",
    "q = \"\"\"SELECT DISTINCT ?protein ?proteinLabel ?uniprot\n",
    "WHERE {\n",
    "  ?protein wdt:P31 wd:Q8054 .\n",
    "  ?protein wdt:P703 wd:Q15978631 .\n",
    "  OPTIONAL{{?protein wdt:P352 ?uniprot .}}\n",
    "  SERVICE wikibase:label { bd:serviceParam wikibase:language \"[AUTO_LANGAGE],en\" }}\"\"\"\n",
    "\n",
    "res = node_query_pipeline(q, {'uniprot':'UniProt'}, 'protein')\n",
    "nodes.append(res)\n",
    "\n",
    "# Molecular Function\n",
    "q = \"\"\"SELECT DISTINCT ?molecular_function ?molecular_functionLabel ?goid\n",
    "WHERE {\n",
    "  ?molecular_function wdt:P31 wd:Q14860489 .\n",
    "  ?molecular_function wdt:P686 ?goid\n",
    "                      SERVICE wikibase:label { bd:serviceParam wikibase:language \"[AUTO_LANGAGE],en\" }}\"\"\"\n",
    "\n",
    "res = node_query_pipeline(q, {'goid':'GO'}, 'molecular_function')\n",
    "nodes.append(res)\n",
    "\n",
    "# Output and print when query is complete\n",
    "end_time = time.time() \n",
    "print(\"The total time of this query is:\", (end_time - start_time)/60, \"minutes\")"
   ]
  },
  {
   "cell_type": "markdown",
   "id": "d3c1a53d",
   "metadata": {},
   "source": [
    "## Concatenate\n",
    "Affirm queries and compile into a csv"
   ]
  },
  {
   "cell_type": "code",
   "execution_count": 5,
   "id": "3082cc5d",
   "metadata": {},
   "outputs": [
    {
     "data": {
      "text/plain": [
       "168380"
      ]
     },
     "execution_count": 5,
     "metadata": {},
     "output_type": "execute_result"
    }
   ],
   "source": [
    "nodes = pd.concat(nodes, sort=False, ignore_index=True)\n",
    "len(nodes) # 168380 (vs 305162 with Compounds at 150000 limit)"
   ]
  },
  {
   "cell_type": "code",
   "execution_count": 6,
   "id": "16f25ca5",
   "metadata": {},
   "outputs": [
    {
     "data": {
      "text/html": [
       "<div>\n",
       "<style scoped>\n",
       "    .dataframe tbody tr th:only-of-type {\n",
       "        vertical-align: middle;\n",
       "    }\n",
       "\n",
       "    .dataframe tbody tr th {\n",
       "        vertical-align: top;\n",
       "    }\n",
       "\n",
       "    .dataframe thead th {\n",
       "        text-align: right;\n",
       "    }\n",
       "</style>\n",
       "<table border=\"1\" class=\"dataframe\">\n",
       "  <thead>\n",
       "    <tr style=\"text-align: right;\">\n",
       "      <th></th>\n",
       "      <th>id</th>\n",
       "      <th>name</th>\n",
       "      <th>label</th>\n",
       "      <th>xrefs</th>\n",
       "    </tr>\n",
       "  </thead>\n",
       "  <tbody>\n",
       "    <tr>\n",
       "      <th>0</th>\n",
       "      <td>Q1001337</td>\n",
       "      <td>mesencephalic nucleus of trigeminal nerve</td>\n",
       "      <td>Anatomy</td>\n",
       "      <td>UBERON:0001718</td>\n",
       "    </tr>\n",
       "    <tr>\n",
       "      <th>1</th>\n",
       "      <td>Q1002789</td>\n",
       "      <td>posterior ethmoidal foramen</td>\n",
       "      <td>Anatomy</td>\n",
       "      <td>UBERON:0018654</td>\n",
       "    </tr>\n",
       "    <tr>\n",
       "      <th>2</th>\n",
       "      <td>Q1003805</td>\n",
       "      <td>Nucleus ambiguus</td>\n",
       "      <td>Anatomy</td>\n",
       "      <td>UBERON:0001719</td>\n",
       "    </tr>\n",
       "    <tr>\n",
       "      <th>3</th>\n",
       "      <td>Q101004</td>\n",
       "      <td>aorta</td>\n",
       "      <td>Anatomy</td>\n",
       "      <td>MESH:D001011|UBERON:0000947</td>\n",
       "    </tr>\n",
       "    <tr>\n",
       "      <th>4</th>\n",
       "      <td>Q102277188</td>\n",
       "      <td>anatomical projection</td>\n",
       "      <td>Anatomy</td>\n",
       "      <td>UBERON:0004529</td>\n",
       "    </tr>\n",
       "  </tbody>\n",
       "</table>\n",
       "</div>"
      ],
      "text/plain": [
       "           id                                       name    label  \\\n",
       "0    Q1001337  mesencephalic nucleus of trigeminal nerve  Anatomy   \n",
       "1    Q1002789                posterior ethmoidal foramen  Anatomy   \n",
       "2    Q1003805                           Nucleus ambiguus  Anatomy   \n",
       "3     Q101004                                      aorta  Anatomy   \n",
       "4  Q102277188                      anatomical projection  Anatomy   \n",
       "\n",
       "                         xrefs  \n",
       "0               UBERON:0001718  \n",
       "1               UBERON:0018654  \n",
       "2               UBERON:0001719  \n",
       "3  MESH:D001011|UBERON:0000947  \n",
       "4               UBERON:0004529  "
      ]
     },
     "execution_count": 6,
     "metadata": {},
     "output_type": "execute_result"
    }
   ],
   "source": [
    "nodes.head()"
   ]
  },
  {
   "cell_type": "code",
   "execution_count": 7,
   "id": "b605a11c",
   "metadata": {},
   "outputs": [
    {
     "data": {
      "text/html": [
       "<div>\n",
       "<style scoped>\n",
       "    .dataframe tbody tr th:only-of-type {\n",
       "        vertical-align: middle;\n",
       "    }\n",
       "\n",
       "    .dataframe tbody tr th {\n",
       "        vertical-align: top;\n",
       "    }\n",
       "\n",
       "    .dataframe thead th {\n",
       "        text-align: right;\n",
       "    }\n",
       "</style>\n",
       "<table border=\"1\" class=\"dataframe\">\n",
       "  <thead>\n",
       "    <tr style=\"text-align: right;\">\n",
       "      <th></th>\n",
       "      <th>id</th>\n",
       "      <th>name</th>\n",
       "      <th>label</th>\n",
       "      <th>xrefs</th>\n",
       "    </tr>\n",
       "  </thead>\n",
       "  <tbody>\n",
       "    <tr>\n",
       "      <th>168375</th>\n",
       "      <td>Q70551220</td>\n",
       "      <td>RNA NAD-cap (NMN-forming) hydrolase activity</td>\n",
       "      <td>Molecular Function</td>\n",
       "      <td>GO:0110153</td>\n",
       "    </tr>\n",
       "    <tr>\n",
       "      <th>168376</th>\n",
       "      <td>Q70552211</td>\n",
       "      <td>cyclic-GMP-AMP transmembrane transporter activity</td>\n",
       "      <td>Molecular Function</td>\n",
       "      <td>GO:0140360</td>\n",
       "    </tr>\n",
       "    <tr>\n",
       "      <th>168377</th>\n",
       "      <td>Q7068245</td>\n",
       "      <td>nucleoside-diphosphatase activity</td>\n",
       "      <td>Molecular Function</td>\n",
       "      <td>GO:0017110</td>\n",
       "    </tr>\n",
       "    <tr>\n",
       "      <th>168378</th>\n",
       "      <td>Q7618857</td>\n",
       "      <td>7,8-didemethyl-8-hydroxy-5-deazariboflavin syn...</td>\n",
       "      <td>Molecular Function</td>\n",
       "      <td>GO:0044689</td>\n",
       "    </tr>\n",
       "    <tr>\n",
       "      <th>168379</th>\n",
       "      <td>Q82264</td>\n",
       "      <td>catalysis</td>\n",
       "      <td>Molecular Function</td>\n",
       "      <td>GO:0003824</td>\n",
       "    </tr>\n",
       "  </tbody>\n",
       "</table>\n",
       "</div>"
      ],
      "text/plain": [
       "               id                                               name  \\\n",
       "168375  Q70551220       RNA NAD-cap (NMN-forming) hydrolase activity   \n",
       "168376  Q70552211  cyclic-GMP-AMP transmembrane transporter activity   \n",
       "168377   Q7068245                  nucleoside-diphosphatase activity   \n",
       "168378   Q7618857  7,8-didemethyl-8-hydroxy-5-deazariboflavin syn...   \n",
       "168379     Q82264                                          catalysis   \n",
       "\n",
       "                     label       xrefs  \n",
       "168375  Molecular Function  GO:0110153  \n",
       "168376  Molecular Function  GO:0140360  \n",
       "168377  Molecular Function  GO:0017110  \n",
       "168378  Molecular Function  GO:0044689  \n",
       "168379  Molecular Function  GO:0003824  "
      ]
     },
     "execution_count": 7,
     "metadata": {},
     "output_type": "execute_result"
    }
   ],
   "source": [
    "nodes.tail()"
   ]
  },
  {
   "cell_type": "code",
   "execution_count": 8,
   "id": "1925da2a",
   "metadata": {},
   "outputs": [
    {
     "data": {
      "text/plain": [
       "167217"
      ]
     },
     "execution_count": 8,
     "metadata": {},
     "output_type": "execute_result"
    }
   ],
   "source": [
    "nodes['id'].nunique() # 167219 unique IDs (of 168381)"
   ]
  },
  {
   "cell_type": "code",
   "execution_count": 9,
   "id": "d9f699f1",
   "metadata": {},
   "outputs": [
    {
     "data": {
      "text/plain": [
       "Gene                  59110\n",
       "Biological Process    28356\n",
       "Protein               25475\n",
       "Disease               16402\n",
       "Compound              15979\n",
       "Molecular Function    10933\n",
       "Cellular Component     4112\n",
       "Pathway                3432\n",
       "Anatomy                2566\n",
       "Phenotype              2015\n",
       "Name: label, dtype: int64"
      ]
     },
     "execution_count": 9,
     "metadata": {},
     "output_type": "execute_result"
    }
   ],
   "source": [
    "nodes['label'].value_counts() # Breakdown by node category"
   ]
  },
  {
   "cell_type": "code",
   "execution_count": 10,
   "id": "3f52cd0d",
   "metadata": {},
   "outputs": [
    {
     "data": {
      "text/plain": [
       "167217"
      ]
     },
     "execution_count": 10,
     "metadata": {},
     "output_type": "execute_result"
    }
   ],
   "source": [
    "nodup = nodes.drop_duplicates(subset=['id']) # See breakdown of unique IDs\n",
    "len(nodup)"
   ]
  },
  {
   "cell_type": "code",
   "execution_count": 11,
   "id": "6954393a",
   "metadata": {},
   "outputs": [
    {
     "data": {
      "text/plain": [
       "Gene                  59107\n",
       "Biological Process    28356\n",
       "Protein               25472\n",
       "Disease               16398\n",
       "Compound              15979\n",
       "Molecular Function    10932\n",
       "Cellular Component     4110\n",
       "Pathway                3426\n",
       "Anatomy                2566\n",
       "Phenotype               871\n",
       "Name: label, dtype: int64"
      ]
     },
     "execution_count": 11,
     "metadata": {},
     "output_type": "execute_result"
    }
   ],
   "source": [
    "nodup['label'].value_counts() # Phenotype has most overlap - why?"
   ]
  },
  {
   "cell_type": "code",
   "execution_count": 12,
   "id": "efc9c4e7",
   "metadata": {},
   "outputs": [],
   "source": [
    "out_dir = Path('../results/')\n",
    "out_dir.mkdir(parents=True, exist_ok=True)\n",
    "\n",
    "nodes.to_csv(out_dir.joinpath('01a_nodes.csv'), index=False)"
   ]
  }
 ],
 "metadata": {
  "kernelspec": {
   "display_name": "Python 3",
   "language": "python",
   "name": "python3"
  },
  "language_info": {
   "codemirror_mode": {
    "name": "ipython",
    "version": 3
   },
   "file_extension": ".py",
   "mimetype": "text/x-python",
   "name": "python",
   "nbconvert_exporter": "python",
   "pygments_lexer": "ipython3",
   "version": "3.8.8"
  }
 },
 "nbformat": 4,
 "nbformat_minor": 5
}
