{
 "cells": [
  {
   "cell_type": "markdown",
   "metadata": {},
   "source": [
    "# Compute some new Edges\n",
    "\n",
    "\n",
    "The following edge Computations will be performed\n",
    "\n",
    "1. Disease sublcass Punning: Anything connected to a Disease will also have the same edge added to Diseases that are a subclass of that Disease (single level).\n",
    "\n",
    "2. Anatomy Subclass Punning\n",
    "3.  Disease to GO-Term edges via Fisher's Exact\n"
   ]
  },
  {
   "cell_type": "code",
   "execution_count": 4,
   "metadata": {},
   "outputs": [],
   "source": [
    "%matplotlib inline\n",
    "import pandas as pd\n",
    "import seaborn as sns\n",
    "from tqdm import tqdm\n",
    "from pathlib import Path\n",
    "from itertools import chain\n",
    "import matplotlib.pyplot as plt\n",
    "from scipy.stats import fisher_exact\n",
    "from data_tools.plotting import count_plot_h\n",
    "from data_tools import combine_nodes_and_edges\n",
    "from data_tools.wiki import xref_to_wd_item, get_curi_xrefs\n",
    "from data_tools.df_processing import combine_group_cols_on_char, split_col\n",
    "\n",
    "# Recommended add\n",
    "from tqdm.autonotebook import tqdm"
   ]
  },
  {
   "cell_type": "code",
   "execution_count": 5,
   "metadata": {},
   "outputs": [],
   "source": [
    "prev_dir = Path('../2_pipeline/01c_WikiData_Cleanup/out/').resolve()\n",
    "nodes = pd.read_csv(prev_dir.joinpath('nodes.csv'), dtype=str)\n",
    "edges = pd.read_csv(prev_dir.joinpath('edges.csv'), dtype=str)"
   ]
  },
  {
   "cell_type": "code",
   "execution_count": 6,
   "metadata": {},
   "outputs": [],
   "source": [
    "combo = combine_nodes_and_edges(nodes, edges)"
   ]
  },
  {
   "cell_type": "code",
   "execution_count": 7,
   "metadata": {},
   "outputs": [],
   "source": [
    "new_edges = []"
   ]
  },
  {
   "cell_type": "code",
   "execution_count": 8,
   "metadata": {},
   "outputs": [],
   "source": [
    "def pun_col(edge_to_pun, pun_map, pun_start=True):\n",
    "    \n",
    "    # Grab the correct columns\n",
    "    if pun_start:\n",
    "        pun_col = 'start_id'\n",
    "        other_col = 'end_id'\n",
    "    else:\n",
    "        pun_col = 'end_id'\n",
    "        other_col = 'start_id'\n",
    "\n",
    "    # Ensure Punning Map does not include self\n",
    "    drop_idx = pun_map[pun_map['start_id'] == pun_map['end_id']].index\n",
    "    pun_map = pun_map.drop(drop_idx)\n",
    "    \n",
    "    pun_res = edge_to_pun.merge(pun_map, how='left', left_on=[pun_col], right_on=['end_id'], suffixes=('_orig', '_pun'))\n",
    "        \n",
    "    # if punning on end col, left and right are punned on end, so no suffix added... need to drop\n",
    "    # this column\n",
    "    if not pun_start:\n",
    "        pun_res = pun_res.drop('end_id', axis=1)\n",
    "    \n",
    "    pun_res = pun_res.rename(columns={'start_id_pun': pun_col, other_col+'_orig': other_col})\n",
    "    pun_res['dsrc_type'] = 'computed'\n",
    "    pun_res['comp_type'] = 'punning'\n",
    "    \n",
    "    # Remove nan values, where there was no punning\n",
    "    pun_res = pun_res.dropna(subset=[pun_col])\n",
    "    \n",
    "    return pun_res[['start_id', 'end_id', 'type', 'dsrc_type', 'comp_type']]"
   ]
  },
  {
   "cell_type": "markdown",
   "metadata": {},
   "source": [
    "## Pun the diseases"
   ]
  },
  {
   "cell_type": "code",
   "execution_count": 9,
   "metadata": {},
   "outputs": [],
   "source": [
    "start_dis = combo.query('start_label == \"Disease\" and type != \"subclass_of\"')\n",
    "end_dis = combo.query('end_label == \"Disease\" and type != \"subclass_of\"')\n",
    "\n",
    "disease_to_sub = combo.query('start_label == \"Disease\" and end_label == \"Disease\" and type == \"subclass_of\"')[['start_id', 'end_id']]"
   ]
  },
  {
   "cell_type": "code",
   "execution_count": 10,
   "metadata": {},
   "outputs": [],
   "source": [
    "new_edges.append(pun_col(start_dis, disease_to_sub))\n",
    "new_edges.append(pun_col(end_dis, disease_to_sub, False))"
   ]
  },
  {
   "cell_type": "markdown",
   "metadata": {},
   "source": [
    "#### Recombine, so anatomy and disease terms are properly punned"
   ]
  },
  {
   "cell_type": "code",
   "execution_count": 11,
   "metadata": {},
   "outputs": [],
   "source": [
    "edges = pd.concat([edges]+new_edges, sort=False, ignore_index=True)\n",
    "edges = edges.drop_duplicates(subset=['start_id', 'end_id', 'type'])\n",
    "combo = combine_nodes_and_edges(nodes, edges)\n",
    "new_edges = []"
   ]
  },
  {
   "cell_type": "markdown",
   "metadata": {},
   "source": [
    "## Anatomy Terms"
   ]
  },
  {
   "cell_type": "code",
   "execution_count": 12,
   "metadata": {},
   "outputs": [],
   "source": [
    "start_ana = combo.query('start_label == \"Anatomy\" and type != \"subclass_of\"')\n",
    "end_ana = combo.query('end_label == \"Anatomy\" and type != \"subclass_of\"')\n",
    "\n",
    "anatomy_to_sub = combo.query('start_label == \"Anatomy\" and end_label == \"Anatomy\" and type == \"subclass_of\"')[['start_id', 'end_id']]"
   ]
  },
  {
   "cell_type": "code",
   "execution_count": 13,
   "metadata": {},
   "outputs": [],
   "source": [
    "new_edges.append(pun_col(start_ana, anatomy_to_sub))\n",
    "new_edges.append(pun_col(end_ana, anatomy_to_sub, False))"
   ]
  },
  {
   "cell_type": "code",
   "execution_count": 14,
   "metadata": {},
   "outputs": [],
   "source": [
    "edges = pd.concat([edges]+new_edges, sort=False, ignore_index=True)\n",
    "edges = edges.drop_duplicates(subset=['start_id', 'end_id', 'type'])\n",
    "combo = combine_nodes_and_edges(nodes, edges)"
   ]
  },
  {
   "cell_type": "markdown",
   "metadata": {},
   "source": [
    "## Examine Results"
   ]
  },
  {
   "cell_type": "code",
   "execution_count": 15,
   "metadata": {},
   "outputs": [
    {
     "data": {
      "text/html": [
       "<div>\n",
       "<style scoped>\n",
       "    .dataframe tbody tr th:only-of-type {\n",
       "        vertical-align: middle;\n",
       "    }\n",
       "\n",
       "    .dataframe tbody tr th {\n",
       "        vertical-align: top;\n",
       "    }\n",
       "\n",
       "    .dataframe thead th {\n",
       "        text-align: right;\n",
       "    }\n",
       "</style>\n",
       "<table border=\"1\" class=\"dataframe\">\n",
       "  <thead>\n",
       "    <tr style=\"text-align: right;\">\n",
       "      <th></th>\n",
       "      <th>start_id</th>\n",
       "      <th>end_id</th>\n",
       "      <th>type</th>\n",
       "      <th>dsrc_type</th>\n",
       "      <th>comp_type</th>\n",
       "      <th>start_name</th>\n",
       "      <th>end_name</th>\n",
       "      <th>start_label</th>\n",
       "      <th>end_label</th>\n",
       "    </tr>\n",
       "  </thead>\n",
       "  <tbody>\n",
       "    <tr>\n",
       "      <th>1479621</th>\n",
       "      <td>Q1544517</td>\n",
       "      <td>Q57769952</td>\n",
       "      <td>presents</td>\n",
       "      <td>computed</td>\n",
       "      <td>punning</td>\n",
       "      <td>oneiroid syndrome</td>\n",
       "      <td>catatonic excitement</td>\n",
       "      <td>Disease</td>\n",
       "      <td>Phenotype</td>\n",
       "    </tr>\n",
       "    <tr>\n",
       "      <th>1479622</th>\n",
       "      <td>Q18967220</td>\n",
       "      <td>Q57769952</td>\n",
       "      <td>presents</td>\n",
       "      <td>computed</td>\n",
       "      <td>punning</td>\n",
       "      <td>catatonic type schizophrenia subchronic state</td>\n",
       "      <td>catatonic excitement</td>\n",
       "      <td>Disease</td>\n",
       "      <td>Phenotype</td>\n",
       "    </tr>\n",
       "    <tr>\n",
       "      <th>1479623</th>\n",
       "      <td>Q18967223</td>\n",
       "      <td>Q57769952</td>\n",
       "      <td>presents</td>\n",
       "      <td>computed</td>\n",
       "      <td>punning</td>\n",
       "      <td>catatonic type schizophrenia chronic state wit...</td>\n",
       "      <td>catatonic excitement</td>\n",
       "      <td>Disease</td>\n",
       "      <td>Phenotype</td>\n",
       "    </tr>\n",
       "    <tr>\n",
       "      <th>1479624</th>\n",
       "      <td>Q55011031</td>\n",
       "      <td>Q57769952</td>\n",
       "      <td>presents</td>\n",
       "      <td>computed</td>\n",
       "      <td>punning</td>\n",
       "      <td>catatonic type schizophrenia chronic state</td>\n",
       "      <td>catatonic excitement</td>\n",
       "      <td>Disease</td>\n",
       "      <td>Phenotype</td>\n",
       "    </tr>\n",
       "    <tr>\n",
       "      <th>1479625</th>\n",
       "      <td>Q3445377</td>\n",
       "      <td>Q67135649</td>\n",
       "      <td>presents</td>\n",
       "      <td>computed</td>\n",
       "      <td>punning</td>\n",
       "      <td>regressive autism</td>\n",
       "      <td>autistic special interest</td>\n",
       "      <td>Disease</td>\n",
       "      <td>Phenotype</td>\n",
       "    </tr>\n",
       "    <tr>\n",
       "      <th>...</th>\n",
       "      <td>...</td>\n",
       "      <td>...</td>\n",
       "      <td>...</td>\n",
       "      <td>...</td>\n",
       "      <td>...</td>\n",
       "      <td>...</td>\n",
       "      <td>...</td>\n",
       "      <td>...</td>\n",
       "      <td>...</td>\n",
       "    </tr>\n",
       "    <tr>\n",
       "      <th>1489058</th>\n",
       "      <td>Q18556359</td>\n",
       "      <td>HP:0100575</td>\n",
       "      <td>presents</td>\n",
       "      <td>computed</td>\n",
       "      <td>punning</td>\n",
       "      <td>gallbladder angiosarcoma</td>\n",
       "      <td>gallbladder cancer</td>\n",
       "      <td>Disease</td>\n",
       "      <td>Phenotype</td>\n",
       "    </tr>\n",
       "    <tr>\n",
       "      <th>1489059</th>\n",
       "      <td>Q18557517</td>\n",
       "      <td>HP:0100575</td>\n",
       "      <td>presents</td>\n",
       "      <td>computed</td>\n",
       "      <td>punning</td>\n",
       "      <td>gallbladder papillary carcinoma</td>\n",
       "      <td>gallbladder cancer</td>\n",
       "      <td>Disease</td>\n",
       "      <td>Phenotype</td>\n",
       "    </tr>\n",
       "    <tr>\n",
       "      <th>1489060</th>\n",
       "      <td>Q19001059</td>\n",
       "      <td>HP:0100575</td>\n",
       "      <td>presents</td>\n",
       "      <td>computed</td>\n",
       "      <td>punning</td>\n",
       "      <td>metastatic neoplasm to the gallbladder</td>\n",
       "      <td>gallbladder cancer</td>\n",
       "      <td>Disease</td>\n",
       "      <td>Phenotype</td>\n",
       "    </tr>\n",
       "    <tr>\n",
       "      <th>1489061</th>\n",
       "      <td>Q19001064</td>\n",
       "      <td>HP:0100575</td>\n",
       "      <td>presents</td>\n",
       "      <td>computed</td>\n",
       "      <td>punning</td>\n",
       "      <td>gallbladder cancer unresectable</td>\n",
       "      <td>gallbladder cancer</td>\n",
       "      <td>Disease</td>\n",
       "      <td>Phenotype</td>\n",
       "    </tr>\n",
       "    <tr>\n",
       "      <th>1489062</th>\n",
       "      <td>Q30643222</td>\n",
       "      <td>HP:0002156</td>\n",
       "      <td>presents</td>\n",
       "      <td>computed</td>\n",
       "      <td>punning</td>\n",
       "      <td>methylenetetrahydrofolate reductase deficiency</td>\n",
       "      <td>homocystinuria</td>\n",
       "      <td>Disease</td>\n",
       "      <td>Phenotype</td>\n",
       "    </tr>\n",
       "  </tbody>\n",
       "</table>\n",
       "<p>9442 rows × 9 columns</p>\n",
       "</div>"
      ],
      "text/plain": [
       "          start_id      end_id      type dsrc_type comp_type  \\\n",
       "1479621   Q1544517   Q57769952  presents  computed   punning   \n",
       "1479622  Q18967220   Q57769952  presents  computed   punning   \n",
       "1479623  Q18967223   Q57769952  presents  computed   punning   \n",
       "1479624  Q55011031   Q57769952  presents  computed   punning   \n",
       "1479625   Q3445377   Q67135649  presents  computed   punning   \n",
       "...            ...         ...       ...       ...       ...   \n",
       "1489058  Q18556359  HP:0100575  presents  computed   punning   \n",
       "1489059  Q18557517  HP:0100575  presents  computed   punning   \n",
       "1489060  Q19001059  HP:0100575  presents  computed   punning   \n",
       "1489061  Q19001064  HP:0100575  presents  computed   punning   \n",
       "1489062  Q30643222  HP:0002156  presents  computed   punning   \n",
       "\n",
       "                                                start_name  \\\n",
       "1479621                                  oneiroid syndrome   \n",
       "1479622      catatonic type schizophrenia subchronic state   \n",
       "1479623  catatonic type schizophrenia chronic state wit...   \n",
       "1479624         catatonic type schizophrenia chronic state   \n",
       "1479625                                  regressive autism   \n",
       "...                                                    ...   \n",
       "1489058                           gallbladder angiosarcoma   \n",
       "1489059                    gallbladder papillary carcinoma   \n",
       "1489060             metastatic neoplasm to the gallbladder   \n",
       "1489061                    gallbladder cancer unresectable   \n",
       "1489062     methylenetetrahydrofolate reductase deficiency   \n",
       "\n",
       "                          end_name start_label  end_label  \n",
       "1479621       catatonic excitement     Disease  Phenotype  \n",
       "1479622       catatonic excitement     Disease  Phenotype  \n",
       "1479623       catatonic excitement     Disease  Phenotype  \n",
       "1479624       catatonic excitement     Disease  Phenotype  \n",
       "1479625  autistic special interest     Disease  Phenotype  \n",
       "...                            ...         ...        ...  \n",
       "1489058         gallbladder cancer     Disease  Phenotype  \n",
       "1489059         gallbladder cancer     Disease  Phenotype  \n",
       "1489060         gallbladder cancer     Disease  Phenotype  \n",
       "1489061         gallbladder cancer     Disease  Phenotype  \n",
       "1489062             homocystinuria     Disease  Phenotype  \n",
       "\n",
       "[9442 rows x 9 columns]"
      ]
     },
     "execution_count": 15,
     "metadata": {},
     "output_type": "execute_result"
    }
   ],
   "source": [
    "combo.query('start_label == \"Disease\" and comp_type == \"punning\"')"
   ]
  },
  {
   "cell_type": "code",
   "execution_count": 16,
   "metadata": {},
   "outputs": [
    {
     "data": {
      "text/html": [
       "<div>\n",
       "<style scoped>\n",
       "    .dataframe tbody tr th:only-of-type {\n",
       "        vertical-align: middle;\n",
       "    }\n",
       "\n",
       "    .dataframe tbody tr th {\n",
       "        vertical-align: top;\n",
       "    }\n",
       "\n",
       "    .dataframe thead th {\n",
       "        text-align: right;\n",
       "    }\n",
       "</style>\n",
       "<table border=\"1\" class=\"dataframe\">\n",
       "  <thead>\n",
       "    <tr style=\"text-align: right;\">\n",
       "      <th></th>\n",
       "      <th>start_id</th>\n",
       "      <th>end_id</th>\n",
       "      <th>type</th>\n",
       "      <th>dsrc_type</th>\n",
       "      <th>comp_type</th>\n",
       "      <th>start_name</th>\n",
       "      <th>end_name</th>\n",
       "      <th>start_label</th>\n",
       "      <th>end_label</th>\n",
       "    </tr>\n",
       "  </thead>\n",
       "  <tbody>\n",
       "    <tr>\n",
       "      <th>703</th>\n",
       "      <td>Q2715597</td>\n",
       "      <td>Q4736375</td>\n",
       "      <td>causes</td>\n",
       "      <td>computed</td>\n",
       "      <td>punning</td>\n",
       "      <td>Alternaria solani</td>\n",
       "      <td>Alternariosis</td>\n",
       "      <td>Taxon</td>\n",
       "      <td>Disease</td>\n",
       "    </tr>\n",
       "    <tr>\n",
       "      <th>704</th>\n",
       "      <td>Q10406867</td>\n",
       "      <td>Q4736375</td>\n",
       "      <td>causes</td>\n",
       "      <td>computed</td>\n",
       "      <td>punning</td>\n",
       "      <td>Alternaria capsici-annui</td>\n",
       "      <td>Alternariosis</td>\n",
       "      <td>Taxon</td>\n",
       "      <td>Disease</td>\n",
       "    </tr>\n",
       "    <tr>\n",
       "      <th>705</th>\n",
       "      <td>Q62858638</td>\n",
       "      <td>Q18975970</td>\n",
       "      <td>causes</td>\n",
       "      <td>computed</td>\n",
       "      <td>punning</td>\n",
       "      <td>Bacteroides koreensis</td>\n",
       "      <td>bacteroides infectious disease</td>\n",
       "      <td>Taxon</td>\n",
       "      <td>Disease</td>\n",
       "    </tr>\n",
       "    <tr>\n",
       "      <th>706</th>\n",
       "      <td>Q4736364</td>\n",
       "      <td>Q4736375</td>\n",
       "      <td>causes</td>\n",
       "      <td>computed</td>\n",
       "      <td>punning</td>\n",
       "      <td>Alternaria linicola</td>\n",
       "      <td>Alternariosis</td>\n",
       "      <td>Taxon</td>\n",
       "      <td>Disease</td>\n",
       "    </tr>\n",
       "    <tr>\n",
       "      <th>707</th>\n",
       "      <td>Q4736362</td>\n",
       "      <td>Q4736375</td>\n",
       "      <td>causes</td>\n",
       "      <td>computed</td>\n",
       "      <td>punning</td>\n",
       "      <td>Alternaria japonica</td>\n",
       "      <td>Alternariosis</td>\n",
       "      <td>Taxon</td>\n",
       "      <td>Disease</td>\n",
       "    </tr>\n",
       "    <tr>\n",
       "      <th>...</th>\n",
       "      <td>...</td>\n",
       "      <td>...</td>\n",
       "      <td>...</td>\n",
       "      <td>...</td>\n",
       "      <td>...</td>\n",
       "      <td>...</td>\n",
       "      <td>...</td>\n",
       "      <td>...</td>\n",
       "      <td>...</td>\n",
       "    </tr>\n",
       "    <tr>\n",
       "      <th>2244962</th>\n",
       "      <td>Q29583412</td>\n",
       "      <td>Q33525</td>\n",
       "      <td>site_of</td>\n",
       "      <td>computed</td>\n",
       "      <td>punning</td>\n",
       "      <td>simple epithelium</td>\n",
       "      <td>carcinoma</td>\n",
       "      <td>Anatomy</td>\n",
       "      <td>Disease</td>\n",
       "    </tr>\n",
       "    <tr>\n",
       "      <th>2244963</th>\n",
       "      <td>Q29578507</td>\n",
       "      <td>Q33525</td>\n",
       "      <td>site_of</td>\n",
       "      <td>computed</td>\n",
       "      <td>punning</td>\n",
       "      <td>cuboidal epithelium</td>\n",
       "      <td>carcinoma</td>\n",
       "      <td>Anatomy</td>\n",
       "      <td>Disease</td>\n",
       "    </tr>\n",
       "    <tr>\n",
       "      <th>2244964</th>\n",
       "      <td>Q29578543</td>\n",
       "      <td>Q33525</td>\n",
       "      <td>site_of</td>\n",
       "      <td>computed</td>\n",
       "      <td>punning</td>\n",
       "      <td>columnar epithelium</td>\n",
       "      <td>carcinoma</td>\n",
       "      <td>Anatomy</td>\n",
       "      <td>Disease</td>\n",
       "    </tr>\n",
       "    <tr>\n",
       "      <th>2244965</th>\n",
       "      <td>Q29578493</td>\n",
       "      <td>Q33525</td>\n",
       "      <td>site_of</td>\n",
       "      <td>computed</td>\n",
       "      <td>punning</td>\n",
       "      <td>squamous epithelium</td>\n",
       "      <td>carcinoma</td>\n",
       "      <td>Anatomy</td>\n",
       "      <td>Disease</td>\n",
       "    </tr>\n",
       "    <tr>\n",
       "      <th>2244966</th>\n",
       "      <td>Q3267446</td>\n",
       "      <td>Q33525</td>\n",
       "      <td>site_of</td>\n",
       "      <td>computed</td>\n",
       "      <td>punning</td>\n",
       "      <td>pseudostratified columnar epithelium</td>\n",
       "      <td>carcinoma</td>\n",
       "      <td>Anatomy</td>\n",
       "      <td>Disease</td>\n",
       "    </tr>\n",
       "  </tbody>\n",
       "</table>\n",
       "<p>793775 rows × 9 columns</p>\n",
       "</div>"
      ],
      "text/plain": [
       "          start_id     end_id     type dsrc_type comp_type  \\\n",
       "703       Q2715597   Q4736375   causes  computed   punning   \n",
       "704      Q10406867   Q4736375   causes  computed   punning   \n",
       "705      Q62858638  Q18975970   causes  computed   punning   \n",
       "706       Q4736364   Q4736375   causes  computed   punning   \n",
       "707       Q4736362   Q4736375   causes  computed   punning   \n",
       "...            ...        ...      ...       ...       ...   \n",
       "2244962  Q29583412     Q33525  site_of  computed   punning   \n",
       "2244963  Q29578507     Q33525  site_of  computed   punning   \n",
       "2244964  Q29578543     Q33525  site_of  computed   punning   \n",
       "2244965  Q29578493     Q33525  site_of  computed   punning   \n",
       "2244966   Q3267446     Q33525  site_of  computed   punning   \n",
       "\n",
       "                                   start_name                        end_name  \\\n",
       "703                         Alternaria solani                   Alternariosis   \n",
       "704                  Alternaria capsici-annui                   Alternariosis   \n",
       "705                     Bacteroides koreensis  bacteroides infectious disease   \n",
       "706                       Alternaria linicola                   Alternariosis   \n",
       "707                       Alternaria japonica                   Alternariosis   \n",
       "...                                       ...                             ...   \n",
       "2244962                     simple epithelium                       carcinoma   \n",
       "2244963                   cuboidal epithelium                       carcinoma   \n",
       "2244964                   columnar epithelium                       carcinoma   \n",
       "2244965                   squamous epithelium                       carcinoma   \n",
       "2244966  pseudostratified columnar epithelium                       carcinoma   \n",
       "\n",
       "        start_label end_label  \n",
       "703           Taxon   Disease  \n",
       "704           Taxon   Disease  \n",
       "705           Taxon   Disease  \n",
       "706           Taxon   Disease  \n",
       "707           Taxon   Disease  \n",
       "...             ...       ...  \n",
       "2244962     Anatomy   Disease  \n",
       "2244963     Anatomy   Disease  \n",
       "2244964     Anatomy   Disease  \n",
       "2244965     Anatomy   Disease  \n",
       "2244966     Anatomy   Disease  \n",
       "\n",
       "[793775 rows x 9 columns]"
      ]
     },
     "execution_count": 16,
     "metadata": {},
     "output_type": "execute_result"
    }
   ],
   "source": [
    "combo.query('end_label == \"Disease\" and comp_type == \"punning\"')"
   ]
  },
  {
   "cell_type": "code",
   "execution_count": 17,
   "metadata": {},
   "outputs": [
    {
     "data": {
      "text/html": [
       "<div>\n",
       "<style scoped>\n",
       "    .dataframe tbody tr th:only-of-type {\n",
       "        vertical-align: middle;\n",
       "    }\n",
       "\n",
       "    .dataframe tbody tr th {\n",
       "        vertical-align: top;\n",
       "    }\n",
       "\n",
       "    .dataframe thead th {\n",
       "        text-align: right;\n",
       "    }\n",
       "</style>\n",
       "<table border=\"1\" class=\"dataframe\">\n",
       "  <thead>\n",
       "    <tr style=\"text-align: right;\">\n",
       "      <th></th>\n",
       "      <th>start_id</th>\n",
       "      <th>end_id</th>\n",
       "      <th>type</th>\n",
       "      <th>dsrc_type</th>\n",
       "      <th>comp_type</th>\n",
       "      <th>start_name</th>\n",
       "      <th>end_name</th>\n",
       "      <th>start_label</th>\n",
       "      <th>end_label</th>\n",
       "    </tr>\n",
       "  </thead>\n",
       "  <tbody>\n",
       "    <tr>\n",
       "      <th>2132332</th>\n",
       "      <td>Q415081</td>\n",
       "      <td>Q1193891</td>\n",
       "      <td>treats</td>\n",
       "      <td>computed</td>\n",
       "      <td>punning</td>\n",
       "      <td>donepezil</td>\n",
       "      <td>retrograde amnesia</td>\n",
       "      <td>Compound</td>\n",
       "      <td>Disease</td>\n",
       "    </tr>\n",
       "    <tr>\n",
       "      <th>2132333</th>\n",
       "      <td>Q415081</td>\n",
       "      <td>Q2555537</td>\n",
       "      <td>treats</td>\n",
       "      <td>computed</td>\n",
       "      <td>punning</td>\n",
       "      <td>donepezil</td>\n",
       "      <td>Lacunar amnesia</td>\n",
       "      <td>Compound</td>\n",
       "      <td>Disease</td>\n",
       "    </tr>\n",
       "    <tr>\n",
       "      <th>2132334</th>\n",
       "      <td>Q415081</td>\n",
       "      <td>Q2449188</td>\n",
       "      <td>treats</td>\n",
       "      <td>computed</td>\n",
       "      <td>punning</td>\n",
       "      <td>donepezil</td>\n",
       "      <td>Transient epileptic amnesia</td>\n",
       "      <td>Compound</td>\n",
       "      <td>Disease</td>\n",
       "    </tr>\n",
       "    <tr>\n",
       "      <th>2132335</th>\n",
       "      <td>Q415081</td>\n",
       "      <td>Q572111</td>\n",
       "      <td>treats</td>\n",
       "      <td>computed</td>\n",
       "      <td>punning</td>\n",
       "      <td>donepezil</td>\n",
       "      <td>anterograde amnesia</td>\n",
       "      <td>Compound</td>\n",
       "      <td>Disease</td>\n",
       "    </tr>\n",
       "    <tr>\n",
       "      <th>2132336</th>\n",
       "      <td>Q415081</td>\n",
       "      <td>Q4483652</td>\n",
       "      <td>treats</td>\n",
       "      <td>computed</td>\n",
       "      <td>punning</td>\n",
       "      <td>donepezil</td>\n",
       "      <td>fixation amnesia</td>\n",
       "      <td>Compound</td>\n",
       "      <td>Disease</td>\n",
       "    </tr>\n",
       "    <tr>\n",
       "      <th>...</th>\n",
       "      <td>...</td>\n",
       "      <td>...</td>\n",
       "      <td>...</td>\n",
       "      <td>...</td>\n",
       "      <td>...</td>\n",
       "      <td>...</td>\n",
       "      <td>...</td>\n",
       "      <td>...</td>\n",
       "      <td>...</td>\n",
       "    </tr>\n",
       "    <tr>\n",
       "      <th>2171241</th>\n",
       "      <td>Q27271655</td>\n",
       "      <td>Q54973000</td>\n",
       "      <td>treats</td>\n",
       "      <td>computed</td>\n",
       "      <td>punning</td>\n",
       "      <td>tenofovir disoproxil succinate</td>\n",
       "      <td>HIV seropositivity</td>\n",
       "      <td>Compound</td>\n",
       "      <td>Disease</td>\n",
       "    </tr>\n",
       "    <tr>\n",
       "      <th>2171242</th>\n",
       "      <td>Q27271655</td>\n",
       "      <td>Q12199</td>\n",
       "      <td>treats</td>\n",
       "      <td>computed</td>\n",
       "      <td>punning</td>\n",
       "      <td>tenofovir disoproxil succinate</td>\n",
       "      <td>HIV/AIDS</td>\n",
       "      <td>Compound</td>\n",
       "      <td>Disease</td>\n",
       "    </tr>\n",
       "    <tr>\n",
       "      <th>2171243</th>\n",
       "      <td>Q27032359</td>\n",
       "      <td>Q1451877</td>\n",
       "      <td>treats</td>\n",
       "      <td>computed</td>\n",
       "      <td>punning</td>\n",
       "      <td>doxorubicin hydrochloride</td>\n",
       "      <td>embryonal carcinoma</td>\n",
       "      <td>Compound</td>\n",
       "      <td>Disease</td>\n",
       "    </tr>\n",
       "    <tr>\n",
       "      <th>2171244</th>\n",
       "      <td>Q27032359</td>\n",
       "      <td>Q5370230</td>\n",
       "      <td>treats</td>\n",
       "      <td>computed</td>\n",
       "      <td>punning</td>\n",
       "      <td>doxorubicin hydrochloride</td>\n",
       "      <td>embryoma</td>\n",
       "      <td>Compound</td>\n",
       "      <td>Disease</td>\n",
       "    </tr>\n",
       "    <tr>\n",
       "      <th>2171245</th>\n",
       "      <td>Q27032359</td>\n",
       "      <td>Q5370233</td>\n",
       "      <td>treats</td>\n",
       "      <td>computed</td>\n",
       "      <td>punning</td>\n",
       "      <td>doxorubicin hydrochloride</td>\n",
       "      <td>embryonal rhabdomyosarcoma</td>\n",
       "      <td>Compound</td>\n",
       "      <td>Disease</td>\n",
       "    </tr>\n",
       "  </tbody>\n",
       "</table>\n",
       "<p>38914 rows × 9 columns</p>\n",
       "</div>"
      ],
      "text/plain": [
       "          start_id     end_id    type dsrc_type comp_type  \\\n",
       "2132332    Q415081   Q1193891  treats  computed   punning   \n",
       "2132333    Q415081   Q2555537  treats  computed   punning   \n",
       "2132334    Q415081   Q2449188  treats  computed   punning   \n",
       "2132335    Q415081    Q572111  treats  computed   punning   \n",
       "2132336    Q415081   Q4483652  treats  computed   punning   \n",
       "...            ...        ...     ...       ...       ...   \n",
       "2171241  Q27271655  Q54973000  treats  computed   punning   \n",
       "2171242  Q27271655     Q12199  treats  computed   punning   \n",
       "2171243  Q27032359   Q1451877  treats  computed   punning   \n",
       "2171244  Q27032359   Q5370230  treats  computed   punning   \n",
       "2171245  Q27032359   Q5370233  treats  computed   punning   \n",
       "\n",
       "                             start_name                     end_name  \\\n",
       "2132332                       donepezil           retrograde amnesia   \n",
       "2132333                       donepezil              Lacunar amnesia   \n",
       "2132334                       donepezil  Transient epileptic amnesia   \n",
       "2132335                       donepezil          anterograde amnesia   \n",
       "2132336                       donepezil             fixation amnesia   \n",
       "...                                 ...                          ...   \n",
       "2171241  tenofovir disoproxil succinate           HIV seropositivity   \n",
       "2171242  tenofovir disoproxil succinate                     HIV/AIDS   \n",
       "2171243       doxorubicin hydrochloride          embryonal carcinoma   \n",
       "2171244       doxorubicin hydrochloride                     embryoma   \n",
       "2171245       doxorubicin hydrochloride   embryonal rhabdomyosarcoma   \n",
       "\n",
       "        start_label end_label  \n",
       "2132332    Compound   Disease  \n",
       "2132333    Compound   Disease  \n",
       "2132334    Compound   Disease  \n",
       "2132335    Compound   Disease  \n",
       "2132336    Compound   Disease  \n",
       "...             ...       ...  \n",
       "2171241    Compound   Disease  \n",
       "2171242    Compound   Disease  \n",
       "2171243    Compound   Disease  \n",
       "2171244    Compound   Disease  \n",
       "2171245    Compound   Disease  \n",
       "\n",
       "[38914 rows x 9 columns]"
      ]
     },
     "execution_count": 17,
     "metadata": {},
     "output_type": "execute_result"
    }
   ],
   "source": [
    "combo.query('end_label == \"Disease\" and comp_type == \"punning\" and type == \"treats\"')"
   ]
  },
  {
   "cell_type": "code",
   "execution_count": 18,
   "metadata": {},
   "outputs": [
    {
     "data": {
      "text/html": [
       "<div>\n",
       "<style scoped>\n",
       "    .dataframe tbody tr th:only-of-type {\n",
       "        vertical-align: middle;\n",
       "    }\n",
       "\n",
       "    .dataframe tbody tr th {\n",
       "        vertical-align: top;\n",
       "    }\n",
       "\n",
       "    .dataframe thead th {\n",
       "        text-align: right;\n",
       "    }\n",
       "</style>\n",
       "<table border=\"1\" class=\"dataframe\">\n",
       "  <thead>\n",
       "    <tr style=\"text-align: right;\">\n",
       "      <th></th>\n",
       "      <th>start_id</th>\n",
       "      <th>end_id</th>\n",
       "      <th>type</th>\n",
       "      <th>dsrc_type</th>\n",
       "      <th>comp_type</th>\n",
       "      <th>start_name</th>\n",
       "      <th>end_name</th>\n",
       "      <th>start_label</th>\n",
       "      <th>end_label</th>\n",
       "    </tr>\n",
       "  </thead>\n",
       "  <tbody>\n",
       "    <tr>\n",
       "      <th>2171246</th>\n",
       "      <td>Q9377</td>\n",
       "      <td>Q6934642</td>\n",
       "      <td>site_of</td>\n",
       "      <td>computed</td>\n",
       "      <td>punning</td>\n",
       "      <td>kidney</td>\n",
       "      <td>multicystic dysplastic kidney</td>\n",
       "      <td>Anatomy</td>\n",
       "      <td>Disease</td>\n",
       "    </tr>\n",
       "    <tr>\n",
       "      <th>2171247</th>\n",
       "      <td>Q9377</td>\n",
       "      <td>Q15443105</td>\n",
       "      <td>site_of</td>\n",
       "      <td>computed</td>\n",
       "      <td>punning</td>\n",
       "      <td>kidney</td>\n",
       "      <td>autosomal dominant polycystic kidney disease</td>\n",
       "      <td>Anatomy</td>\n",
       "      <td>Disease</td>\n",
       "    </tr>\n",
       "    <tr>\n",
       "      <th>2171248</th>\n",
       "      <td>Q9377</td>\n",
       "      <td>Q18558181</td>\n",
       "      <td>site_of</td>\n",
       "      <td>computed</td>\n",
       "      <td>punning</td>\n",
       "      <td>kidney</td>\n",
       "      <td>non-congenital cyst of kidney</td>\n",
       "      <td>Anatomy</td>\n",
       "      <td>Disease</td>\n",
       "    </tr>\n",
       "    <tr>\n",
       "      <th>2171249</th>\n",
       "      <td>Q9377</td>\n",
       "      <td>Q19000644</td>\n",
       "      <td>site_of</td>\n",
       "      <td>computed</td>\n",
       "      <td>punning</td>\n",
       "      <td>kidney</td>\n",
       "      <td>congenital cystic kidney disease</td>\n",
       "      <td>Anatomy</td>\n",
       "      <td>Disease</td>\n",
       "    </tr>\n",
       "    <tr>\n",
       "      <th>2171250</th>\n",
       "      <td>Q9377</td>\n",
       "      <td>Q60195313</td>\n",
       "      <td>site_of</td>\n",
       "      <td>computed</td>\n",
       "      <td>punning</td>\n",
       "      <td>kidney</td>\n",
       "      <td>polycystic kidney disease</td>\n",
       "      <td>Anatomy</td>\n",
       "      <td>Disease</td>\n",
       "    </tr>\n",
       "    <tr>\n",
       "      <th>...</th>\n",
       "      <td>...</td>\n",
       "      <td>...</td>\n",
       "      <td>...</td>\n",
       "      <td>...</td>\n",
       "      <td>...</td>\n",
       "      <td>...</td>\n",
       "      <td>...</td>\n",
       "      <td>...</td>\n",
       "      <td>...</td>\n",
       "    </tr>\n",
       "    <tr>\n",
       "      <th>2244962</th>\n",
       "      <td>Q29583412</td>\n",
       "      <td>Q33525</td>\n",
       "      <td>site_of</td>\n",
       "      <td>computed</td>\n",
       "      <td>punning</td>\n",
       "      <td>simple epithelium</td>\n",
       "      <td>carcinoma</td>\n",
       "      <td>Anatomy</td>\n",
       "      <td>Disease</td>\n",
       "    </tr>\n",
       "    <tr>\n",
       "      <th>2244963</th>\n",
       "      <td>Q29578507</td>\n",
       "      <td>Q33525</td>\n",
       "      <td>site_of</td>\n",
       "      <td>computed</td>\n",
       "      <td>punning</td>\n",
       "      <td>cuboidal epithelium</td>\n",
       "      <td>carcinoma</td>\n",
       "      <td>Anatomy</td>\n",
       "      <td>Disease</td>\n",
       "    </tr>\n",
       "    <tr>\n",
       "      <th>2244964</th>\n",
       "      <td>Q29578543</td>\n",
       "      <td>Q33525</td>\n",
       "      <td>site_of</td>\n",
       "      <td>computed</td>\n",
       "      <td>punning</td>\n",
       "      <td>columnar epithelium</td>\n",
       "      <td>carcinoma</td>\n",
       "      <td>Anatomy</td>\n",
       "      <td>Disease</td>\n",
       "    </tr>\n",
       "    <tr>\n",
       "      <th>2244965</th>\n",
       "      <td>Q29578493</td>\n",
       "      <td>Q33525</td>\n",
       "      <td>site_of</td>\n",
       "      <td>computed</td>\n",
       "      <td>punning</td>\n",
       "      <td>squamous epithelium</td>\n",
       "      <td>carcinoma</td>\n",
       "      <td>Anatomy</td>\n",
       "      <td>Disease</td>\n",
       "    </tr>\n",
       "    <tr>\n",
       "      <th>2244966</th>\n",
       "      <td>Q3267446</td>\n",
       "      <td>Q33525</td>\n",
       "      <td>site_of</td>\n",
       "      <td>computed</td>\n",
       "      <td>punning</td>\n",
       "      <td>pseudostratified columnar epithelium</td>\n",
       "      <td>carcinoma</td>\n",
       "      <td>Anatomy</td>\n",
       "      <td>Disease</td>\n",
       "    </tr>\n",
       "  </tbody>\n",
       "</table>\n",
       "<p>29101 rows × 9 columns</p>\n",
       "</div>"
      ],
      "text/plain": [
       "          start_id     end_id     type dsrc_type comp_type  \\\n",
       "2171246      Q9377   Q6934642  site_of  computed   punning   \n",
       "2171247      Q9377  Q15443105  site_of  computed   punning   \n",
       "2171248      Q9377  Q18558181  site_of  computed   punning   \n",
       "2171249      Q9377  Q19000644  site_of  computed   punning   \n",
       "2171250      Q9377  Q60195313  site_of  computed   punning   \n",
       "...            ...        ...      ...       ...       ...   \n",
       "2244962  Q29583412     Q33525  site_of  computed   punning   \n",
       "2244963  Q29578507     Q33525  site_of  computed   punning   \n",
       "2244964  Q29578543     Q33525  site_of  computed   punning   \n",
       "2244965  Q29578493     Q33525  site_of  computed   punning   \n",
       "2244966   Q3267446     Q33525  site_of  computed   punning   \n",
       "\n",
       "                                   start_name  \\\n",
       "2171246                                kidney   \n",
       "2171247                                kidney   \n",
       "2171248                                kidney   \n",
       "2171249                                kidney   \n",
       "2171250                                kidney   \n",
       "...                                       ...   \n",
       "2244962                     simple epithelium   \n",
       "2244963                   cuboidal epithelium   \n",
       "2244964                   columnar epithelium   \n",
       "2244965                   squamous epithelium   \n",
       "2244966  pseudostratified columnar epithelium   \n",
       "\n",
       "                                             end_name start_label end_label  \n",
       "2171246                 multicystic dysplastic kidney     Anatomy   Disease  \n",
       "2171247  autosomal dominant polycystic kidney disease     Anatomy   Disease  \n",
       "2171248                 non-congenital cyst of kidney     Anatomy   Disease  \n",
       "2171249              congenital cystic kidney disease     Anatomy   Disease  \n",
       "2171250                     polycystic kidney disease     Anatomy   Disease  \n",
       "...                                               ...         ...       ...  \n",
       "2244962                                     carcinoma     Anatomy   Disease  \n",
       "2244963                                     carcinoma     Anatomy   Disease  \n",
       "2244964                                     carcinoma     Anatomy   Disease  \n",
       "2244965                                     carcinoma     Anatomy   Disease  \n",
       "2244966                                     carcinoma     Anatomy   Disease  \n",
       "\n",
       "[29101 rows x 9 columns]"
      ]
     },
     "execution_count": 18,
     "metadata": {},
     "output_type": "execute_result"
    }
   ],
   "source": [
    "combo.query('start_label == \"Anatomy\" and comp_type == \"punning\"')"
   ]
  },
  {
   "cell_type": "markdown",
   "metadata": {},
   "source": [
    "# Developing new Edges with stats tests\n",
    "\n",
    "We can use a bridging concept (like genes) to bridge two other concepts, (like biological processes and diseases). Using a statistical test like Fisher's Exact, we can determine which Biological Processes have an association with which diseases.  \n",
    "\n",
    "First let's look at what are linked to Genes or Proteins."
   ]
  },
  {
   "cell_type": "code",
   "execution_count": 19,
   "metadata": {},
   "outputs": [],
   "source": [
    "new_edges = []"
   ]
  },
  {
   "cell_type": "code",
   "execution_count": 20,
   "metadata": {},
   "outputs": [
    {
     "data": {
      "text/plain": [
       "Taxon                 421051\n",
       "Biological Process    278583\n",
       "Cellular Component    236518\n",
       "Molecular Function    205959\n",
       "Protein               199878\n",
       "Disease                36232\n",
       "Phenotype                 46\n",
       "Pathway                   29\n",
       "Name: end_label, dtype: int64"
      ]
     },
     "execution_count": 20,
     "metadata": {},
     "output_type": "execute_result"
    }
   ],
   "source": [
    "combo.query('start_label == \"Gene\" or start_label == \"Protein\"')['end_label'].value_counts()"
   ]
  },
  {
   "cell_type": "code",
   "execution_count": 21,
   "metadata": {},
   "outputs": [
    {
     "data": {
      "text/plain": [
       "Gene        199877\n",
       "Pathway      25185\n",
       "Compound      3742\n",
       "Protein          1\n",
       "Name: start_label, dtype: int64"
      ]
     },
     "execution_count": 21,
     "metadata": {},
     "output_type": "execute_result"
    }
   ],
   "source": [
    "combo.query('end_label == \"Gene\" or end_label == \"Protein\"')['start_label'].value_counts()"
   ]
  },
  {
   "cell_type": "markdown",
   "metadata": {},
   "source": [
    "Can compute Disease to GO term, or Pathway"
   ]
  },
  {
   "cell_type": "code",
   "execution_count": 22,
   "metadata": {},
   "outputs": [],
   "source": [
    "def get_item_to_gene_through_protein(item_label):\n",
    "    pro_to_item = combo.query('start_label == \"Protein\" and end_label == @item_label')\n",
    "    gene_to_pro = combo.query('start_label == \"Gene\" and end_label == \"Protein\" and type == \"encodes\"')\n",
    "\n",
    "    item_to_gene = pro_to_item.merge(gene_to_pro, how='inner', left_on='start_id', right_on='end_id', suffixes=('_item', '_gene'))\n",
    "    item_to_gene = item_to_gene.groupby('end_id_item')['start_id_gene'].apply(set).to_dict()\n",
    "    return item_to_gene"
   ]
  },
  {
   "cell_type": "code",
   "execution_count": 23,
   "metadata": {},
   "outputs": [],
   "source": [
    "# Not interested in non-human genes, so need to have them for filtering\n",
    "tax_genes = set(combo.query('start_label == \"Gene\" and end_label == \"Taxon\"')['start_id'])"
   ]
  },
  {
   "cell_type": "code",
   "execution_count": 24,
   "metadata": {},
   "outputs": [],
   "source": [
    "def filter_tax(mapper, keys=False):\n",
    "    if keys:\n",
    "        return {k: v for k, v in mapper.items() if k not in tax_genes}\n",
    "    else:\n",
    "        out = {k: {v for v in val if v not in tax_genes} for k, val in mapper.items()}\n",
    "        out = {k: v for k, v in out.items() if len(v) > 0}\n",
    "        return out"
   ]
  },
  {
   "cell_type": "code",
   "execution_count": 25,
   "metadata": {},
   "outputs": [],
   "source": [
    "gene_to_dis = combo.query('start_label == \"Gene\" and end_label == \"Disease\"')\n",
    "gene_to_dis = gene_to_dis.groupby('start_id')['end_id'].apply(set).to_dict()\n",
    "gene_to_dis = filter_tax(gene_to_dis, keys=True)\n",
    "\n",
    "dis_to_gene = combo.query('start_label == \"Gene\" and end_label == \"Disease\"')\n",
    "dis_to_gene = dis_to_gene.groupby('end_id')['start_id'].apply(set).to_dict()\n",
    "dis_to_gene = filter_tax(dis_to_gene)"
   ]
  },
  {
   "cell_type": "code",
   "execution_count": 26,
   "metadata": {},
   "outputs": [],
   "source": [
    "dis_genes = set(chain(*dis_to_gene.values()))\n",
    "    \n",
    "def filter_to_disese_genes(mapper):\n",
    "    out = {k: v&dis_genes for k, v in mapper.items()}\n",
    "    out = {k: v for k, v in out.items() if len(v) > 0}\n",
    "    return out"
   ]
  },
  {
   "cell_type": "markdown",
   "metadata": {},
   "source": [
    "## BP associated_with Disease"
   ]
  },
  {
   "cell_type": "code",
   "execution_count": 27,
   "metadata": {},
   "outputs": [],
   "source": [
    "bp_to_gene = get_item_to_gene_through_protein('Biological Process')\n",
    "bp_to_gene = filter_tax(bp_to_gene)\n",
    "bp_to_gene = filter_to_disese_genes(bp_to_gene)"
   ]
  },
  {
   "cell_type": "code",
   "execution_count": 28,
   "metadata": {},
   "outputs": [],
   "source": [
    "def contingency_a_to_b_through_x(a_id, b_id, a_to_x_map, b_to_x_map, total):\n",
    "    a_x = a_to_x_map[a_id]\n",
    "    num_a_x = len(a_x)\n",
    "    \n",
    "    b_x = b_to_x_map[b_id]\n",
    "    num_b_x = len(b_x)\n",
    "\n",
    "    num_ab_x = len(a_x & b_x)\n",
    "    \n",
    "    num_not_a_or_b = total - len(a_x | b_x)\n",
    "    \n",
    "    return num_ab_x, num_a_x-num_ab_x, num_b_x-num_ab_x, num_not_a_or_b"
   ]
  },
  {
   "cell_type": "code",
   "execution_count": 29,
   "metadata": {},
   "outputs": [],
   "source": [
    "from collections import defaultdict"
   ]
  },
  {
   "cell_type": "code",
   "execution_count": 30,
   "metadata": {},
   "outputs": [],
   "source": [
    "def invert_one_to_many_map(mapper):\n",
    "    inverted = defaultdict(set)\n",
    "    for k, v_set in gene_to_dis.items():\n",
    "        for v in v_set:\n",
    "            inverted[v].add(k)\n",
    "    return dict(inverted)"
   ]
  },
  {
   "cell_type": "code",
   "execution_count": 31,
   "metadata": {},
   "outputs": [],
   "source": [
    "def run_all_compaisons(a_name, b_name, x_name, a_to_x_map, b_to_x_map, name_map, x_to_b_map=None):\n",
    "\n",
    "    # Get the total number of X common to both conditions\n",
    "    total = len(set(chain(*a_to_x_map.values())).intersection(set(chain(*b_to_x_map.values()))))\n",
    "\n",
    "    # Need X to B to quickly determine what tests to do\n",
    "    if x_to_b_map is None:\n",
    "        x_to_b_map = invert_one_to_many_map(b_to_x_map)\n",
    "    \n",
    "    # Initalize output...\n",
    "    out_data = {a_name: [],\n",
    "                a_name+'_name': [],\n",
    "                b_name: [],\n",
    "                b_name+'_name': [],\n",
    "                a_name+'_'+b_name+'_'+x_name+'s': [],\n",
    "                'only_'+a_name+'_'+x_name+'s': [],\n",
    "                'only_'+b_name+'_'+x_name+'s': [],\n",
    "                'other_'+x_name+'s': [],\n",
    "                'odd_r': [],\n",
    "                'p_val': []}\n",
    "\n",
    "\n",
    "    for a_id in tqdm(set(a_to_x_map.keys())):\n",
    "\n",
    "        # Only test the subset of B vals that contain Xs common to A\n",
    "        # Speeds things up, so really try to do this\n",
    "        to_test = set.union(*[x_to_b_map.get(x, set()) for x in a_to_x_map[a_id]])\n",
    "\n",
    "        if not to_test:\n",
    "            continue\n",
    "        \n",
    "        a_item_name = name_map[a_id]\n",
    "\n",
    "        for b_id in to_test:\n",
    "\n",
    "            b_item_name = name_map[b_id]\n",
    "\n",
    "            num_ab, num_a, num_b, num_remain = contingency_a_to_b_through_x(a_id, b_id, a_to_x_map, b_to_x_map, total)\n",
    "            odd_r, p_val = fisher_exact([[num_ab, num_a],[num_b, num_remain]])\n",
    "\n",
    "            out_data[a_name].append(a_id)\n",
    "            out_data[a_name+'_name'].append(a_item_name)\n",
    "            out_data[b_name].append(b_id)\n",
    "            out_data[b_name+'_name'].append(b_item_name)\n",
    "            out_data[a_name+'_'+b_name+'_'+x_name+'s'].append(num_ab)\n",
    "            out_data['only_'+a_name+'_'+x_name+'s'].append(num_a)\n",
    "            out_data['only_'+b_name+'_'+x_name+'s'].append(num_b)\n",
    "            out_data['other_'+x_name+'s'].append(num_remain)\n",
    "            out_data['odd_r'].append(odd_r)\n",
    "            out_data['p_val'].append(p_val)\n",
    "\n",
    "\n",
    "    return pd.DataFrame(out_data)\n"
   ]
  },
  {
   "cell_type": "code",
   "execution_count": 32,
   "metadata": {},
   "outputs": [
    {
     "data": {
      "application/vnd.jupyter.widget-view+json": {
       "model_id": "4900a76691054afab27a947b9b800428",
       "version_major": 2,
       "version_minor": 0
      },
      "text/plain": [
       "HBox(children=(FloatProgress(value=0.0, max=9386.0), HTML(value='')))"
      ]
     },
     "metadata": {},
     "output_type": "display_data"
    },
    {
     "name": "stdout",
     "output_type": "stream",
     "text": [
      "\n"
     ]
    }
   ],
   "source": [
    "bp_to_dis_data = run_all_compaisons('bp', 'disease', 'gene', bp_to_gene, dis_to_gene, \n",
    "                                     dict(zip(nodes['id'], nodes['name'])), gene_to_dis)"
   ]
  },
  {
   "cell_type": "code",
   "execution_count": 33,
   "metadata": {},
   "outputs": [],
   "source": [
    "def add_disease_wise_bonferroni_pval_correction(data, ini_alpha):\n",
    "    \n",
    "    out = data.copy()\n",
    "    corr_factor = out['disease'].value_counts().to_dict()\n",
    "    corr_factor_s = out['disease'].map(corr_factor)\n",
    "    sig_thresh = ini_alpha / corr_factor_s\n",
    "    out['adj_p'] = out['p_val'] * (ini_alpha / sig_thresh)\n",
    "    out['is_sig'] = out['adj_p'] < ini_alpha\n",
    "    \n",
    "    return out"
   ]
  },
  {
   "cell_type": "code",
   "execution_count": 34,
   "metadata": {},
   "outputs": [],
   "source": [
    "def add_disease_wise_benjamini_hochberg_pval_correction(data, ini_alpha):\n",
    "    \n",
    "    out = data.copy()\n",
    "    \n",
    "    # defineid as i\n",
    "    rank = out.groupby('disease')['p_val'].rank().astype(int)\n",
    "\n",
    "    # defineid as m\n",
    "    total = out.groupby('disease').apply(len).to_dict()\n",
    "    total = out['disease'].map(total)\n",
    "\n",
    "    # The comparison value is (i/m)*Q where Q = desired FDR\n",
    "    out['bh_val'] = (rank / total) * ini_alpha\n",
    "    \n",
    "    # Now the threshold is the highest p-val where p-val < (i/m)*Q\n",
    "    is_less_than_iqm = out['p_val'] < out['bh_val']\n",
    "    # Find the Highest pval\n",
    "    thresh_map = out[is_less_than_iqm].groupby('disease')['p_val'].max().to_dict()\n",
    "    out['thresh'] = out['disease'].map(thresh_map)\n",
    "    \n",
    "    # Do the significance test\n",
    "    out['is_sig'] = out['p_val'] <= out['thresh'] \n",
    "\n",
    "    return out"
   ]
  },
  {
   "cell_type": "code",
   "execution_count": 35,
   "metadata": {},
   "outputs": [],
   "source": [
    "def add_benjamini_hochberg_pval_correction(data, ini_alpha):\n",
    "    \n",
    "    out = data.copy()\n",
    "\n",
    "    # defineid as i\n",
    "    rank = out['p_val'].rank(method='first').astype(int)\n",
    "    \n",
    "    # defineid as m\n",
    "    total = len(out)\n",
    "\n",
    "    # The comparison value is (i/m)*Q where Q = desired FDR\n",
    "    out['bh_val'] = (rank / total) * ini_alpha\n",
    "    \n",
    "    # Now the threshold is the highest p-val where p-val < (i/m)*Q\n",
    "    is_greater = out['bh_val'] > out['p_val']\n",
    "    # Find the Highest pval\n",
    "    out['thresh'] = out[is_greater]['p_val'].max()\n",
    "\n",
    "    # Do the significance test\n",
    "    out['is_sig'] = out['p_val'] <= out['thresh']\n",
    "\n",
    "    return out"
   ]
  },
  {
   "cell_type": "code",
   "execution_count": 36,
   "metadata": {},
   "outputs": [],
   "source": [
    "# Going with an alpha values of 0.25 because we'd like higher recall\n",
    "# for these associations\n",
    "bp_to_dis_data = add_disease_wise_bonferroni_pval_correction(bp_to_dis_data, 0.25)"
   ]
  },
  {
   "cell_type": "code",
   "execution_count": 37,
   "metadata": {},
   "outputs": [
    {
     "name": "stdout",
     "output_type": "stream",
     "text": [
      "484,126 Comparisons\n",
      "78,189 Number Significant\n",
      "0.162 Fraction Significant\n"
     ]
    }
   ],
   "source": [
    "print(\"{:,} Comparisons\".format(len(bp_to_dis_data)))\n",
    "print(\"{:,} Number Significant\".format(bp_to_dis_data['is_sig'].sum()))\n",
    "print(\"{:1.3} Fraction Significant\".format(bp_to_dis_data['is_sig'].sum() / len(bp_to_dis_data)))"
   ]
  },
  {
   "cell_type": "markdown",
   "metadata": {},
   "source": [
    "## Do some plotting "
   ]
  },
  {
   "cell_type": "code",
   "execution_count": 38,
   "metadata": {},
   "outputs": [],
   "source": [
    "def get_plot_data(result):\n",
    "    plot_data = pd.DataFrame()\n",
    "    plot_data['num_sig'] = result.groupby('disease')['is_sig'].sum()\n",
    "\n",
    "    plot_data['total_obs'] = result.groupby('disease').apply(len)\n",
    "    plot_data['frac_sig'] = plot_data['num_sig'] / plot_data['total_obs']\n",
    "    return plot_data"
   ]
  },
  {
   "cell_type": "code",
   "execution_count": 39,
   "metadata": {},
   "outputs": [],
   "source": [
    "def plot_results(plot_data):\n",
    "\n",
    "    fig, ax = plt.subplots(1, 3)\n",
    "    fig.set_figwidth(16)\n",
    "    fig.set_figheight(6)\n",
    "\n",
    "    sns.violinplot(y='total_obs', data=plot_data, cut=0, ax=ax[0])\n",
    "    ax[0].set_title('Number of Comparisons')\n",
    "    ax[0].set_ylabel('count')\n",
    "    sns.violinplot(y='num_sig', data=plot_data, cut=0, ax=ax[1])\n",
    "    ax[1].set_title('Number Significant')\n",
    "    ax[1].set_ylabel('count')\n",
    "    sns.violinplot(y='frac_sig', data=plot_data, cut=0, ax=ax[2])\n",
    "    ax[2].set_title('Fraction Significant')\n",
    "    ax[2].set_ylabel('fraction')\n",
    "\n",
    "    for a in ax:\n",
    "        a.tick_params(axis='x', which='both', bottom=False)\n",
    "\n",
    "    fig.suptitle('Values Per Disease', fontsize=16);"
   ]
  },
  {
   "cell_type": "code",
   "execution_count": 40,
   "metadata": {},
   "outputs": [
    {
     "data": {
      "image/png": "[encoded data removed]",
      "text/plain": [
       "<Figure size 1152x432 with 3 Axes>"
      ]
     },
     "metadata": {
      "needs_background": "light"
     },
     "output_type": "display_data"
    }
   ],
   "source": [
    "plot_results(get_plot_data(bp_to_dis_data))"
   ]
  },
  {
   "cell_type": "markdown",
   "metadata": {},
   "source": [
    "## Create Edges"
   ]
  },
  {
   "cell_type": "code",
   "execution_count": 41,
   "metadata": {},
   "outputs": [],
   "source": [
    "def comparisons_to_edges(comp_data, start_col, end_col):\n",
    "\n",
    "    # Only take the signficant results\n",
    "    out_data = comp_data.query('is_sig').copy()\n",
    "\n",
    "    # Rename the approprate identifier columns\n",
    "    out_data = out_data.rename(columns={start_col: 'start_id', end_col: 'end_id'})\n",
    "    \n",
    "    # give the correct types\n",
    "    out_data['type'] = 'associated_with'\n",
    "    out_data['dsrc_type'] = 'computed'\n",
    "    out_data['comp_type'] = 'fishers_exact'\n",
    "    \n",
    "    # Return the data\n",
    "    return out_data[['start_id', 'end_id', 'type', 'dsrc_type', 'comp_type', 'p_val', 'adj_p']]"
   ]
  },
  {
   "cell_type": "code",
   "execution_count": 42,
   "metadata": {},
   "outputs": [
    {
     "data": {
      "text/html": [
       "<div>\n",
       "<style scoped>\n",
       "    .dataframe tbody tr th:only-of-type {\n",
       "        vertical-align: middle;\n",
       "    }\n",
       "\n",
       "    .dataframe tbody tr th {\n",
       "        vertical-align: top;\n",
       "    }\n",
       "\n",
       "    .dataframe thead th {\n",
       "        text-align: right;\n",
       "    }\n",
       "</style>\n",
       "<table border=\"1\" class=\"dataframe\">\n",
       "  <thead>\n",
       "    <tr style=\"text-align: right;\">\n",
       "      <th></th>\n",
       "      <th>start_id</th>\n",
       "      <th>end_id</th>\n",
       "      <th>type</th>\n",
       "      <th>dsrc_type</th>\n",
       "      <th>comp_type</th>\n",
       "      <th>p_val</th>\n",
       "      <th>adj_p</th>\n",
       "    </tr>\n",
       "  </thead>\n",
       "  <tbody>\n",
       "    <tr>\n",
       "      <th>6</th>\n",
       "      <td>Q24491385</td>\n",
       "      <td>Q4352925</td>\n",
       "      <td>associated_with</td>\n",
       "      <td>computed</td>\n",
       "      <td>fishers_exact</td>\n",
       "      <td>0.000458</td>\n",
       "      <td>0.005037</td>\n",
       "    </tr>\n",
       "    <tr>\n",
       "      <th>7</th>\n",
       "      <td>Q24491385</td>\n",
       "      <td>Q355170</td>\n",
       "      <td>associated_with</td>\n",
       "      <td>computed</td>\n",
       "      <td>fishers_exact</td>\n",
       "      <td>0.000916</td>\n",
       "      <td>0.006410</td>\n",
       "    </tr>\n",
       "    <tr>\n",
       "      <th>19</th>\n",
       "      <td>Q14907899</td>\n",
       "      <td>Q18975975</td>\n",
       "      <td>associated_with</td>\n",
       "      <td>computed</td>\n",
       "      <td>fishers_exact</td>\n",
       "      <td>0.000916</td>\n",
       "      <td>0.058608</td>\n",
       "    </tr>\n",
       "    <tr>\n",
       "      <th>22</th>\n",
       "      <td>Q14907899</td>\n",
       "      <td>Q53160608</td>\n",
       "      <td>associated_with</td>\n",
       "      <td>computed</td>\n",
       "      <td>fishers_exact</td>\n",
       "      <td>0.000916</td>\n",
       "      <td>0.027473</td>\n",
       "    </tr>\n",
       "    <tr>\n",
       "      <th>23</th>\n",
       "      <td>Q14907899</td>\n",
       "      <td>Q18556416</td>\n",
       "      <td>associated_with</td>\n",
       "      <td>computed</td>\n",
       "      <td>fishers_exact</td>\n",
       "      <td>0.000916</td>\n",
       "      <td>0.058608</td>\n",
       "    </tr>\n",
       "  </tbody>\n",
       "</table>\n",
       "</div>"
      ],
      "text/plain": [
       "     start_id     end_id             type dsrc_type      comp_type     p_val  \\\n",
       "6   Q24491385   Q4352925  associated_with  computed  fishers_exact  0.000458   \n",
       "7   Q24491385    Q355170  associated_with  computed  fishers_exact  0.000916   \n",
       "19  Q14907899  Q18975975  associated_with  computed  fishers_exact  0.000916   \n",
       "22  Q14907899  Q53160608  associated_with  computed  fishers_exact  0.000916   \n",
       "23  Q14907899  Q18556416  associated_with  computed  fishers_exact  0.000916   \n",
       "\n",
       "       adj_p  \n",
       "6   0.005037  \n",
       "7   0.006410  \n",
       "19  0.058608  \n",
       "22  0.027473  \n",
       "23  0.058608  "
      ]
     },
     "execution_count": 42,
     "metadata": {},
     "output_type": "execute_result"
    }
   ],
   "source": [
    "this_edge = comparisons_to_edges(bp_to_dis_data, 'bp', 'disease')\n",
    "this_edge.head()"
   ]
  },
  {
   "cell_type": "code",
   "execution_count": 43,
   "metadata": {},
   "outputs": [],
   "source": [
    "new_edges.append(this_edge)"
   ]
  },
  {
   "cell_type": "markdown",
   "metadata": {},
   "source": [
    "## MF associated_with Disease"
   ]
  },
  {
   "cell_type": "code",
   "execution_count": 44,
   "metadata": {},
   "outputs": [
    {
     "data": {
      "application/vnd.jupyter.widget-view+json": {
       "model_id": "01a479db07ff4da4aa77b2a9b207514d",
       "version_major": 2,
       "version_minor": 0
      },
      "text/plain": [
       "HBox(children=(FloatProgress(value=0.0, max=2862.0), HTML(value='')))"
      ]
     },
     "metadata": {},
     "output_type": "display_data"
    },
    {
     "name": "stdout",
     "output_type": "stream",
     "text": [
      "\n"
     ]
    }
   ],
   "source": [
    "mf_to_gene = get_item_to_gene_through_protein('Molecular Function')\n",
    "mf_to_gene = filter_tax(mf_to_gene)\n",
    "mf_to_gene = filter_to_disese_genes(mf_to_gene)\n",
    "\n",
    "mf_to_dis_data = run_all_compaisons('mf', 'disease', 'gene', mf_to_gene, dis_to_gene, \n",
    "                                     dict(zip(nodes['id'], nodes['name'])), gene_to_dis)"
   ]
  },
  {
   "cell_type": "code",
   "execution_count": 45,
   "metadata": {},
   "outputs": [
    {
     "name": "stdout",
     "output_type": "stream",
     "text": [
      "156,109 Comparisons\n",
      "30,585 Number Significant\n",
      "0.196 Fraction Significant\n"
     ]
    },
    {
     "data": {
      "image/png": "[encoded data removed]",
      "text/plain": [
       "<Figure size 1152x432 with 3 Axes>"
      ]
     },
     "metadata": {
      "needs_background": "light"
     },
     "output_type": "display_data"
    }
   ],
   "source": [
    "mf_to_dis_data = add_disease_wise_bonferroni_pval_correction(mf_to_dis_data, 0.25)\n",
    "\n",
    "print(\"{:,} Comparisons\".format(len(mf_to_dis_data)))\n",
    "print(\"{:,} Number Significant\".format(mf_to_dis_data['is_sig'].sum()))\n",
    "print(\"{:1.3} Fraction Significant\".format(mf_to_dis_data['is_sig'].sum() / len(mf_to_dis_data)))\n",
    "\n",
    "plot_results(get_plot_data(mf_to_dis_data))"
   ]
  },
  {
   "cell_type": "code",
   "execution_count": 46,
   "metadata": {},
   "outputs": [
    {
     "data": {
      "text/html": [
       "<div>\n",
       "<style scoped>\n",
       "    .dataframe tbody tr th:only-of-type {\n",
       "        vertical-align: middle;\n",
       "    }\n",
       "\n",
       "    .dataframe tbody tr th {\n",
       "        vertical-align: top;\n",
       "    }\n",
       "\n",
       "    .dataframe thead th {\n",
       "        text-align: right;\n",
       "    }\n",
       "</style>\n",
       "<table border=\"1\" class=\"dataframe\">\n",
       "  <thead>\n",
       "    <tr style=\"text-align: right;\">\n",
       "      <th></th>\n",
       "      <th>start_id</th>\n",
       "      <th>end_id</th>\n",
       "      <th>type</th>\n",
       "      <th>dsrc_type</th>\n",
       "      <th>comp_type</th>\n",
       "      <th>p_val</th>\n",
       "      <th>adj_p</th>\n",
       "    </tr>\n",
       "  </thead>\n",
       "  <tbody>\n",
       "    <tr>\n",
       "      <th>0</th>\n",
       "      <td>Q14863980</td>\n",
       "      <td>Q55782264</td>\n",
       "      <td>associated_with</td>\n",
       "      <td>computed</td>\n",
       "      <td>fishers_exact</td>\n",
       "      <td>6.573809e-07</td>\n",
       "      <td>0.000023</td>\n",
       "    </tr>\n",
       "    <tr>\n",
       "      <th>1</th>\n",
       "      <td>Q22314964</td>\n",
       "      <td>Q54319441</td>\n",
       "      <td>associated_with</td>\n",
       "      <td>computed</td>\n",
       "      <td>fishers_exact</td>\n",
       "      <td>4.680552e-04</td>\n",
       "      <td>0.007957</td>\n",
       "    </tr>\n",
       "    <tr>\n",
       "      <th>2</th>\n",
       "      <td>Q22314964</td>\n",
       "      <td>Q55785132</td>\n",
       "      <td>associated_with</td>\n",
       "      <td>computed</td>\n",
       "      <td>fishers_exact</td>\n",
       "      <td>4.680552e-04</td>\n",
       "      <td>0.005617</td>\n",
       "    </tr>\n",
       "    <tr>\n",
       "      <th>3</th>\n",
       "      <td>Q14878802</td>\n",
       "      <td>Q28448698</td>\n",
       "      <td>associated_with</td>\n",
       "      <td>computed</td>\n",
       "      <td>fishers_exact</td>\n",
       "      <td>1.403837e-03</td>\n",
       "      <td>0.015442</td>\n",
       "    </tr>\n",
       "    <tr>\n",
       "      <th>4</th>\n",
       "      <td>Q14878802</td>\n",
       "      <td>Q931538</td>\n",
       "      <td>associated_with</td>\n",
       "      <td>computed</td>\n",
       "      <td>fishers_exact</td>\n",
       "      <td>7.020828e-04</td>\n",
       "      <td>0.005617</td>\n",
       "    </tr>\n",
       "  </tbody>\n",
       "</table>\n",
       "</div>"
      ],
      "text/plain": [
       "    start_id     end_id             type dsrc_type      comp_type  \\\n",
       "0  Q14863980  Q55782264  associated_with  computed  fishers_exact   \n",
       "1  Q22314964  Q54319441  associated_with  computed  fishers_exact   \n",
       "2  Q22314964  Q55785132  associated_with  computed  fishers_exact   \n",
       "3  Q14878802  Q28448698  associated_with  computed  fishers_exact   \n",
       "4  Q14878802    Q931538  associated_with  computed  fishers_exact   \n",
       "\n",
       "          p_val     adj_p  \n",
       "0  6.573809e-07  0.000023  \n",
       "1  4.680552e-04  0.007957  \n",
       "2  4.680552e-04  0.005617  \n",
       "3  1.403837e-03  0.015442  \n",
       "4  7.020828e-04  0.005617  "
      ]
     },
     "execution_count": 46,
     "metadata": {},
     "output_type": "execute_result"
    }
   ],
   "source": [
    "this_edge = comparisons_to_edges(mf_to_dis_data, 'mf', 'disease')\n",
    "this_edge.head()"
   ]
  },
  {
   "cell_type": "code",
   "execution_count": 47,
   "metadata": {},
   "outputs": [],
   "source": [
    "new_edges.append(this_edge)"
   ]
  },
  {
   "cell_type": "markdown",
   "metadata": {},
   "source": [
    "## CC associated_with Disease"
   ]
  },
  {
   "cell_type": "code",
   "execution_count": 48,
   "metadata": {},
   "outputs": [
    {
     "data": {
      "application/vnd.jupyter.widget-view+json": {
       "model_id": "cc31625a9fed4604ba1bc6a57b8c87a6",
       "version_major": 2,
       "version_minor": 0
      },
      "text/plain": [
       "HBox(children=(FloatProgress(value=0.0, max=1322.0), HTML(value='')))"
      ]
     },
     "metadata": {},
     "output_type": "display_data"
    },
    {
     "name": "stdout",
     "output_type": "stream",
     "text": [
      "\n"
     ]
    }
   ],
   "source": [
    "cc_to_gene = get_item_to_gene_through_protein('Cellular Component')\n",
    "cc_to_gene = filter_tax(cc_to_gene)\n",
    "cc_to_gene = filter_to_disese_genes(cc_to_gene)\n",
    "\n",
    "cc_to_dis_data = run_all_compaisons('cc', 'disease', 'gene', cc_to_gene, dis_to_gene, \n",
    "                                     dict(zip(nodes['id'], nodes['name'])), gene_to_dis)"
   ]
  },
  {
   "cell_type": "code",
   "execution_count": 49,
   "metadata": {},
   "outputs": [
    {
     "name": "stdout",
     "output_type": "stream",
     "text": [
      "145,831 Comparisons\n",
      "21,457 Number Significant\n",
      "0.147 Fraction Significant\n"
     ]
    },
    {
     "data": {
      "image/png": "[encoded data removed]",
      "text/plain": [
       "<Figure size 1152x432 with 3 Axes>"
      ]
     },
     "metadata": {
      "needs_background": "light"
     },
     "output_type": "display_data"
    }
   ],
   "source": [
    "cc_to_dis_data = add_disease_wise_bonferroni_pval_correction(cc_to_dis_data, 0.25)\n",
    "\n",
    "print(\"{:,} Comparisons\".format(len(cc_to_dis_data)))\n",
    "print(\"{:,} Number Significant\".format(cc_to_dis_data['is_sig'].sum()))\n",
    "print(\"{:1.3} Fraction Significant\".format(cc_to_dis_data['is_sig'].sum() / len(cc_to_dis_data)))\n",
    "\n",
    "plot_results(get_plot_data(cc_to_dis_data))"
   ]
  },
  {
   "cell_type": "code",
   "execution_count": 50,
   "metadata": {},
   "outputs": [
    {
     "data": {
      "text/html": [
       "<div>\n",
       "<style scoped>\n",
       "    .dataframe tbody tr th:only-of-type {\n",
       "        vertical-align: middle;\n",
       "    }\n",
       "\n",
       "    .dataframe tbody tr th {\n",
       "        vertical-align: top;\n",
       "    }\n",
       "\n",
       "    .dataframe thead th {\n",
       "        text-align: right;\n",
       "    }\n",
       "</style>\n",
       "<table border=\"1\" class=\"dataframe\">\n",
       "  <thead>\n",
       "    <tr style=\"text-align: right;\">\n",
       "      <th></th>\n",
       "      <th>start_id</th>\n",
       "      <th>end_id</th>\n",
       "      <th>type</th>\n",
       "      <th>dsrc_type</th>\n",
       "      <th>comp_type</th>\n",
       "      <th>p_val</th>\n",
       "      <th>adj_p</th>\n",
       "    </tr>\n",
       "  </thead>\n",
       "  <tbody>\n",
       "    <tr>\n",
       "      <th>8</th>\n",
       "      <td>Q14762598</td>\n",
       "      <td>Q55790902</td>\n",
       "      <td>associated_with</td>\n",
       "      <td>computed</td>\n",
       "      <td>fishers_exact</td>\n",
       "      <td>0.004084</td>\n",
       "      <td>0.126617</td>\n",
       "    </tr>\n",
       "    <tr>\n",
       "      <th>9</th>\n",
       "      <td>Q14762598</td>\n",
       "      <td>Q56013512</td>\n",
       "      <td>associated_with</td>\n",
       "      <td>computed</td>\n",
       "      <td>fishers_exact</td>\n",
       "      <td>0.004084</td>\n",
       "      <td>0.077604</td>\n",
       "    </tr>\n",
       "    <tr>\n",
       "      <th>11</th>\n",
       "      <td>Q14762598</td>\n",
       "      <td>Q21014372</td>\n",
       "      <td>associated_with</td>\n",
       "      <td>computed</td>\n",
       "      <td>fishers_exact</td>\n",
       "      <td>0.000435</td>\n",
       "      <td>0.023919</td>\n",
       "    </tr>\n",
       "    <tr>\n",
       "      <th>15</th>\n",
       "      <td>Q14762598</td>\n",
       "      <td>Q4553565</td>\n",
       "      <td>associated_with</td>\n",
       "      <td>computed</td>\n",
       "      <td>fishers_exact</td>\n",
       "      <td>0.004084</td>\n",
       "      <td>0.032675</td>\n",
       "    </tr>\n",
       "    <tr>\n",
       "      <th>16</th>\n",
       "      <td>Q14762598</td>\n",
       "      <td>Q21124507</td>\n",
       "      <td>associated_with</td>\n",
       "      <td>computed</td>\n",
       "      <td>fishers_exact</td>\n",
       "      <td>0.004084</td>\n",
       "      <td>0.053097</td>\n",
       "    </tr>\n",
       "  </tbody>\n",
       "</table>\n",
       "</div>"
      ],
      "text/plain": [
       "     start_id     end_id             type dsrc_type      comp_type     p_val  \\\n",
       "8   Q14762598  Q55790902  associated_with  computed  fishers_exact  0.004084   \n",
       "9   Q14762598  Q56013512  associated_with  computed  fishers_exact  0.004084   \n",
       "11  Q14762598  Q21014372  associated_with  computed  fishers_exact  0.000435   \n",
       "15  Q14762598   Q4553565  associated_with  computed  fishers_exact  0.004084   \n",
       "16  Q14762598  Q21124507  associated_with  computed  fishers_exact  0.004084   \n",
       "\n",
       "       adj_p  \n",
       "8   0.126617  \n",
       "9   0.077604  \n",
       "11  0.023919  \n",
       "15  0.032675  \n",
       "16  0.053097  "
      ]
     },
     "execution_count": 50,
     "metadata": {},
     "output_type": "execute_result"
    }
   ],
   "source": [
    "this_edge = comparisons_to_edges(cc_to_dis_data, 'cc', 'disease')\n",
    "this_edge.head()"
   ]
  },
  {
   "cell_type": "code",
   "execution_count": 51,
   "metadata": {},
   "outputs": [],
   "source": [
    "new_edges.append(this_edge)"
   ]
  },
  {
   "cell_type": "markdown",
   "metadata": {},
   "source": [
    "## Pathway associated_with Disease"
   ]
  },
  {
   "cell_type": "code",
   "execution_count": 52,
   "metadata": {
    "scrolled": true
   },
   "outputs": [
    {
     "data": {
      "application/vnd.jupyter.widget-view+json": {
       "model_id": "fa77a114328b49f6a59264347a971437",
       "version_major": 2,
       "version_minor": 0
      },
      "text/plain": [
       "HBox(children=(FloatProgress(value=0.0, max=613.0), HTML(value='')))"
      ]
     },
     "metadata": {},
     "output_type": "display_data"
    },
    {
     "name": "stdout",
     "output_type": "stream",
     "text": [
      "\n"
     ]
    }
   ],
   "source": [
    "pw_to_gene = (combo.query('start_label == \"Pathway\" and end_label == \"Gene\"')\n",
    "                   .groupby('start_id')['end_id']\n",
    "                   .apply(set)\n",
    "                   .to_dict())\n",
    "pw_to_gene = filter_tax(pw_to_gene)\n",
    "pw_to_gene = filter_to_disese_genes(pw_to_gene)\n",
    "\n",
    "pw_to_dis_data = run_all_compaisons('pw', 'disease', 'gene', pw_to_gene, dis_to_gene, \n",
    "                                     dict(zip(nodes['id'], nodes['name'])), gene_to_dis)"
   ]
  },
  {
   "cell_type": "code",
   "execution_count": 53,
   "metadata": {},
   "outputs": [
    {
     "name": "stdout",
     "output_type": "stream",
     "text": [
      "95,279 Comparisons\n",
      "15,676 Number Significant\n",
      "0.165 Fraction Significant\n"
     ]
    },
    {
     "data": {
      "image/png": "[encoded data removed]",
      "text/plain": [
       "<Figure size 1152x432 with 3 Axes>"
      ]
     },
     "metadata": {
      "needs_background": "light"
     },
     "output_type": "display_data"
    }
   ],
   "source": [
    "pw_to_dis_data = add_disease_wise_bonferroni_pval_correction(pw_to_dis_data, 0.25)\n",
    "\n",
    "print(\"{:,} Comparisons\".format(len(pw_to_dis_data)))\n",
    "print(\"{:,} Number Significant\".format(pw_to_dis_data['is_sig'].sum()))\n",
    "print(\"{:1.3} Fraction Significant\".format(pw_to_dis_data['is_sig'].sum() / len(pw_to_dis_data)))\n",
    "\n",
    "plot_results(get_plot_data(pw_to_dis_data))"
   ]
  },
  {
   "cell_type": "code",
   "execution_count": 51,
   "metadata": {},
   "outputs": [
    {
     "data": {
      "text/html": [
       "<div>\n",
       "<style scoped>\n",
       "    .dataframe tbody tr th:only-of-type {\n",
       "        vertical-align: middle;\n",
       "    }\n",
       "\n",
       "    .dataframe tbody tr th {\n",
       "        vertical-align: top;\n",
       "    }\n",
       "\n",
       "    .dataframe thead th {\n",
       "        text-align: right;\n",
       "    }\n",
       "</style>\n",
       "<table border=\"1\" class=\"dataframe\">\n",
       "  <thead>\n",
       "    <tr style=\"text-align: right;\">\n",
       "      <th></th>\n",
       "      <th>start_id</th>\n",
       "      <th>end_id</th>\n",
       "      <th>type</th>\n",
       "      <th>dsrc_type</th>\n",
       "      <th>comp_type</th>\n",
       "      <th>p_val</th>\n",
       "      <th>adj_p</th>\n",
       "    </tr>\n",
       "  </thead>\n",
       "  <tbody>\n",
       "    <tr>\n",
       "      <th>1</th>\n",
       "      <td>Q55446273</td>\n",
       "      <td>Q55782463</td>\n",
       "      <td>associated_with</td>\n",
       "      <td>computed</td>\n",
       "      <td>fishers_exact</td>\n",
       "      <td>0.008360</td>\n",
       "      <td>0.033442</td>\n",
       "    </tr>\n",
       "    <tr>\n",
       "      <th>10</th>\n",
       "      <td>Q55446273</td>\n",
       "      <td>Q383228</td>\n",
       "      <td>associated_with</td>\n",
       "      <td>computed</td>\n",
       "      <td>fishers_exact</td>\n",
       "      <td>0.016655</td>\n",
       "      <td>0.066619</td>\n",
       "    </tr>\n",
       "    <tr>\n",
       "      <th>12</th>\n",
       "      <td>Q55446273</td>\n",
       "      <td>Q3338664</td>\n",
       "      <td>associated_with</td>\n",
       "      <td>computed</td>\n",
       "      <td>fishers_exact</td>\n",
       "      <td>0.008360</td>\n",
       "      <td>0.033442</td>\n",
       "    </tr>\n",
       "    <tr>\n",
       "      <th>14</th>\n",
       "      <td>Q55446273</td>\n",
       "      <td>Q53661592</td>\n",
       "      <td>associated_with</td>\n",
       "      <td>computed</td>\n",
       "      <td>fishers_exact</td>\n",
       "      <td>0.008360</td>\n",
       "      <td>0.050163</td>\n",
       "    </tr>\n",
       "    <tr>\n",
       "      <th>16</th>\n",
       "      <td>Q55446273</td>\n",
       "      <td>Q55782081</td>\n",
       "      <td>associated_with</td>\n",
       "      <td>computed</td>\n",
       "      <td>fishers_exact</td>\n",
       "      <td>0.008360</td>\n",
       "      <td>0.058523</td>\n",
       "    </tr>\n",
       "  </tbody>\n",
       "</table>\n",
       "</div>"
      ],
      "text/plain": [
       "     start_id     end_id             type dsrc_type      comp_type     p_val  \\\n",
       "1   Q55446273  Q55782463  associated_with  computed  fishers_exact  0.008360   \n",
       "10  Q55446273    Q383228  associated_with  computed  fishers_exact  0.016655   \n",
       "12  Q55446273   Q3338664  associated_with  computed  fishers_exact  0.008360   \n",
       "14  Q55446273  Q53661592  associated_with  computed  fishers_exact  0.008360   \n",
       "16  Q55446273  Q55782081  associated_with  computed  fishers_exact  0.008360   \n",
       "\n",
       "       adj_p  \n",
       "1   0.033442  \n",
       "10  0.066619  \n",
       "12  0.033442  \n",
       "14  0.050163  \n",
       "16  0.058523  "
      ]
     },
     "execution_count": 51,
     "metadata": {},
     "output_type": "execute_result"
    }
   ],
   "source": [
    "this_edge = comparisons_to_edges(pw_to_dis_data, 'pw', 'disease')\n",
    "this_edge.head()"
   ]
  },
  {
   "cell_type": "code",
   "execution_count": 52,
   "metadata": {},
   "outputs": [],
   "source": [
    "new_edges.append(this_edge)"
   ]
  },
  {
   "cell_type": "markdown",
   "metadata": {},
   "source": [
    "## Add in the new edges"
   ]
  },
  {
   "cell_type": "code",
   "execution_count": 53,
   "metadata": {},
   "outputs": [],
   "source": [
    "edges = pd.concat([edges]+new_edges, sort=False, ignore_index=True)\n",
    "combo = combine_nodes_and_edges(nodes, edges)\n",
    "\n",
    "new_edges = []"
   ]
  },
  {
   "cell_type": "markdown",
   "metadata": {},
   "source": [
    "# Final Computation: Merge Gene/Protein\n",
    "\n",
    "We will do the following:\n",
    "\n",
    "1. Map all Proteins in edges to Genes\n",
    "2. Drop edges with Mapped Proteins\n",
    "3. Merge Xrefs on Merged Gene/Proteins"
   ]
  },
  {
   "cell_type": "markdown",
   "metadata": {},
   "source": [
    "## 1. Mapping Proteins to Genes"
   ]
  },
  {
   "cell_type": "code",
   "execution_count": 54,
   "metadata": {
    "scrolled": true
   },
   "outputs": [
    {
     "data": {
      "text/html": [
       "<div>\n",
       "<style scoped>\n",
       "    .dataframe tbody tr th:only-of-type {\n",
       "        vertical-align: middle;\n",
       "    }\n",
       "\n",
       "    .dataframe tbody tr th {\n",
       "        vertical-align: top;\n",
       "    }\n",
       "\n",
       "    .dataframe thead th {\n",
       "        text-align: right;\n",
       "    }\n",
       "</style>\n",
       "<table border=\"1\" class=\"dataframe\">\n",
       "  <thead>\n",
       "    <tr style=\"text-align: right;\">\n",
       "      <th></th>\n",
       "      <th>start_id</th>\n",
       "      <th>end_id</th>\n",
       "    </tr>\n",
       "  </thead>\n",
       "  <tbody>\n",
       "    <tr>\n",
       "      <th>351758</th>\n",
       "      <td>Q62183590</td>\n",
       "      <td>Q62183588</td>\n",
       "    </tr>\n",
       "    <tr>\n",
       "      <th>351759</th>\n",
       "      <td>Q62183598</td>\n",
       "      <td>Q62183595</td>\n",
       "    </tr>\n",
       "    <tr>\n",
       "      <th>351760</th>\n",
       "      <td>Q62183604</td>\n",
       "      <td>Q62183602</td>\n",
       "    </tr>\n",
       "    <tr>\n",
       "      <th>351761</th>\n",
       "      <td>Q62183608</td>\n",
       "      <td>Q62183606</td>\n",
       "    </tr>\n",
       "    <tr>\n",
       "      <th>351762</th>\n",
       "      <td>Q62183613</td>\n",
       "      <td>Q62183610</td>\n",
       "    </tr>\n",
       "  </tbody>\n",
       "</table>\n",
       "</div>"
      ],
      "text/plain": [
       "         start_id     end_id\n",
       "351758  Q62183590  Q62183588\n",
       "351759  Q62183598  Q62183595\n",
       "351760  Q62183604  Q62183602\n",
       "351761  Q62183608  Q62183606\n",
       "351762  Q62183613  Q62183610"
      ]
     },
     "execution_count": 54,
     "metadata": {},
     "output_type": "execute_result"
    }
   ],
   "source": [
    "# pun map cols are ['start_id': result_col, 'end_id': merge_map_col]\n",
    "gene_to_prot = edges.query('type == \"encodes\"')[['start_id', 'end_id']]\n",
    "gene_to_prot.head()"
   ]
  },
  {
   "cell_type": "code",
   "execution_count": 55,
   "metadata": {},
   "outputs": [],
   "source": [
    "start_prot = combo.query('start_label == \"Protein\" and type != \"encodes\"')\n",
    "end_prot = combo.query('end_label == \"Protein\" and type != \"encodes\"')"
   ]
  },
  {
   "cell_type": "code",
   "execution_count": 56,
   "metadata": {},
   "outputs": [],
   "source": [
    "start_merge = pun_col(start_prot, gene_to_prot)\n",
    "end_merge = pun_col(end_prot, gene_to_prot, False)\n",
    "\n",
    "start_merge['comp_type'] = 'merge'\n",
    "end_merge['comp_type'] = 'merge'\n",
    "\n",
    "new_edges.append(start_merge)\n",
    "new_edges.append(end_merge)"
   ]
  },
  {
   "cell_type": "markdown",
   "metadata": {},
   "source": [
    "## 2. Removing edges with successful mappings"
   ]
  },
  {
   "cell_type": "markdown",
   "metadata": {},
   "source": [
    "We're merging Proteins and Genes... Therefore we want to remove edges of Protein -> X or Y -> Protein.\n",
    "\n",
    "However, some (primarly non-human) proteins may not be mappable via a protein to gene edge, so we\n",
    "will keep those for now"
   ]
  },
  {
   "cell_type": "code",
   "execution_count": 57,
   "metadata": {},
   "outputs": [
    {
     "name": "stdout",
     "output_type": "stream",
     "text": [
      "1,576,223\n",
      "604,418\n"
     ]
    }
   ],
   "source": [
    "found_prots = gene_to_prot['end_id'].tolist()\n",
    "drop_idx = edges.query('start_id in @found_prots or end_id in @found_prots').index\n",
    "\n",
    "print('{:,}'.format(len(edges)))\n",
    "edges = edges.drop(drop_idx)\n",
    "print('{:,}'.format(len(edges)))"
   ]
  },
  {
   "cell_type": "code",
   "execution_count": 58,
   "metadata": {},
   "outputs": [
    {
     "data": {
      "text/plain": [
       "1293272"
      ]
     },
     "execution_count": 58,
     "metadata": {},
     "output_type": "execute_result"
    }
   ],
   "source": [
    "len(pd.concat(new_edges)) + 476963"
   ]
  },
  {
   "cell_type": "markdown",
   "metadata": {},
   "source": [
    "## 3. Merging the Xrefs in the nodes."
   ]
  },
  {
   "cell_type": "code",
   "execution_count": 59,
   "metadata": {},
   "outputs": [],
   "source": [
    "def combine_xrefs_and_set_label(combined_nodes, label):\n",
    "    add_nodes = combine_group_cols_on_char(combined_nodes, ['id'], ['xrefs'], prog=False)\n",
    "    add_nodes['label'] = label\n",
    "    \n",
    "    return add_nodes[['id', 'name', 'label', 'xrefs']]"
   ]
  },
  {
   "cell_type": "code",
   "execution_count": 60,
   "metadata": {},
   "outputs": [],
   "source": [
    "mapped_prot_genes = gene_to_prot.stack().values"
   ]
  },
  {
   "cell_type": "code",
   "execution_count": 61,
   "metadata": {},
   "outputs": [
    {
     "data": {
      "text/html": [
       "<div>\n",
       "<style scoped>\n",
       "    .dataframe tbody tr th:only-of-type {\n",
       "        vertical-align: middle;\n",
       "    }\n",
       "\n",
       "    .dataframe tbody tr th {\n",
       "        vertical-align: top;\n",
       "    }\n",
       "\n",
       "    .dataframe thead th {\n",
       "        text-align: right;\n",
       "    }\n",
       "</style>\n",
       "<table border=\"1\" class=\"dataframe\">\n",
       "  <thead>\n",
       "    <tr style=\"text-align: right;\">\n",
       "      <th></th>\n",
       "      <th>old_id</th>\n",
       "      <th>name</th>\n",
       "      <th>label</th>\n",
       "      <th>xrefs</th>\n",
       "      <th>id</th>\n",
       "      <th>end_id</th>\n",
       "    </tr>\n",
       "  </thead>\n",
       "  <tbody>\n",
       "    <tr>\n",
       "      <th>0</th>\n",
       "      <td>Q62183588</td>\n",
       "      <td>TcCLB.509395.10:mRNA</td>\n",
       "      <td>Protein</td>\n",
       "      <td>UniProt:Q4DJR6</td>\n",
       "      <td>Q62183590</td>\n",
       "      <td>Q62183588</td>\n",
       "    </tr>\n",
       "    <tr>\n",
       "      <th>1</th>\n",
       "      <td>Q62183595</td>\n",
       "      <td>TcCLB.509395.20:mRNA</td>\n",
       "      <td>Protein</td>\n",
       "      <td>UniProt:Q4DJR5</td>\n",
       "      <td>Q62183598</td>\n",
       "      <td>Q62183595</td>\n",
       "    </tr>\n",
       "    <tr>\n",
       "      <th>2</th>\n",
       "      <td>Q62183602</td>\n",
       "      <td>TcCLB.509395.30:mRNA</td>\n",
       "      <td>Protein</td>\n",
       "      <td>UniProt:Q4DJR4</td>\n",
       "      <td>Q62183604</td>\n",
       "      <td>Q62183602</td>\n",
       "    </tr>\n",
       "    <tr>\n",
       "      <th>3</th>\n",
       "      <td>Q62183606</td>\n",
       "      <td>TcCLB.509395.40:mRNA</td>\n",
       "      <td>Protein</td>\n",
       "      <td>UniProt:Q4DJR3</td>\n",
       "      <td>Q62183608</td>\n",
       "      <td>Q62183606</td>\n",
       "    </tr>\n",
       "    <tr>\n",
       "      <th>4</th>\n",
       "      <td>Q62183610</td>\n",
       "      <td>TcCLB.509395.50:mRNA</td>\n",
       "      <td>Protein</td>\n",
       "      <td>UniProt:Q4DJR2</td>\n",
       "      <td>Q62183613</td>\n",
       "      <td>Q62183610</td>\n",
       "    </tr>\n",
       "    <tr>\n",
       "      <th>...</th>\n",
       "      <td>...</td>\n",
       "      <td>...</td>\n",
       "      <td>...</td>\n",
       "      <td>...</td>\n",
       "      <td>...</td>\n",
       "      <td>...</td>\n",
       "    </tr>\n",
       "    <tr>\n",
       "      <th>317235</th>\n",
       "      <td>Q170617</td>\n",
       "      <td>glucagon</td>\n",
       "      <td>Protein</td>\n",
       "      <td>CHEBI:5391|UniProt:P01275|PCID:16186314|DB:000...</td>\n",
       "      <td>Q14821391</td>\n",
       "      <td>Q170617</td>\n",
       "    </tr>\n",
       "    <tr>\n",
       "      <th>317236</th>\n",
       "      <td>Q2993328</td>\n",
       "      <td>beta-endorphin</td>\n",
       "      <td>Protein</td>\n",
       "      <td>UniProt:P01189|PCID:16132316|UNII:3S51P4W3XQ|C...</td>\n",
       "      <td>Q14819793</td>\n",
       "      <td>Q2993328</td>\n",
       "    </tr>\n",
       "    <tr>\n",
       "      <th>317237</th>\n",
       "      <td>Q4063639</td>\n",
       "      <td>alpha-melanocyte-stimulating hormone</td>\n",
       "      <td>Protein</td>\n",
       "      <td>CHEMBL:CHEMBL214332|UniProt:P01189|UNII:OVF025...</td>\n",
       "      <td>Q14819793</td>\n",
       "      <td>Q4063639</td>\n",
       "    </tr>\n",
       "    <tr>\n",
       "      <th>317238</th>\n",
       "      <td>Q412999</td>\n",
       "      <td>angiotensin II</td>\n",
       "      <td>Protein</td>\n",
       "      <td>KEGG:C02135|UniProt:P01019|PCID:172198|MESH:D0...</td>\n",
       "      <td>Q14859647</td>\n",
       "      <td>Q412999</td>\n",
       "    </tr>\n",
       "    <tr>\n",
       "      <th>317239</th>\n",
       "      <td>Q539799</td>\n",
       "      <td>angiotensin I</td>\n",
       "      <td>Protein</td>\n",
       "      <td>CHEBI:2718|PCID:3081372|CHEMBL:CHEMBL409184|Un...</td>\n",
       "      <td>Q14859647</td>\n",
       "      <td>Q539799</td>\n",
       "    </tr>\n",
       "  </tbody>\n",
       "</table>\n",
       "<p>317240 rows × 6 columns</p>\n",
       "</div>"
      ],
      "text/plain": [
       "           old_id                                  name    label  \\\n",
       "0       Q62183588                  TcCLB.509395.10:mRNA  Protein   \n",
       "1       Q62183595                  TcCLB.509395.20:mRNA  Protein   \n",
       "2       Q62183602                  TcCLB.509395.30:mRNA  Protein   \n",
       "3       Q62183606                  TcCLB.509395.40:mRNA  Protein   \n",
       "4       Q62183610                  TcCLB.509395.50:mRNA  Protein   \n",
       "...           ...                                   ...      ...   \n",
       "317235    Q170617                              glucagon  Protein   \n",
       "317236   Q2993328                        beta-endorphin  Protein   \n",
       "317237   Q4063639  alpha-melanocyte-stimulating hormone  Protein   \n",
       "317238    Q412999                        angiotensin II  Protein   \n",
       "317239    Q539799                         angiotensin I  Protein   \n",
       "\n",
       "                                                    xrefs         id  \\\n",
       "0                                          UniProt:Q4DJR6  Q62183590   \n",
       "1                                          UniProt:Q4DJR5  Q62183598   \n",
       "2                                          UniProt:Q4DJR4  Q62183604   \n",
       "3                                          UniProt:Q4DJR3  Q62183608   \n",
       "4                                          UniProt:Q4DJR2  Q62183613   \n",
       "...                                                   ...        ...   \n",
       "317235  CHEBI:5391|UniProt:P01275|PCID:16186314|DB:000...  Q14821391   \n",
       "317236  UniProt:P01189|PCID:16132316|UNII:3S51P4W3XQ|C...  Q14819793   \n",
       "317237  CHEMBL:CHEMBL214332|UniProt:P01189|UNII:OVF025...  Q14819793   \n",
       "317238  KEGG:C02135|UniProt:P01019|PCID:172198|MESH:D0...  Q14859647   \n",
       "317239  CHEBI:2718|PCID:3081372|CHEMBL:CHEMBL409184|Un...  Q14859647   \n",
       "\n",
       "           end_id  \n",
       "0       Q62183588  \n",
       "1       Q62183595  \n",
       "2       Q62183602  \n",
       "3       Q62183606  \n",
       "4       Q62183610  \n",
       "...           ...  \n",
       "317235    Q170617  \n",
       "317236   Q2993328  \n",
       "317237   Q4063639  \n",
       "317238    Q412999  \n",
       "317239    Q539799  \n",
       "\n",
       "[317240 rows x 6 columns]"
      ]
     },
     "execution_count": 61,
     "metadata": {},
     "output_type": "execute_result"
    }
   ],
   "source": [
    "mrg = nodes.query('id in @mapped_prot_genes').merge(gene_to_prot, how='left', left_on ='id', right_on='end_id' )\n",
    "mrg = mrg.rename(columns={'id':'old_id'})\n",
    "mrg['start_id'] = mrg['start_id'].fillna(mrg['old_id'])\n",
    "mrg = mrg.rename(columns={'start_id': 'id'})\n",
    "mrg"
   ]
  },
  {
   "cell_type": "code",
   "execution_count": 62,
   "metadata": {},
   "outputs": [],
   "source": [
    "gene_id_to_xref = combine_xrefs_and_set_label(mrg, 'Gene').set_index('id')['xrefs'].to_dict()\n",
    "\n",
    "nodes['xrefs'] = nodes['id'].map(gene_id_to_xref).fillna(nodes['xrefs'])"
   ]
  },
  {
   "cell_type": "markdown",
   "metadata": {},
   "source": [
    "Some edges may have gone to both gene and protein. Since we have now mapped proteins to genes, they will be duplicated.\n",
    "\n",
    "We will now drop any potential duplicates"
   ]
  },
  {
   "cell_type": "code",
   "execution_count": 63,
   "metadata": {},
   "outputs": [
    {
     "name": "stdout",
     "output_type": "stream",
     "text": [
      "1,420,727\n",
      "1,261,125\n"
     ]
    }
   ],
   "source": [
    "edges = pd.concat([edges]+new_edges, sort=False, ignore_index=True)\n",
    "\n",
    "print('{:,}'.format(len(edges)))\n",
    "edges = edges.drop_duplicates(subset=['start_id', 'end_id', 'type'], keep='first')\n",
    "print('{:,}'.format(len(edges)))"
   ]
  },
  {
   "cell_type": "markdown",
   "metadata": {},
   "source": [
    "# Remove mapper edges"
   ]
  },
  {
   "cell_type": "markdown",
   "metadata": {},
   "source": [
    "Now that punning is complete, `subclass_of` and `encodes` edges should be removed"
   ]
  },
  {
   "cell_type": "code",
   "execution_count": 64,
   "metadata": {},
   "outputs": [
    {
     "name": "stdout",
     "output_type": "stream",
     "text": [
      "1,261,125\n",
      "1,223,823\n"
     ]
    }
   ],
   "source": [
    "drop_idx = edges.query('type == \"encodes\" or type == \"subclass_of\"').index\n",
    "\n",
    "print('{:,}'.format(len(edges)))\n",
    "edges = edges.drop(drop_idx)\n",
    "print('{:,}'.format(len(edges)))"
   ]
  },
  {
   "cell_type": "markdown",
   "metadata": {},
   "source": [
    "# Check and save..."
   ]
  },
  {
   "cell_type": "code",
   "execution_count": 65,
   "metadata": {},
   "outputs": [],
   "source": [
    "combo = combine_nodes_and_edges(nodes, edges)"
   ]
  },
  {
   "cell_type": "code",
   "execution_count": 66,
   "metadata": {},
   "outputs": [
    {
     "data": {
      "image/png": "[encoded data removed]",
      "text/plain": [
       "<Figure size 432x288 with 1 Axes>"
      ]
     },
     "metadata": {
      "needs_background": "light"
     },
     "output_type": "display_data"
    }
   ],
   "source": [
    "count_plot_h(edges['dsrc_type'])"
   ]
  },
  {
   "cell_type": "code",
   "execution_count": 67,
   "metadata": {},
   "outputs": [
    {
     "data": {
      "image/png": "[encoded data removed]",
      "text/plain": [
       "<Figure size 432x288 with 1 Axes>"
      ]
     },
     "metadata": {
      "needs_background": "light"
     },
     "output_type": "display_data"
    }
   ],
   "source": [
    "count_plot_h(edges['comp_type'])"
   ]
  },
  {
   "cell_type": "code",
   "execution_count": 68,
   "metadata": {
    "scrolled": true
   },
   "outputs": [
    {
     "data": {
      "image/png": "[encoded data removed]",
      "text/plain": [
       "<Figure size 432x288 with 1 Axes>"
      ]
     },
     "metadata": {
      "needs_background": "light"
     },
     "output_type": "display_data"
    }
   ],
   "source": [
    "count_plot_h(nodes['label'])"
   ]
  },
  {
   "cell_type": "code",
   "execution_count": 69,
   "metadata": {
    "scrolled": true
   },
   "outputs": [
    {
     "data": {
      "image/png": "[encoded data removed]",
      "text/plain": [
       "<Figure size 432x288 with 1 Axes>"
      ]
     },
     "metadata": {
      "needs_background": "light"
     },
     "output_type": "display_data"
    }
   ],
   "source": [
    "e_ids = edges[['start_id', 'end_id']].stack().values\n",
    "nodes_filt = nodes.query('id in @e_ids')\n",
    "\n",
    "count_plot_h(nodes_filt['label'])"
   ]
  },
  {
   "cell_type": "code",
   "execution_count": 70,
   "metadata": {},
   "outputs": [
    {
     "data": {
      "text/plain": [
       "35"
      ]
     },
     "execution_count": 70,
     "metadata": {},
     "output_type": "execute_result"
    }
   ],
   "source": [
    "meta_edges = combo['start_label'] + '_' + combo['type'] + '_' + combo['end_label']\n",
    "meta_edges.nunique()"
   ]
  },
  {
   "cell_type": "code",
   "execution_count": 71,
   "metadata": {},
   "outputs": [
    {
     "data": {
      "image/png": "[encoded data removed]",
      "text/plain": [
       "<Figure size 432x288 with 1 Axes>"
      ]
     },
     "metadata": {
      "needs_background": "light"
     },
     "output_type": "display_data"
    }
   ],
   "source": [
    "count_plot_h(meta_edges.value_counts().head(10))"
   ]
  },
  {
   "cell_type": "code",
   "execution_count": 72,
   "metadata": {},
   "outputs": [
    {
     "data": {
      "image/png": "[encoded data removed]",
      "text/plain": [
       "<Figure size 432x288 with 1 Axes>"
      ]
     },
     "metadata": {
      "needs_background": "light"
     },
     "output_type": "display_data"
    }
   ],
   "source": [
    "count_plot_h(meta_edges.value_counts().head(20).tail(10))"
   ]
  },
  {
   "cell_type": "code",
   "execution_count": 73,
   "metadata": {},
   "outputs": [
    {
     "data": {
      "image/png": "[encoded data removed]",
      "text/plain": [
       "<Figure size 432x288 with 1 Axes>"
      ]
     },
     "metadata": {
      "needs_background": "light"
     },
     "output_type": "display_data"
    }
   ],
   "source": [
    "count_plot_h(meta_edges.value_counts().head(30).tail(10))"
   ]
  },
  {
   "cell_type": "markdown",
   "metadata": {},
   "source": [
    "## Save the data"
   ]
  },
  {
   "cell_type": "code",
   "execution_count": 74,
   "metadata": {},
   "outputs": [],
   "source": [
    "edges['source'] = 'WikiData'\n",
    "edges['license'] = 'CC0 1.0'"
   ]
  },
  {
   "cell_type": "code",
   "execution_count": 75,
   "metadata": {},
   "outputs": [],
   "source": [
    "out_dir = Path('../results/')\n",
    "\n",
    "out_dir.mkdir(parents=True, exist_ok=True)\n",
    "\n",
    "nodes.to_csv(out_dir.joinpath('01d_nodes.csv'), index=False)\n",
    "nodes_filt.to_csv(out_dir.joinpath('01d_nodes_filt.csv'), index=False)\n",
    "edges.to_csv(out_dir.joinpath('01d_edges.csv'), index=False)"
   ]
  }
 ],
 "metadata": {
  "kernelspec": {
   "display_name": "Python 3",
   "language": "python",
   "name": "python3"
  },
  "language_info": {
   "codemirror_mode": {
    "name": "ipython",
    "version": 3
   },
   "file_extension": ".py",
   "mimetype": "text/x-python",
   "name": "python",
   "nbconvert_exporter": "python",
   "pygments_lexer": "ipython3",
   "version": "3.8.3"
  }
 },
 "nbformat": 4,
 "nbformat_minor": 2
}
