{
 "cells": [
  {
   "cell_type": "markdown",
   "id": "4561e98d",
   "metadata": {},
   "source": [
    "This is an update on [01_querying_wikidata_for_hetnet_edges.ipynb](https://github.com/SuLab/WD-rephetio-analysis/blob/v1.0/1_code/01_querying_wikidata_for_hetnet_edges.ipynb) to address the expansion in the Wikidata knowledgebase currently resulting in a timeout during SPARQL query of nodes and edges.\n",
    "\n",
    "**Input**: Anatomy, Biological Process, Cellular Component, Compounds, Disease, Genes-Pathway-Protein, Phenotype, Protein, Molecular Function\n",
    "<br>8 categories, each categorized as individual .ndjson files\n",
    "<br>[Derived from this notebook, an update of MM's metapaths](https://github.com/sabahzero/WRP/blob/main/src/archive/01a_Wikidata-Nodes.ipynb)\n",
    "\n",
    "**Output**\n",
    "ID, LABEL, name (Mike's nodes_2019-09-03.csv as an example)\n",
    "\n",
    "<br>\n",
    "<br>\n",
    "\n",
    "\n",
    "### Confirmed Checks\n",
    "- Items are correctly binned in respective files\n",
    "<br>*exception* gpp\n",
    "\n",
    "### Checks to Confirm\n",
    "- Numbers match up with what Mike had (specifically bp and mf, which should be unchanged) \n",
    "- Put a timer on how long each dataset takes to load\n",
    "- Create a table: Input category, # of item pages, time it takes to load/run, output\n",
    "- Update nodes, including separating current GPP category\n",
    "- Cross over of QIDs and duplicates (which should be which)\n",
    "- How do I pull out edges?"
   ]
  },
  {
   "cell_type": "code",
   "execution_count": 1,
   "id": "32f91ea2",
   "metadata": {},
   "outputs": [],
   "source": [
    "import pandas as pd\n",
    "\n",
    "import time \n",
    "from datetime import datetime"
   ]
  },
  {
   "cell_type": "code",
   "execution_count": 9,
   "id": "acda8b62",
   "metadata": {},
   "outputs": [
    {
     "name": "stdout",
     "output_type": "stream",
     "text": [
      "The total time of this upload is: 0.010258221626281738 minutes\n"
     ]
    },
    {
     "name": "stderr",
     "output_type": "stream",
     "text": [
      "/Users/sulhasan/opt/anaconda3/lib/python3.8/site-packages/IPython/core/interactiveshell.py:3165: DtypeWarning: Columns (3,4) have mixed types.Specify dtype option on import or set low_memory=False.\n",
      "  has_raised = await self.run_ast_nodes(code_ast.body, cell_name,\n"
     ]
    }
   ],
   "source": [
    "nodes_mike = pd.read_csv('file-examples/nodes_2019-09-03.csv')  \n",
    "edges_mike = pd.read_csv('file-examples/edges_2019-09-03.csv')  "
   ]
  },
  {
   "cell_type": "code",
   "execution_count": 24,
   "id": "25004f3c",
   "metadata": {},
   "outputs": [
    {
     "data": {
      "text/html": [
       "<div>\n",
       "<style scoped>\n",
       "    .dataframe tbody tr th:only-of-type {\n",
       "        vertical-align: middle;\n",
       "    }\n",
       "\n",
       "    .dataframe tbody tr th {\n",
       "        vertical-align: top;\n",
       "    }\n",
       "\n",
       "    .dataframe thead th {\n",
       "        text-align: right;\n",
       "    }\n",
       "</style>\n",
       "<table border=\"1\" class=\"dataframe\">\n",
       "  <thead>\n",
       "    <tr style=\"text-align: right;\">\n",
       "      <th></th>\n",
       "      <th>:ID</th>\n",
       "      <th>:LABEL</th>\n",
       "      <th>name</th>\n",
       "    </tr>\n",
       "  </thead>\n",
       "  <tbody>\n",
       "    <tr>\n",
       "      <th>0</th>\n",
       "      <td>Q4735440</td>\n",
       "      <td>Compound</td>\n",
       "      <td>alpidem</td>\n",
       "    </tr>\n",
       "    <tr>\n",
       "      <th>1</th>\n",
       "      <td>Q5983577</td>\n",
       "      <td>Compound</td>\n",
       "      <td>ibacitabine</td>\n",
       "    </tr>\n",
       "    <tr>\n",
       "      <th>2</th>\n",
       "      <td>Q221174</td>\n",
       "      <td>Compound</td>\n",
       "      <td>topiramate</td>\n",
       "    </tr>\n",
       "    <tr>\n",
       "      <th>3</th>\n",
       "      <td>Q2016367</td>\n",
       "      <td>Compound</td>\n",
       "      <td>tetraphenylborate</td>\n",
       "    </tr>\n",
       "    <tr>\n",
       "      <th>4</th>\n",
       "      <td>Q168685</td>\n",
       "      <td>Compound</td>\n",
       "      <td>fentin acetate</td>\n",
       "    </tr>\n",
       "  </tbody>\n",
       "</table>\n",
       "</div>"
      ],
      "text/plain": [
       "        :ID    :LABEL               name\n",
       "0  Q4735440  Compound            alpidem\n",
       "1  Q5983577  Compound        ibacitabine\n",
       "2   Q221174  Compound         topiramate\n",
       "3  Q2016367  Compound  tetraphenylborate\n",
       "4   Q168685  Compound     fentin acetate"
      ]
     },
     "execution_count": 24,
     "metadata": {},
     "output_type": "execute_result"
    }
   ],
   "source": [
    "nodes_mike.head()"
   ]
  },
  {
   "cell_type": "code",
   "execution_count": 11,
   "id": "e391fb37",
   "metadata": {},
   "outputs": [
    {
     "data": {
      "text/html": [
       "<div>\n",
       "<style scoped>\n",
       "    .dataframe tbody tr th:only-of-type {\n",
       "        vertical-align: middle;\n",
       "    }\n",
       "\n",
       "    .dataframe tbody tr th {\n",
       "        vertical-align: top;\n",
       "    }\n",
       "\n",
       "    .dataframe thead th {\n",
       "        text-align: right;\n",
       "    }\n",
       "</style>\n",
       "<table border=\"1\" class=\"dataframe\">\n",
       "  <thead>\n",
       "    <tr style=\"text-align: right;\">\n",
       "      <th></th>\n",
       "      <th>:START_ID</th>\n",
       "      <th>:END_ID</th>\n",
       "      <th>:TYPE</th>\n",
       "      <th>qualifier</th>\n",
       "      <th>inner1</th>\n",
       "    </tr>\n",
       "  </thead>\n",
       "  <tbody>\n",
       "    <tr>\n",
       "      <th>0</th>\n",
       "      <td>Q144085</td>\n",
       "      <td>Q412496</td>\n",
       "      <td>SIGNIFICANT_DRUG_INTERACTION_CdiC</td>\n",
       "      <td>NaN</td>\n",
       "      <td>NaN</td>\n",
       "    </tr>\n",
       "    <tr>\n",
       "      <th>1</th>\n",
       "      <td>Q3712521</td>\n",
       "      <td>Q419394</td>\n",
       "      <td>SIGNIFICANT_DRUG_INTERACTION_CdiC</td>\n",
       "      <td>NaN</td>\n",
       "      <td>NaN</td>\n",
       "    </tr>\n",
       "    <tr>\n",
       "      <th>2</th>\n",
       "      <td>Q410061</td>\n",
       "      <td>Q417597</td>\n",
       "      <td>SIGNIFICANT_DRUG_INTERACTION_CdiC</td>\n",
       "      <td>NaN</td>\n",
       "      <td>NaN</td>\n",
       "    </tr>\n",
       "    <tr>\n",
       "      <th>3</th>\n",
       "      <td>Q174259</td>\n",
       "      <td>Q7739</td>\n",
       "      <td>SIGNIFICANT_DRUG_INTERACTION_CdiC</td>\n",
       "      <td>NaN</td>\n",
       "      <td>NaN</td>\n",
       "    </tr>\n",
       "    <tr>\n",
       "      <th>4</th>\n",
       "      <td>Q3791612</td>\n",
       "      <td>Q41576</td>\n",
       "      <td>SIGNIFICANT_DRUG_INTERACTION_CdiC</td>\n",
       "      <td>NaN</td>\n",
       "      <td>NaN</td>\n",
       "    </tr>\n",
       "  </tbody>\n",
       "</table>\n",
       "</div>"
      ],
      "text/plain": [
       "  :START_ID  :END_ID                              :TYPE qualifier inner1\n",
       "0   Q144085  Q412496  SIGNIFICANT_DRUG_INTERACTION_CdiC       NaN    NaN\n",
       "1  Q3712521  Q419394  SIGNIFICANT_DRUG_INTERACTION_CdiC       NaN    NaN\n",
       "2   Q410061  Q417597  SIGNIFICANT_DRUG_INTERACTION_CdiC       NaN    NaN\n",
       "3   Q174259    Q7739  SIGNIFICANT_DRUG_INTERACTION_CdiC       NaN    NaN\n",
       "4  Q3791612   Q41576  SIGNIFICANT_DRUG_INTERACTION_CdiC       NaN    NaN"
      ]
     },
     "execution_count": 11,
     "metadata": {},
     "output_type": "execute_result"
    }
   ],
   "source": [
    "edges_mike.head() # qualifier NaN (both head and tail)"
   ]
  },
  {
   "cell_type": "code",
   "execution_count": 12,
   "id": "e7774e48",
   "metadata": {},
   "outputs": [
    {
     "data": {
      "text/html": [
       "<div>\n",
       "<style scoped>\n",
       "    .dataframe tbody tr th:only-of-type {\n",
       "        vertical-align: middle;\n",
       "    }\n",
       "\n",
       "    .dataframe tbody tr th {\n",
       "        vertical-align: top;\n",
       "    }\n",
       "\n",
       "    .dataframe thead th {\n",
       "        text-align: right;\n",
       "    }\n",
       "</style>\n",
       "<table border=\"1\" class=\"dataframe\">\n",
       "  <thead>\n",
       "    <tr style=\"text-align: right;\">\n",
       "      <th></th>\n",
       "      <th>:START_ID</th>\n",
       "      <th>:END_ID</th>\n",
       "      <th>:TYPE</th>\n",
       "      <th>qualifier</th>\n",
       "      <th>inner1</th>\n",
       "    </tr>\n",
       "  </thead>\n",
       "  <tbody>\n",
       "    <tr>\n",
       "      <th>614760</th>\n",
       "      <td>Q21112306</td>\n",
       "      <td>Q14878358</td>\n",
       "      <td>UP_REGULATES_GuBP</td>\n",
       "      <td>NaN</td>\n",
       "      <td>Q14761970</td>\n",
       "    </tr>\n",
       "    <tr>\n",
       "      <th>614761</th>\n",
       "      <td>Q21111886</td>\n",
       "      <td>Q14864067</td>\n",
       "      <td>UP_REGULATES_GuBP</td>\n",
       "      <td>NaN</td>\n",
       "      <td>Q14863719</td>\n",
       "    </tr>\n",
       "    <tr>\n",
       "      <th>614762</th>\n",
       "      <td>Q11705457</td>\n",
       "      <td>Q14864067</td>\n",
       "      <td>UP_REGULATES_GuBP</td>\n",
       "      <td>NaN</td>\n",
       "      <td>Q14863719</td>\n",
       "    </tr>\n",
       "    <tr>\n",
       "      <th>614763</th>\n",
       "      <td>Q423701</td>\n",
       "      <td>Q14878358</td>\n",
       "      <td>UP_REGULATES_GuBP</td>\n",
       "      <td>NaN</td>\n",
       "      <td>Q14761970</td>\n",
       "    </tr>\n",
       "    <tr>\n",
       "      <th>614764</th>\n",
       "      <td>Q3616234</td>\n",
       "      <td>Q14878358</td>\n",
       "      <td>UP_REGULATES_GuBP</td>\n",
       "      <td>NaN</td>\n",
       "      <td>Q14761970</td>\n",
       "    </tr>\n",
       "  </tbody>\n",
       "</table>\n",
       "</div>"
      ],
      "text/plain": [
       "        :START_ID    :END_ID              :TYPE qualifier     inner1\n",
       "614760  Q21112306  Q14878358  UP_REGULATES_GuBP       NaN  Q14761970\n",
       "614761  Q21111886  Q14864067  UP_REGULATES_GuBP       NaN  Q14863719\n",
       "614762  Q11705457  Q14864067  UP_REGULATES_GuBP       NaN  Q14863719\n",
       "614763    Q423701  Q14878358  UP_REGULATES_GuBP       NaN  Q14761970\n",
       "614764   Q3616234  Q14878358  UP_REGULATES_GuBP       NaN  Q14761970"
      ]
     },
     "execution_count": 12,
     "metadata": {},
     "output_type": "execute_result"
    }
   ],
   "source": [
    "edges_mike.tail()"
   ]
  },
  {
   "cell_type": "code",
   "execution_count": 2,
   "id": "26de8f54",
   "metadata": {},
   "outputs": [
    {
     "name": "stdout",
     "output_type": "stream",
     "text": [
      "The total time of this query is: 30.015519579251606 minutes\n"
     ]
    }
   ],
   "source": [
    "# Create time stamp\n",
    "timeStringNow = datetime.now().strftime(\"+%Y-%m-%dT00:00:00Z\") \n",
    "start_time = time.time()\n",
    "\n",
    "# Read files into memory\n",
    "anatomy = pd.read_json('files-Jan112022/anatomy.ndjson', lines=True) # Anatomy\n",
    "bp = pd.read_json('files-Jan112022/biologicalprocess.ndjson', lines=True) # Biological Process\n",
    "cc = pd.read_json('files-Jan112022/cellularcomponent.ndjson', lines=True) # Cellular Component\n",
    "compounds = pd.read_json('files-Jan112022/compounds.ndjson', lines=True) # Compounds (large)\n",
    "disease = pd.read_json('files-Jan112022/disease.ndjson', lines=True) # Disease \n",
    "gpp = pd.read_json('files-Jan112022/genes-pathway-protein.ndjson', lines=True) # Genes, Pathways, Proteins (large)\n",
    "mf = pd.read_json('files-Jan112022/molecularfunction.ndjson', lines=True) # Molecular Function\n",
    "phenotype = pd.read_json('files-Jan112022/phenotype.ndjson', lines=True) # Phenotype\n",
    "\n",
    "# Output and print when query is complete\n",
    "end_time = time.time() \n",
    "print(\"The total time of this upload is:\", (end_time - start_time)/60, \"minutes\") # 27 min"
   ]
  },
  {
   "cell_type": "code",
   "execution_count": 39,
   "id": "5756a047",
   "metadata": {},
   "outputs": [
    {
     "name": "stdout",
     "output_type": "stream",
     "text": [
      "The total time of this upload is: 14.67608863512675 minutes\n"
     ]
    }
   ],
   "source": [
    "# Create time stamp\n",
    "timeStringNow = datetime.now().strftime(\"+%Y-%m-%dT00:00:00Z\") \n",
    "start_time = time.time()\n",
    "\n",
    "# Read files into memory\n",
    "anatomy = pd.read_json('files-Jan112022/anatomy.ndjson', lines=True) # Anatomy\n",
    "bp = pd.read_json('files-Jan112022/biologicalprocess.ndjson', lines=True) # Biological Process\n",
    "cc = pd.read_json('files-Jan112022/cellularcomponent.ndjson', lines=True) # Cellular Component\n",
    "disease = pd.read_json('files-Jan112022/disease.ndjson', lines=True) # Disease \n",
    "mf = pd.read_json('files-Jan112022/molecularfunction.ndjson', lines=True) # Molecular Function\n",
    "phenotype = pd.read_json('files-Jan112022/phenotype.ndjson', lines=True) # Phenotype\n",
    "\n",
    "# Output and print when query is complete\n",
    "end_time = time.time() \n",
    "print(\"The total time of this upload is:\", (end_time - start_time)/60, \"minutes\") # 15 min"
   ]
  },
  {
   "cell_type": "code",
   "execution_count": 3,
   "id": "04fd0223",
   "metadata": {},
   "outputs": [
    {
     "data": {
      "text/html": [
       "<div>\n",
       "<style scoped>\n",
       "    .dataframe tbody tr th:only-of-type {\n",
       "        vertical-align: middle;\n",
       "    }\n",
       "\n",
       "    .dataframe tbody tr th {\n",
       "        vertical-align: top;\n",
       "    }\n",
       "\n",
       "    .dataframe thead th {\n",
       "        text-align: right;\n",
       "    }\n",
       "</style>\n",
       "<table border=\"1\" class=\"dataframe\">\n",
       "  <thead>\n",
       "    <tr style=\"text-align: right;\">\n",
       "      <th></th>\n",
       "      <th>type</th>\n",
       "      <th>id</th>\n",
       "      <th>labels</th>\n",
       "      <th>descriptions</th>\n",
       "      <th>aliases</th>\n",
       "      <th>claims</th>\n",
       "      <th>sitelinks</th>\n",
       "      <th>lastrevid</th>\n",
       "    </tr>\n",
       "  </thead>\n",
       "  <tbody>\n",
       "    <tr>\n",
       "      <th>0</th>\n",
       "      <td>item</td>\n",
       "      <td>Q27205</td>\n",
       "      <td>{'zh': {'language': 'zh', 'value': '纖維蛋白'}, 'e...</td>\n",
       "      <td>{'id': {'language': 'id', 'value': 'protein'},...</td>\n",
       "      <td>{'zh': [{'language': 'zh', 'value': '血纖蛋白'}, {...</td>\n",
       "      <td>{'P508': [{'mainsnak': {'snaktype': 'value', '...</td>\n",
       "      <td>{'zhwiki': {'site': 'zhwiki', 'title': '纖維蛋白',...</td>\n",
       "      <td>1441196849</td>\n",
       "    </tr>\n",
       "    <tr>\n",
       "      <th>1</th>\n",
       "      <td>item</td>\n",
       "      <td>Q43656</td>\n",
       "      <td>{'zh': {'language': 'zh', 'value': '膽固醇'}, 'ky...</td>\n",
       "      <td>{'it': {'language': 'it', 'value': 'molecola l...</td>\n",
       "      <td>{'jv': [{'language': 'jv', 'value': 'Koléstêro...</td>\n",
       "      <td>{'P373': [{'mainsnak': {'snaktype': 'value', '...</td>\n",
       "      <td>{'sqwiki': {'site': 'sqwiki', 'title': 'Kolest...</td>\n",
       "      <td>1446745797</td>\n",
       "    </tr>\n",
       "    <tr>\n",
       "      <th>2</th>\n",
       "      <td>item</td>\n",
       "      <td>Q49546</td>\n",
       "      <td>{'ar': {'language': 'ar', 'value': 'أسيتون'}, ...</td>\n",
       "      <td>{'ru': {'language': 'ru', 'value': 'простейший...</td>\n",
       "      <td>{'it': [{'language': 'it', 'value': 'Dimetilch...</td>\n",
       "      <td>{'P1579': [{'mainsnak': {'snaktype': 'value', ...</td>\n",
       "      <td>{'commonswiki': {'site': 'commonswiki', 'title...</td>\n",
       "      <td>1442159222</td>\n",
       "    </tr>\n",
       "    <tr>\n",
       "      <th>3</th>\n",
       "      <td>item</td>\n",
       "      <td>Q63398</td>\n",
       "      <td>{'fr': {'language': 'fr', 'value': 'Secrétoneu...</td>\n",
       "      <td>{'en': {'language': 'en', 'value': 'mammalian ...</td>\n",
       "      <td>{'en': [{'language': 'en', 'value': 'CHGB'}, {...</td>\n",
       "      <td>{'P352': [{'mainsnak': {'snaktype': 'value', '...</td>\n",
       "      <td>{}</td>\n",
       "      <td>1306060411</td>\n",
       "    </tr>\n",
       "    <tr>\n",
       "      <th>4</th>\n",
       "      <td>item</td>\n",
       "      <td>Q105522</td>\n",
       "      <td>{'zh-hans': {'language': 'zh-hans', 'value': '...</td>\n",
       "      <td>{'it': {'language': 'it', 'value': 'il prodott...</td>\n",
       "      <td>{'he': [{'language': 'he', 'value': 'חומצה אור...</td>\n",
       "      <td>{'P31': [{'mainsnak': {'snaktype': 'value', 'p...</td>\n",
       "      <td>{'enwiki': {'site': 'enwiki', 'title': 'Uric a...</td>\n",
       "      <td>1444543825</td>\n",
       "    </tr>\n",
       "  </tbody>\n",
       "</table>\n",
       "</div>"
      ],
      "text/plain": [
       "   type       id                                             labels  \\\n",
       "0  item   Q27205  {'zh': {'language': 'zh', 'value': '纖維蛋白'}, 'e...   \n",
       "1  item   Q43656  {'zh': {'language': 'zh', 'value': '膽固醇'}, 'ky...   \n",
       "2  item   Q49546  {'ar': {'language': 'ar', 'value': 'أسيتون'}, ...   \n",
       "3  item   Q63398  {'fr': {'language': 'fr', 'value': 'Secrétoneu...   \n",
       "4  item  Q105522  {'zh-hans': {'language': 'zh-hans', 'value': '...   \n",
       "\n",
       "                                        descriptions  \\\n",
       "0  {'id': {'language': 'id', 'value': 'protein'},...   \n",
       "1  {'it': {'language': 'it', 'value': 'molecola l...   \n",
       "2  {'ru': {'language': 'ru', 'value': 'простейший...   \n",
       "3  {'en': {'language': 'en', 'value': 'mammalian ...   \n",
       "4  {'it': {'language': 'it', 'value': 'il prodott...   \n",
       "\n",
       "                                             aliases  \\\n",
       "0  {'zh': [{'language': 'zh', 'value': '血纖蛋白'}, {...   \n",
       "1  {'jv': [{'language': 'jv', 'value': 'Koléstêro...   \n",
       "2  {'it': [{'language': 'it', 'value': 'Dimetilch...   \n",
       "3  {'en': [{'language': 'en', 'value': 'CHGB'}, {...   \n",
       "4  {'he': [{'language': 'he', 'value': 'חומצה אור...   \n",
       "\n",
       "                                              claims  \\\n",
       "0  {'P508': [{'mainsnak': {'snaktype': 'value', '...   \n",
       "1  {'P373': [{'mainsnak': {'snaktype': 'value', '...   \n",
       "2  {'P1579': [{'mainsnak': {'snaktype': 'value', ...   \n",
       "3  {'P352': [{'mainsnak': {'snaktype': 'value', '...   \n",
       "4  {'P31': [{'mainsnak': {'snaktype': 'value', 'p...   \n",
       "\n",
       "                                           sitelinks   lastrevid  \n",
       "0  {'zhwiki': {'site': 'zhwiki', 'title': '纖維蛋白',...  1441196849  \n",
       "1  {'sqwiki': {'site': 'sqwiki', 'title': 'Kolest...  1446745797  \n",
       "2  {'commonswiki': {'site': 'commonswiki', 'title...  1442159222  \n",
       "3                                                 {}  1306060411  \n",
       "4  {'enwiki': {'site': 'enwiki', 'title': 'Uric a...  1444543825  "
      ]
     },
     "execution_count": 3,
     "metadata": {},
     "output_type": "execute_result"
    }
   ],
   "source": [
    "gpp.head() # protein and chemical compounds"
   ]
  },
  {
   "cell_type": "code",
   "execution_count": 4,
   "id": "53e85c0f",
   "metadata": {},
   "outputs": [
    {
     "data": {
      "text/html": [
       "<div>\n",
       "<style scoped>\n",
       "    .dataframe tbody tr th:only-of-type {\n",
       "        vertical-align: middle;\n",
       "    }\n",
       "\n",
       "    .dataframe tbody tr th {\n",
       "        vertical-align: top;\n",
       "    }\n",
       "\n",
       "    .dataframe thead th {\n",
       "        text-align: right;\n",
       "    }\n",
       "</style>\n",
       "<table border=\"1\" class=\"dataframe\">\n",
       "  <thead>\n",
       "    <tr style=\"text-align: right;\">\n",
       "      <th></th>\n",
       "      <th>type</th>\n",
       "      <th>id</th>\n",
       "      <th>labels</th>\n",
       "      <th>descriptions</th>\n",
       "      <th>aliases</th>\n",
       "      <th>claims</th>\n",
       "      <th>sitelinks</th>\n",
       "      <th>lastrevid</th>\n",
       "    </tr>\n",
       "  </thead>\n",
       "  <tbody>\n",
       "    <tr>\n",
       "      <th>45200</th>\n",
       "      <td>item</td>\n",
       "      <td>Q36804479</td>\n",
       "      <td>{'en': {'language': 'en', 'value': 'Transcript...</td>\n",
       "      <td>{'en': {'language': 'en', 'value': 'An instanc...</td>\n",
       "      <td>{}</td>\n",
       "      <td>{'P2860': [{'mainsnak': {'snaktype': 'value', ...</td>\n",
       "      <td>{}</td>\n",
       "      <td>1403180928</td>\n",
       "    </tr>\n",
       "    <tr>\n",
       "      <th>45201</th>\n",
       "      <td>item</td>\n",
       "      <td>Q36804509</td>\n",
       "      <td>{'en': {'language': 'en', 'value': 'PCBP4 modu...</td>\n",
       "      <td>{'en': {'language': 'en', 'value': 'An instanc...</td>\n",
       "      <td>{}</td>\n",
       "      <td>{'P2860': [{'mainsnak': {'snaktype': 'value', ...</td>\n",
       "      <td>{}</td>\n",
       "      <td>1403061521</td>\n",
       "    </tr>\n",
       "    <tr>\n",
       "      <th>45202</th>\n",
       "      <td>item</td>\n",
       "      <td>Q36811970</td>\n",
       "      <td>{'en': {'language': 'en', 'value': 'Chk1/Chk2(...</td>\n",
       "      <td>{'en': {'language': 'en', 'value': 'An instanc...</td>\n",
       "      <td>{}</td>\n",
       "      <td>{'P361': [{'mainsnak': {'snaktype': 'value', '...</td>\n",
       "      <td>{}</td>\n",
       "      <td>1403059511</td>\n",
       "    </tr>\n",
       "    <tr>\n",
       "      <th>45203</th>\n",
       "      <td>item</td>\n",
       "      <td>Q36813090</td>\n",
       "      <td>{'en': {'language': 'en', 'value': 'Loading of...</td>\n",
       "      <td>{'en': {'language': 'en', 'value': 'An instanc...</td>\n",
       "      <td>{}</td>\n",
       "      <td>{'P703': [{'mainsnak': {'snaktype': 'value', '...</td>\n",
       "      <td>{}</td>\n",
       "      <td>1403306911</td>\n",
       "    </tr>\n",
       "    <tr>\n",
       "      <th>45204</th>\n",
       "      <td>item</td>\n",
       "      <td>Q36813105</td>\n",
       "      <td>{'en': {'language': 'en', 'value': 'GTSE1 bind...</td>\n",
       "      <td>{'en': {'language': 'en', 'value': 'An instanc...</td>\n",
       "      <td>{}</td>\n",
       "      <td>{'P703': [{'mainsnak': {'snaktype': 'value', '...</td>\n",
       "      <td>{}</td>\n",
       "      <td>1403112327</td>\n",
       "    </tr>\n",
       "  </tbody>\n",
       "</table>\n",
       "</div>"
      ],
      "text/plain": [
       "       type         id                                             labels  \\\n",
       "45200  item  Q36804479  {'en': {'language': 'en', 'value': 'Transcript...   \n",
       "45201  item  Q36804509  {'en': {'language': 'en', 'value': 'PCBP4 modu...   \n",
       "45202  item  Q36811970  {'en': {'language': 'en', 'value': 'Chk1/Chk2(...   \n",
       "45203  item  Q36813090  {'en': {'language': 'en', 'value': 'Loading of...   \n",
       "45204  item  Q36813105  {'en': {'language': 'en', 'value': 'GTSE1 bind...   \n",
       "\n",
       "                                            descriptions aliases  \\\n",
       "45200  {'en': {'language': 'en', 'value': 'An instanc...      {}   \n",
       "45201  {'en': {'language': 'en', 'value': 'An instanc...      {}   \n",
       "45202  {'en': {'language': 'en', 'value': 'An instanc...      {}   \n",
       "45203  {'en': {'language': 'en', 'value': 'An instanc...      {}   \n",
       "45204  {'en': {'language': 'en', 'value': 'An instanc...      {}   \n",
       "\n",
       "                                                  claims sitelinks   lastrevid  \n",
       "45200  {'P2860': [{'mainsnak': {'snaktype': 'value', ...        {}  1403180928  \n",
       "45201  {'P2860': [{'mainsnak': {'snaktype': 'value', ...        {}  1403061521  \n",
       "45202  {'P361': [{'mainsnak': {'snaktype': 'value', '...        {}  1403059511  \n",
       "45203  {'P703': [{'mainsnak': {'snaktype': 'value', '...        {}  1403306911  \n",
       "45204  {'P703': [{'mainsnak': {'snaktype': 'value', '...        {}  1403112327  "
      ]
     },
     "execution_count": 4,
     "metadata": {},
     "output_type": "execute_result"
    }
   ],
   "source": [
    "gpp.tail() # pathway, bp, ??? gene ???"
   ]
  },
  {
   "cell_type": "code",
   "execution_count": 15,
   "id": "5415c8db",
   "metadata": {},
   "outputs": [
    {
     "name": "stdout",
     "output_type": "stream",
     "text": [
      "The total time of this upload is: 0.02764338254928589 minutes\n"
     ]
    }
   ],
   "source": [
    "# http://files.hpc.weso.es/\n",
    "bp_andra = pd.read_json('file-examples/result_biological_process.json', orient=str) # Biological Process\n",
    "mf_andra = pd.read_json('file-examples/result_molecular_funcion.json', orient=str) # Molecular Function"
   ]
  },
  {
   "cell_type": "code",
   "execution_count": 16,
   "id": "f7f0dc72",
   "metadata": {},
   "outputs": [
    {
     "data": {
      "text/html": [
       "<div>\n",
       "<style scoped>\n",
       "    .dataframe tbody tr th:only-of-type {\n",
       "        vertical-align: middle;\n",
       "    }\n",
       "\n",
       "    .dataframe tbody tr th {\n",
       "        vertical-align: top;\n",
       "    }\n",
       "\n",
       "    .dataframe thead th {\n",
       "        text-align: right;\n",
       "    }\n",
       "</style>\n",
       "<table border=\"1\" class=\"dataframe\">\n",
       "  <thead>\n",
       "    <tr style=\"text-align: right;\">\n",
       "      <th></th>\n",
       "    </tr>\n",
       "  </thead>\n",
       "  <tbody>\n",
       "  </tbody>\n",
       "</table>\n",
       "</div>"
      ],
      "text/plain": [
       "Empty DataFrame\n",
       "Columns: []\n",
       "Index: []"
      ]
     },
     "execution_count": 16,
     "metadata": {},
     "output_type": "execute_result"
    }
   ],
   "source": [
    "bp_andra.head() # empty (contacted Andra) -- check back with Andra on Monday"
   ]
  },
  {
   "cell_type": "markdown",
   "id": "ca2d2549",
   "metadata": {},
   "source": [
    "### Comparison of data to Andra and Mike (bp and mf should be ~identical across, anatomy as test)"
   ]
  },
  {
   "cell_type": "code",
   "execution_count": 21,
   "id": "401944d8",
   "metadata": {},
   "outputs": [
    {
     "name": "stdout",
     "output_type": "stream",
     "text": [
      "10940 - Andra (wdsub)\n",
      "4096 - Me (WDF, P31:Q14860489)\n"
     ]
    }
   ],
   "source": [
    "print(len(mf_andra), \"- Andra (wdsub)\",)\n",
    "print(len(mf), \"- Me (WDF, P31:Q14860489)\") # I'm closer to this number for Mike, but still low\n",
    "\n",
    "# adjust categories"
   ]
  },
  {
   "cell_type": "code",
   "execution_count": 31,
   "id": "e2f3c566",
   "metadata": {},
   "outputs": [
    {
     "data": {
      "text/plain": [
       "Biological Process           24718\n",
       "Gene                         23737\n",
       "Protein Family               10406\n",
       "Compound                      8557\n",
       "Disease                       8302\n",
       "Protein Domain                5230\n",
       "Molecular Function            4397\n",
       "Biological Pathway            2461\n",
       "Sequence Variant              1835\n",
       "Cellular Component            1785\n",
       "Chemical Hazard                687\n",
       "Super-Secondary Structure      663\n",
       "Chemical Role                  499\n",
       "Symptom                        228\n",
       "Anatomical Structure           218\n",
       "Active Site                    114\n",
       "Structural Motif               109\n",
       "Medical Specialty               69\n",
       "Binding Site                    69\n",
       "Name: :LABEL, dtype: int64"
      ]
     },
     "execution_count": 31,
     "metadata": {},
     "output_type": "execute_result"
    }
   ],
   "source": [
    "nodes_mike[':LABEL'].value_counts() # 19 categories"
   ]
  },
  {
   "cell_type": "code",
   "execution_count": 34,
   "id": "eb9c03b3",
   "metadata": {},
   "outputs": [
    {
     "name": "stdout",
     "output_type": "stream",
     "text": [
      "14171 - Me (WDF, P31:Q2996394)\n",
      "540 - Me (WDF, P1402)\n"
     ]
    }
   ],
   "source": [
    "print(len(bp), \"- Me (WDF, P31:Q2996394)\") \n",
    "print(len(anatomy), \"- Me (WDF, P1402)\")\n",
    "\n",
    "# Note Mike had 2508 here... https://github.com/mmayers12/metapaths/blob/main/1_code/01a_WikiData_Nodes.ipynb"
   ]
  },
  {
   "cell_type": "markdown",
   "id": "194657c3",
   "metadata": {},
   "source": [
    "### Convert each to category csv and compile"
   ]
  },
  {
   "cell_type": "code",
   "execution_count": 38,
   "id": "f8fea46a",
   "metadata": {},
   "outputs": [
    {
     "ename": "ParserError",
     "evalue": "Error tokenizing data. C error: Expected 3 fields in line 545, saw 5\n",
     "output_type": "error",
     "traceback": [
      "\u001b[0;31m---------------------------------------------------------------------------\u001b[0m",
      "\u001b[0;31mParserError\u001b[0m                               Traceback (most recent call last)",
      "\u001b[0;32m<ipython-input-38-28533156fbfc>\u001b[0m in \u001b[0;36m<module>\u001b[0;34m\u001b[0m\n\u001b[1;32m     12\u001b[0m \u001b[0mcsvFile\u001b[0m\u001b[0;34m.\u001b[0m\u001b[0mclose\u001b[0m\u001b[0;34m(\u001b[0m\u001b[0;34m)\u001b[0m\u001b[0;34m\u001b[0m\u001b[0;34m\u001b[0m\u001b[0m\n\u001b[1;32m     13\u001b[0m \u001b[0;34m\u001b[0m\u001b[0m\n\u001b[0;32m---> 14\u001b[0;31m \u001b[0mcsvdf\u001b[0m \u001b[0;34m=\u001b[0m \u001b[0mpd\u001b[0m\u001b[0;34m.\u001b[0m\u001b[0mread_csv\u001b[0m\u001b[0;34m(\u001b[0m\u001b[0;34m'nodes.csv'\u001b[0m\u001b[0;34m)\u001b[0m\u001b[0;34m\u001b[0m\u001b[0;34m\u001b[0m\u001b[0m\n\u001b[0m\u001b[1;32m     15\u001b[0m \u001b[0mcsvdf\u001b[0m\u001b[0;34m.\u001b[0m\u001b[0mhead\u001b[0m\u001b[0;34m(\u001b[0m\u001b[0;34m)\u001b[0m\u001b[0;34m\u001b[0m\u001b[0;34m\u001b[0m\u001b[0m\n\u001b[1;32m     16\u001b[0m \u001b[0;34m\u001b[0m\u001b[0m\n",
      "\u001b[0;32m~/opt/anaconda3/lib/python3.8/site-packages/pandas/io/parsers.py\u001b[0m in \u001b[0;36mread_csv\u001b[0;34m(filepath_or_buffer, sep, delimiter, header, names, index_col, usecols, squeeze, prefix, mangle_dupe_cols, dtype, engine, converters, true_values, false_values, skipinitialspace, skiprows, skipfooter, nrows, na_values, keep_default_na, na_filter, verbose, skip_blank_lines, parse_dates, infer_datetime_format, keep_date_col, date_parser, dayfirst, cache_dates, iterator, chunksize, compression, thousands, decimal, lineterminator, quotechar, quoting, doublequote, escapechar, comment, encoding, dialect, error_bad_lines, warn_bad_lines, delim_whitespace, low_memory, memory_map, float_precision, storage_options)\u001b[0m\n\u001b[1;32m    608\u001b[0m     \u001b[0mkwds\u001b[0m\u001b[0;34m.\u001b[0m\u001b[0mupdate\u001b[0m\u001b[0;34m(\u001b[0m\u001b[0mkwds_defaults\u001b[0m\u001b[0;34m)\u001b[0m\u001b[0;34m\u001b[0m\u001b[0;34m\u001b[0m\u001b[0m\n\u001b[1;32m    609\u001b[0m \u001b[0;34m\u001b[0m\u001b[0m\n\u001b[0;32m--> 610\u001b[0;31m     \u001b[0;32mreturn\u001b[0m \u001b[0m_read\u001b[0m\u001b[0;34m(\u001b[0m\u001b[0mfilepath_or_buffer\u001b[0m\u001b[0;34m,\u001b[0m \u001b[0mkwds\u001b[0m\u001b[0;34m)\u001b[0m\u001b[0;34m\u001b[0m\u001b[0;34m\u001b[0m\u001b[0m\n\u001b[0m\u001b[1;32m    611\u001b[0m \u001b[0;34m\u001b[0m\u001b[0m\n\u001b[1;32m    612\u001b[0m \u001b[0;34m\u001b[0m\u001b[0m\n",
      "\u001b[0;32m~/opt/anaconda3/lib/python3.8/site-packages/pandas/io/parsers.py\u001b[0m in \u001b[0;36m_read\u001b[0;34m(filepath_or_buffer, kwds)\u001b[0m\n\u001b[1;32m    466\u001b[0m \u001b[0;34m\u001b[0m\u001b[0m\n\u001b[1;32m    467\u001b[0m     \u001b[0;32mwith\u001b[0m \u001b[0mparser\u001b[0m\u001b[0;34m:\u001b[0m\u001b[0;34m\u001b[0m\u001b[0;34m\u001b[0m\u001b[0m\n\u001b[0;32m--> 468\u001b[0;31m         \u001b[0;32mreturn\u001b[0m \u001b[0mparser\u001b[0m\u001b[0;34m.\u001b[0m\u001b[0mread\u001b[0m\u001b[0;34m(\u001b[0m\u001b[0mnrows\u001b[0m\u001b[0;34m)\u001b[0m\u001b[0;34m\u001b[0m\u001b[0;34m\u001b[0m\u001b[0m\n\u001b[0m\u001b[1;32m    469\u001b[0m \u001b[0;34m\u001b[0m\u001b[0m\n\u001b[1;32m    470\u001b[0m \u001b[0;34m\u001b[0m\u001b[0m\n",
      "\u001b[0;32m~/opt/anaconda3/lib/python3.8/site-packages/pandas/io/parsers.py\u001b[0m in \u001b[0;36mread\u001b[0;34m(self, nrows)\u001b[0m\n\u001b[1;32m   1055\u001b[0m     \u001b[0;32mdef\u001b[0m \u001b[0mread\u001b[0m\u001b[0;34m(\u001b[0m\u001b[0mself\u001b[0m\u001b[0;34m,\u001b[0m \u001b[0mnrows\u001b[0m\u001b[0;34m=\u001b[0m\u001b[0;32mNone\u001b[0m\u001b[0;34m)\u001b[0m\u001b[0;34m:\u001b[0m\u001b[0;34m\u001b[0m\u001b[0;34m\u001b[0m\u001b[0m\n\u001b[1;32m   1056\u001b[0m         \u001b[0mnrows\u001b[0m \u001b[0;34m=\u001b[0m \u001b[0mvalidate_integer\u001b[0m\u001b[0;34m(\u001b[0m\u001b[0;34m\"nrows\"\u001b[0m\u001b[0;34m,\u001b[0m \u001b[0mnrows\u001b[0m\u001b[0;34m)\u001b[0m\u001b[0;34m\u001b[0m\u001b[0;34m\u001b[0m\u001b[0m\n\u001b[0;32m-> 1057\u001b[0;31m         \u001b[0mindex\u001b[0m\u001b[0;34m,\u001b[0m \u001b[0mcolumns\u001b[0m\u001b[0;34m,\u001b[0m \u001b[0mcol_dict\u001b[0m \u001b[0;34m=\u001b[0m \u001b[0mself\u001b[0m\u001b[0;34m.\u001b[0m\u001b[0m_engine\u001b[0m\u001b[0;34m.\u001b[0m\u001b[0mread\u001b[0m\u001b[0;34m(\u001b[0m\u001b[0mnrows\u001b[0m\u001b[0;34m)\u001b[0m\u001b[0;34m\u001b[0m\u001b[0;34m\u001b[0m\u001b[0m\n\u001b[0m\u001b[1;32m   1058\u001b[0m \u001b[0;34m\u001b[0m\u001b[0m\n\u001b[1;32m   1059\u001b[0m         \u001b[0;32mif\u001b[0m \u001b[0mindex\u001b[0m \u001b[0;32mis\u001b[0m \u001b[0;32mNone\u001b[0m\u001b[0;34m:\u001b[0m\u001b[0;34m\u001b[0m\u001b[0;34m\u001b[0m\u001b[0m\n",
      "\u001b[0;32m~/opt/anaconda3/lib/python3.8/site-packages/pandas/io/parsers.py\u001b[0m in \u001b[0;36mread\u001b[0;34m(self, nrows)\u001b[0m\n\u001b[1;32m   2059\u001b[0m     \u001b[0;32mdef\u001b[0m \u001b[0mread\u001b[0m\u001b[0;34m(\u001b[0m\u001b[0mself\u001b[0m\u001b[0;34m,\u001b[0m \u001b[0mnrows\u001b[0m\u001b[0;34m=\u001b[0m\u001b[0;32mNone\u001b[0m\u001b[0;34m)\u001b[0m\u001b[0;34m:\u001b[0m\u001b[0;34m\u001b[0m\u001b[0;34m\u001b[0m\u001b[0m\n\u001b[1;32m   2060\u001b[0m         \u001b[0;32mtry\u001b[0m\u001b[0;34m:\u001b[0m\u001b[0;34m\u001b[0m\u001b[0;34m\u001b[0m\u001b[0m\n\u001b[0;32m-> 2061\u001b[0;31m             \u001b[0mdata\u001b[0m \u001b[0;34m=\u001b[0m \u001b[0mself\u001b[0m\u001b[0;34m.\u001b[0m\u001b[0m_reader\u001b[0m\u001b[0;34m.\u001b[0m\u001b[0mread\u001b[0m\u001b[0;34m(\u001b[0m\u001b[0mnrows\u001b[0m\u001b[0;34m)\u001b[0m\u001b[0;34m\u001b[0m\u001b[0;34m\u001b[0m\u001b[0m\n\u001b[0m\u001b[1;32m   2062\u001b[0m         \u001b[0;32mexcept\u001b[0m \u001b[0mStopIteration\u001b[0m\u001b[0;34m:\u001b[0m\u001b[0;34m\u001b[0m\u001b[0;34m\u001b[0m\u001b[0m\n\u001b[1;32m   2063\u001b[0m             \u001b[0;32mif\u001b[0m \u001b[0mself\u001b[0m\u001b[0;34m.\u001b[0m\u001b[0m_first_chunk\u001b[0m\u001b[0;34m:\u001b[0m\u001b[0;34m\u001b[0m\u001b[0;34m\u001b[0m\u001b[0m\n",
      "\u001b[0;32mpandas/_libs/parsers.pyx\u001b[0m in \u001b[0;36mpandas._libs.parsers.TextReader.read\u001b[0;34m()\u001b[0m\n",
      "\u001b[0;32mpandas/_libs/parsers.pyx\u001b[0m in \u001b[0;36mpandas._libs.parsers.TextReader._read_low_memory\u001b[0;34m()\u001b[0m\n",
      "\u001b[0;32mpandas/_libs/parsers.pyx\u001b[0m in \u001b[0;36mpandas._libs.parsers.TextReader._read_rows\u001b[0;34m()\u001b[0m\n",
      "\u001b[0;32mpandas/_libs/parsers.pyx\u001b[0m in \u001b[0;36mpandas._libs.parsers.TextReader._tokenize_rows\u001b[0;34m()\u001b[0m\n",
      "\u001b[0;32mpandas/_libs/parsers.pyx\u001b[0m in \u001b[0;36mpandas._libs.parsers.raise_parser_error\u001b[0;34m()\u001b[0m\n",
      "\u001b[0;31mParserError\u001b[0m: Error tokenizing data. C error: Expected 3 fields in line 545, saw 5\n"
     ]
    }
   ],
   "source": [
    "# Subset from .ndjson, need to manually label (convert to csv I can then append)\n",
    "### Make sure identitical to Mike's doc for terms (see above output)\n",
    "\n",
    "# compile them and come back to it later\n",
    "\n",
    "## Anatomy \n",
    "csvFile = open('nodes.csv', 'w')\n",
    "\n",
    "for index, row in anatomy.iterrows():\n",
    "    print(row[\"id\"]+\",Anatomy,\"+row[\"labels\"][\"en\"][\"value\"], file = csvFile)\n",
    "    \n",
    "    \n",
    "for index, row in bp.iterrows():\n",
    "    print(row[\"id\"]+\",Biological Process,\"+row[\"labels\"][\"en\"][\"value\"], file = csvFile)\n",
    "    \n",
    "csvFile.close()\n",
    "\n",
    "csvdf = pd.read_csv('nodes.csv')\n",
    "csvdf.head()\n",
    "\n",
    "## Biological Process\n",
    "\n",
    "\n",
    "\n",
    "## Cellular Component\n",
    "\n",
    "## Compound\n",
    "\n",
    "## Disease\n",
    "\n",
    "## Genes-Pathway-Protein\n",
    "\n",
    "## Phenotype **not in rephetio**\n",
    "\n",
    "## Protein **not in rephetio**\n",
    "\n",
    "## Molecular Function\n"
   ]
  },
  {
   "cell_type": "code",
   "execution_count": null,
   "id": "cab42cea",
   "metadata": {},
   "outputs": [],
   "source": [
    "#edges"
   ]
  },
  {
   "cell_type": "markdown",
   "id": "7bec95cf",
   "metadata": {},
   "source": [
    "### Input\n",
    "19 categories (Rephetio): Biological Process, Gene, Protein Family, Compound, Disease, Protein Domain, Molecular Function, Biological Pathway, Sequence Variant, Cellular Component, Chemical Hazard, Super-Secondary Structure, Chemical Role, Symptom, Anatomical Structure, Active Site, Structural Motif, Medical Specialty, Binding Site <br>\n",
    "\n",
    "2. [16 categories](https://github.com/SuLab/WD-rephetio-analysis/blob/v1.0/1_code/01_querying_wikidata_for_hetnet_edges.ipynb) for nodes.csv: Active Site, Anatomical Structure, Biological Pathway, Biological Process, Binding Site, Chemical Hazard, Chemical Role, Cellular Component, Compound,  Disease, Gene, Medical Specialty, Molecular Function, Protein Domain, Protein Family, Sequence Variant, Super-Secondary Structure Structural Motif, Symptom <br> **need to check if this is 16 or 18**\n",
    "3. [25 categories](http://files.hpc.weso.es/): Active Site, Anatomical Structure, Binding Site, Biological Pathway, Biological Process, Chemical Compound, Chromosome, Cities, Disease, Mechanism of Action, Medication, Molecular Function (spelling), Pharmaceutical Product, Pharmalogical Action, Protein, Protein Domain, Protein Family, Ribosomal RNA, Sequence Variant, Subclass Anatomical Structure, Subclass Binding Site, Supersecondary Structure, Symptom, Taxon, Therapeutic Use \n",
    "\n"
   ]
  },
  {
   "cell_type": "markdown",
   "id": "a481193c",
   "metadata": {},
   "source": [
    "### Checks\n",
    "- Are there duplicates in Mike's code for QID, and can I resolve this directly with the json?\n",
    "- All node and edge categories transferred\n",
    "\n",
    "### Steps\n",
    "1. Data dump (.json) of all relevant biomedical entitites using WDF (Comparison of wdsub of WDumper to be determined)\n",
    "2. \n",
    "\n",
    "### To Do\n",
    "- Check that all item pages correspond to csv rows\n",
    "- Include edges\n",
    "- Translate over to WD Rephetio Analysis (Friday)\n",
    "- Visualize"
   ]
  },
  {
   "cell_type": "code",
   "execution_count": 13,
   "id": "71237afa",
   "metadata": {},
   "outputs": [
    {
     "name": "stdout",
     "output_type": "stream",
     "text": [
      "[{'mainsnak': {'snaktype': 'value', 'property': 'P31', 'datavalue': {'value': {'entity-type': 'item', 'numeric-id': 103914748, 'id': 'Q103914748'}, 'type': 'wikibase-entityid'}, 'datatype': 'wikibase-item'}, 'type': 'statement', 'id': 'Q7365$9390cb25-44c7-917c-7086-35e9c02f962b', 'rank': 'normal'}]\n"
     ]
    },
    {
     "ename": "NameError",
     "evalue": "name 'sys' is not defined",
     "output_type": "error",
     "traceback": [
      "\u001b[0;31m---------------------------------------------------------------------------\u001b[0m",
      "\u001b[0;31mNameError\u001b[0m                                 Traceback (most recent call last)",
      "\u001b[0;32m<ipython-input-13-8636b8526ab2>\u001b[0m in \u001b[0;36m<module>\u001b[0;34m\u001b[0m\n\u001b[1;32m      1\u001b[0m \u001b[0;32mfor\u001b[0m \u001b[0mindex\u001b[0m\u001b[0;34m,\u001b[0m \u001b[0mrow\u001b[0m \u001b[0;32min\u001b[0m \u001b[0mdf\u001b[0m\u001b[0;34m.\u001b[0m\u001b[0miterrows\u001b[0m\u001b[0;34m(\u001b[0m\u001b[0;34m)\u001b[0m\u001b[0;34m:\u001b[0m\u001b[0;34m\u001b[0m\u001b[0;34m\u001b[0m\u001b[0m\n\u001b[1;32m      2\u001b[0m     \u001b[0mprint\u001b[0m\u001b[0;34m(\u001b[0m\u001b[0mrow\u001b[0m\u001b[0;34m[\u001b[0m\u001b[0;34m\"claims\"\u001b[0m\u001b[0;34m]\u001b[0m\u001b[0;34m[\u001b[0m\u001b[0;34m\"P31\"\u001b[0m\u001b[0;34m]\u001b[0m\u001b[0;34m)\u001b[0m\u001b[0;34m\u001b[0m\u001b[0;34m\u001b[0m\u001b[0m\n\u001b[0;32m----> 3\u001b[0;31m     \u001b[0msys\u001b[0m\u001b[0;34m.\u001b[0m\u001b[0mexit\u001b[0m\u001b[0;34m(\u001b[0m\u001b[0;34m)\u001b[0m\u001b[0;34m\u001b[0m\u001b[0;34m\u001b[0m\u001b[0m\n\u001b[0m",
      "\u001b[0;31mNameError\u001b[0m: name 'sys' is not defined"
     ]
    }
   ],
   "source": [
    "for index, row in df.iterrows():\n",
    "    print(row[\"claims\"][\"P31\"])\n",
    "    sys.exit()"
   ]
  },
  {
   "cell_type": "code",
   "execution_count": 4,
   "id": "fbf8b874",
   "metadata": {},
   "outputs": [
    {
     "name": "stdout",
     "output_type": "stream",
     "text": [
      "Data type of each column of Dataframe :\n",
      "type            object\n",
      "id              object\n",
      "labels          object\n",
      "descriptions    object\n",
      "aliases         object\n",
      "claims          object\n",
      "sitelinks       object\n",
      "lastrevid        int64\n",
      "dtype: object\n"
     ]
    }
   ],
   "source": [
    "dataTypeSeries = df.dtypes\n",
    "\n",
    "print('Data type of each column of Dataframe :')\n",
    "print(dataTypeSeries)"
   ]
  },
  {
   "cell_type": "code",
   "execution_count": 20,
   "id": "original-cradle",
   "metadata": {},
   "outputs": [
    {
     "ename": "TypeError",
     "evalue": "write() argument must be str, not bytes",
     "output_type": "error",
     "traceback": [
      "\u001b[0;31m---------------------------------------------------------------------------\u001b[0m",
      "\u001b[0;31mTypeError\u001b[0m                                 Traceback (most recent call last)",
      "\u001b[0;32m<ipython-input-20-6dbedfdb3d02>\u001b[0m in \u001b[0;36m<module>\u001b[0;34m\u001b[0m\n\u001b[1;32m      3\u001b[0m \u001b[0moutfilename\u001b[0m \u001b[0;34m=\u001b[0m \u001b[0;34m'biohackathon-prefilter.csv.gz'\u001b[0m\u001b[0;34m\u001b[0m\u001b[0;34m\u001b[0m\u001b[0m\n\u001b[1;32m      4\u001b[0m \u001b[0;32mwith\u001b[0m \u001b[0mgzip\u001b[0m\u001b[0;34m.\u001b[0m\u001b[0mopen\u001b[0m\u001b[0;34m(\u001b[0m\u001b[0moutfilename\u001b[0m\u001b[0;34m,\u001b[0m \u001b[0;34m'wt'\u001b[0m\u001b[0;34m)\u001b[0m \u001b[0;32mas\u001b[0m \u001b[0mf\u001b[0m\u001b[0;34m:\u001b[0m\u001b[0;34m\u001b[0m\u001b[0;34m\u001b[0m\u001b[0m\n\u001b[0;32m----> 5\u001b[0;31m     \u001b[0mf\u001b[0m\u001b[0;34m.\u001b[0m\u001b[0mwrite\u001b[0m\u001b[0;34m(\u001b[0m\u001b[0;34m\":ID,:LABEL,name\\n\"\u001b[0m\u001b[0;34m.\u001b[0m\u001b[0mencode\u001b[0m\u001b[0;34m(\u001b[0m\u001b[0;34m\"UTF-8\"\u001b[0m\u001b[0;34m)\u001b[0m\u001b[0;34m)\u001b[0m\u001b[0;34m\u001b[0m\u001b[0;34m\u001b[0m\u001b[0m\n\u001b[0m\u001b[1;32m      6\u001b[0m     \u001b[0;32mfor\u001b[0m \u001b[0mitem\u001b[0m \u001b[0;32min\u001b[0m \u001b[0mj\u001b[0m\u001b[0;34m:\u001b[0m\u001b[0;34m\u001b[0m\u001b[0;34m\u001b[0m\u001b[0m\n\u001b[1;32m      7\u001b[0m         \u001b[0mcsvline\u001b[0m \u001b[0;34m=\u001b[0m \u001b[0mitem\u001b[0m\u001b[0;34m[\u001b[0m\u001b[0;34m\"id\"\u001b[0m\u001b[0;34m]\u001b[0m\u001b[0;34m+\u001b[0m\u001b[0;34m\",Compound,\"\u001b[0m\u001b[0;34m+\u001b[0m\u001b[0mitem\u001b[0m\u001b[0;34m[\u001b[0m\u001b[0;34m\"labels\"\u001b[0m\u001b[0;34m]\u001b[0m\u001b[0;34m[\u001b[0m\u001b[0;34m\"en\"\u001b[0m\u001b[0;34m]\u001b[0m\u001b[0;34m[\u001b[0m\u001b[0;34m\"value\"\u001b[0m\u001b[0;34m]\u001b[0m\u001b[0;34m+\u001b[0m\u001b[0;34m\"\\n\"\u001b[0m\u001b[0;34m\u001b[0m\u001b[0;34m\u001b[0m\u001b[0m\n",
      "\u001b[0;31mTypeError\u001b[0m: write() argument must be str, not bytes"
     ]
    }
   ],
   "source": [
    "\n",
    "import os\n",
    "\n",
    "outfilename = 'biohackathon-prefilter.csv.gz'\n",
    "with gzip.open(outfilename, 'wt') as f:\n",
    "    f.write(\":ID,:LABEL,name\\n\".encode(\"UTF-8\"))\n",
    "    for item in j:\n",
    "        csvline = item[\"id\"]+\",Compound,\"+item[\"labels\"][\"en\"][\"value\"]+\"\\n\"\n",
    "        f.write(csvline.encode(\"UTF-8\"))"
   ]
  },
  {
   "cell_type": "code",
   "execution_count": null,
   "id": "worldwide-airplane",
   "metadata": {},
   "outputs": [],
   "source": []
  }
 ],
 "metadata": {
  "kernelspec": {
   "display_name": "Python 3",
   "language": "python",
   "name": "python3"
  },
  "language_info": {
   "codemirror_mode": {
    "name": "ipython",
    "version": 3
   },
   "file_extension": ".py",
   "mimetype": "text/x-python",
   "name": "python",
   "nbconvert_exporter": "python",
   "pygments_lexer": "ipython3",
   "version": "3.8.8"
  }
 },
 "nbformat": 4,
 "nbformat_minor": 5
}
